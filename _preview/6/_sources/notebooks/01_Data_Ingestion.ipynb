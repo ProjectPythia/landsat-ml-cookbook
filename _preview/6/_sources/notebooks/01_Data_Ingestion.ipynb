{
 "cells": [
  {
   "cell_type": "markdown",
   "metadata": {},
   "source": [
    "<p style=\"text-align: center\">\n",
    "<img src=\"./images/landsat_8_rend-sm1.png\" width=250 alt=\"Landsat 8\"></img>\n",
    "</p>"
   ]
  },
  {
   "cell_type": "markdown",
   "metadata": {},
   "source": [
    "# Data Ingestion"
   ]
  },
  {
   "cell_type": "markdown",
   "metadata": {},
   "source": [
    "---"
   ]
  },
  {
   "cell_type": "markdown",
   "metadata": {},
   "source": [
    "## Overview\n",
    "\n",
    "In this cookbook, you will access, process, analyze, and visualize satellite data in the context of example machine learning workflows. Machine learning tasks often involve a lot of data, and in Python, data is typically stored in memory as simple [NumPy](https://foundations.projectpythia.org/core/numpy.html) arrays. However, higher-level containers built on top of NumPy arrays provide more functionality for tabular data ([Pandas](http://pandas.pydata.org)), multidimensional gridded data ([xarray](http://xarray.pydata.org)), or out-of-core and distributed data ([Dask](http://dask.pydata.org)).\n",
    "\n",
    "Likely, your approach to data access will depend not only on the intended analysis, but on features of the data, such as size and location. First, to demonstrate simple cases, we will begin by reading in a local files with Pandas and xarray. Then, as many earth science datasets are large, gridded, and stored on remote servers, we will demonstrate the combined use of [Intake](https://intake.readthedocs.io) and Dask libraries to efficiently fetch data.\n",
    "\n",
    "Throughout this cookbook, we will use [HoloViz](https://holoviz.org/) visualization tools, such as [hvPlot](https://hvplot.holoviz.org/), [GeoViews](https://geoviews.org/), and [Datashader](https://datashader.org/), to efficiently explore and interact with the data at different steps in the pipeline."
   ]
  },
  {
   "cell_type": "markdown",
   "metadata": {},
   "source": [
    "## Prerequisites\n",
    "\n",
    "| Concepts | Importance | Notes |\n",
    "| --- | --- | --- |\n",
    "| [Pandas](https://foundations.projectpythia.org/core/pandas.html) | Helpful |  |\n",
    "| [xarray](https://foundations.projectpythia.org/core/xarray.html) | Necessary |  |\n",
    "| [Intake](https://intake.readthedocs.io/en/latest/index.html) | Necessary |  |\n",
    "|[Intake Cookbook](https://projectpythia.org/intake-cookbook/README.html)| Helpful | |\n",
    "\n",
    "- **Time to learn**: 20 minutes"
   ]
  },
  {
   "cell_type": "markdown",
   "metadata": {},
   "source": [
    "---"
   ]
  },
  {
   "cell_type": "markdown",
   "metadata": {},
   "source": [
    "## Imports"
   ]
  },
  {
   "cell_type": "code",
   "execution_count": null,
   "metadata": {},
   "outputs": [],
   "source": [
    "import pandas as pd\n",
    "import xarray as xr\n",
    "import intake\n",
    "import hvplot.intake\n",
    "import hvplot.xarray\n",
    "\n",
    "import warnings\n",
    "# Ignore a warning about the format of epsg codes\n",
    "warnings.simplefilter('ignore', FutureWarning)"
   ]
  },
  {
   "cell_type": "markdown",
   "metadata": {},
   "source": [
    "## About Landsat data"
   ]
  },
  {
   "cell_type": "markdown",
   "metadata": {},
   "source": [
    "Before we dive into loading the data, let's review some of the key points about the dataset to build our intuition as we move toward processing and analysis."
   ]
  },
  {
   "cell_type": "markdown",
   "metadata": {},
   "source": [
    "The data in this cookbook come from the [Landsat](https://en.wikipedia.org/wiki/Landsat_program) program, which is the longest record of moderate resolution multispectral data of the Earth’s surface. This program has launched several different satellites spanning many years which are designated as Landsat 1-9. In this cookbook, we will use data from Landsat 5 and Landsat 8. Landsat 5 was launched in 1984 and retired in 2013, while Landsat 8 was launched in 2013 and will likely continue through at least mid 2023. \n",
    "\n",
    "<p style=\"text-align: center\">\n",
    "<img src = \"images/landsat_timeline.png\">\n",
    "</p>\n",
    "<p style=\"text-align: center\">\n",
    "Source: USGS - <a href=\"https://www.usgs.gov/landsat-missions/landsat-satellite-missions?qt-science_support_page_related_con=2#qt-science_support_page_related_con\">USGS Landsat Timeline</a>\n",
    "</p>\n",
    "\n",
    "\n",
    "Landsat images are available from multiple sources and in different versions that have various levels of processing applied. However, a core aspect of this data is the use of different wavelength-bands to capture multiple images of the same area - together providing much more information than a single image alone. This provides us with a stack of images for each region that we might be interested, and therefore the first three dimensions for each chunk of data consist of the spatial coordinates (x and y) and the wavelength-band. Additionally, we also have a time dimension, as we will consider a stack of images from different years to look at the change in the water level around [Walker Lake](https://de.wikipedia.org/wiki/Walker_Lake) in Nevada, USA.\n",
    "\n"
   ]
  },
  {
   "cell_type": "markdown",
   "metadata": {},
   "source": [
    "## Loading small and local data with Pandas"
   ]
  },
  {
   "cell_type": "markdown",
   "metadata": {},
   "source": [
    "Now that we understand a bit about the context of the data, we'll start with the simple case of loading small local tabular data, such as a couple `.csv` files into Pandas Dataframes. "
   ]
  },
  {
   "cell_type": "markdown",
   "metadata": {},
   "source": [
    "First, let's load the Landsat 5 bands:"
   ]
  },
  {
   "cell_type": "code",
   "execution_count": null,
   "metadata": {},
   "outputs": [],
   "source": [
    "landsat5_bands = pd.read_csv('data/landsat5_bands.csv').set_index('Band')\n",
    "landsat5_bands"
   ]
  },
  {
   "cell_type": "markdown",
   "metadata": {},
   "source": [
    "Now let's take a look at the relevant subset of Landsat 8 bands: "
   ]
  },
  {
   "cell_type": "code",
   "execution_count": null,
   "metadata": {},
   "outputs": [],
   "source": [
    "landsat8_bands = pd.read_csv('data/landsat8_bands.csv').set_index('Band')\n",
    "landsat8_bands"
   ]
  },
  {
   "cell_type": "markdown",
   "metadata": {},
   "source": [
    "Interestingly, we can see that the bands differ somewhat between the satellites. For example, 'Red' is Band-4 within Landsat 8, but Band-3 within Landsat 5. This will be important later on when we want to use the same bands from the different datasets."
   ]
  },
  {
   "cell_type": "markdown",
   "metadata": {},
   "source": [
    "## Loading small and local data with xarray"
   ]
  },
  {
   "cell_type": "markdown",
   "metadata": {},
   "source": [
    "Although initiatives are underway to enhance cloud-based data workflows, at some point, it will likely be the case that you will have some local gridded data that you want to load and preview without much fuss. For this simple case, it makes sense to use an appropriately simple API. Using xarray and hvplot, we can quickly complete this task of previewing a [netCDF](https://foundations.projectpythia.org/core/data-formats/netcdf-cf.html) file.\n",
    "\n",
    "**TODO: demonstrate hvplot.explorer when released**"
   ]
  },
  {
   "cell_type": "code",
   "execution_count": null,
   "metadata": {},
   "outputs": [],
   "source": [
    "landsat_5_crop = xr.open_dataarray('data/landsat5_crop.nc')"
   ]
  },
  {
   "cell_type": "code",
   "execution_count": null,
   "metadata": {},
   "outputs": [],
   "source": [
    "landsat_5_crop"
   ]
  },
  {
   "cell_type": "code",
   "execution_count": null,
   "metadata": {},
   "outputs": [],
   "source": [
    "landsat_5_crop_image = landsat_5_crop.hvplot.image(geo=True, tiles='ESRI', alpha=.7)\n",
    "landsat_5_crop_image"
   ]
  },
  {
   "cell_type": "markdown",
   "metadata": {},
   "source": [
    "This image is just a cropped portion of a Landsat tile, solely for demonstration of xarray loading. Passing `geo=True` to [hvPlot](https://hvplot.holoviz.org/user_guide/Geographic_Data.html) will plot the data in a geographic coordinate system, allowing us to use the `tiles` option to overlay the plot on top of map tiles."
   ]
  },
  {
   "cell_type": "markdown",
   "metadata": {},
   "source": [
    "## Loading data of any size and location using Intake"
   ]
  },
  {
   "cell_type": "markdown",
   "metadata": {},
   "source": [
    "Earth science data is often complex, so it's a good idea to become familiar with an approach that can handle data of nearly any size and location, even if your current data files are local. For this reason, we will demonstrate a couple different approaches of the [Intake](https://intake.readthedocs.io) library. \n",
    "\n",
    "First, we will start with a simpler case of reading the same local tabular file as above with Pandas. Then we will progressively cover more complex cases, such as loading multiple files and loading gridded data from a remote location with an Intake catalog."
   ]
  },
  {
   "cell_type": "code",
   "execution_count": null,
   "metadata": {},
   "outputs": [],
   "source": [
    "training = intake.open_csv('./data/landsat5_bands.csv')"
   ]
  },
  {
   "cell_type": "markdown",
   "metadata": {},
   "source": [
    "Importantly, the data is not loaded yet. So far we only have the metadata:"
   ]
  },
  {
   "cell_type": "code",
   "execution_count": null,
   "metadata": {},
   "outputs": [],
   "source": [
    "training"
   ]
  },
  {
   "cell_type": "markdown",
   "metadata": {},
   "source": [
    "We can also peak at what format the data will be in when it gets loaded using `.container`:"
   ]
  },
  {
   "cell_type": "code",
   "execution_count": null,
   "metadata": {},
   "outputs": [],
   "source": [
    "training.container"
   ]
  },
  {
   "cell_type": "markdown",
   "metadata": {},
   "source": [
    "Now, to get better insight into the data without loading it all in just yet, we can inspect the data using `.to_dask()`. You could also use `.read_chunked()` to return an iterator over the chunks (or partitions) of data. Refer to the ['Reading Data'](https://intake.readthedocs.io/en/latest/quickstart.html?highlight=read_chunked#reading-data) Intake documentation for more information about these options."
   ]
  },
  {
   "cell_type": "code",
   "execution_count": null,
   "metadata": {},
   "outputs": [],
   "source": [
    "training_dd = training.to_dask()\n",
    "training_dd.head()"
   ]
  },
  {
   "cell_type": "code",
   "execution_count": null,
   "metadata": {},
   "outputs": [],
   "source": [
    "training_dd.info()"
   ]
  },
  {
   "cell_type": "markdown",
   "metadata": {},
   "source": [
    "Notice that now running `.info()` gives us a lot less information than when we loaded the data earlier using `pd.read_csv`, this is because the `Dask` representation of the data only loads what it needs, when it is needed for a computation. However, you can always explicitly load all the data into memory using `.read()` (but be careful to only run this on a dataset that will fit on your computer's memory). Our sample dataset is very small, so let's try it:"
   ]
  },
  {
   "cell_type": "code",
   "execution_count": null,
   "metadata": {},
   "outputs": [],
   "source": [
    "training_df = training.read()\n",
    "training_df.info()"
   ]
  },
  {
   "cell_type": "markdown",
   "metadata": {},
   "source": [
    "### Loading multiple local files"
   ]
  },
  {
   "cell_type": "markdown",
   "metadata": {},
   "source": [
    "Intake also lets the user load and concatenate data across multiple files in one command"
   ]
  },
  {
   "cell_type": "code",
   "execution_count": null,
   "metadata": {},
   "outputs": [],
   "source": [
    "training = intake.open_csv(['./data/landsat5_bands.csv', './data/landsat8_bands.csv'])"
   ]
  },
  {
   "cell_type": "markdown",
   "metadata": {},
   "source": [
    "If the data file names allow, this can be more simply expressed using `*`:"
   ]
  },
  {
   "cell_type": "code",
   "execution_count": null,
   "metadata": {},
   "outputs": [],
   "source": [
    "training = intake.open_csv('./data/landsat*_bands.csv')"
   ]
  },
  {
   "cell_type": "code",
   "execution_count": null,
   "metadata": {},
   "outputs": [],
   "source": [
    "training_df = training.read()\n",
    "training_df.info()"
   ]
  },
  {
   "cell_type": "markdown",
   "metadata": {},
   "source": [
    "But sometimes there is data encoded in a file name or path that causes concatenated data to lose some important context. In this example, we lose the information about which version of landsat the training was done on (5 vs 8). To keep track of that information, we can use a [python format string](https://docs.python.org/3/library/string.html#format-string-syntax) `{variable:type}` to specify our path and declare a new field on our data. That field will get populated based on its value in the path."
   ]
  },
  {
   "cell_type": "code",
   "execution_count": null,
   "metadata": {},
   "outputs": [],
   "source": [
    "training = intake.open_csv('./data/landsat{Landsat:d}_bands.csv')\n",
    "training_df = training.read().set_index(['Landsat', 'Band'])\n",
    "training_df"
   ]
  },
  {
   "cell_type": "markdown",
   "metadata": {},
   "source": [
    "### Loading remote data with a catalog"
   ]
  },
  {
   "cell_type": "markdown",
   "metadata": {},
   "source": [
    "Probably the most versatile and reproducible approach to loading data with Intake is to use a simple Catalog file to declare how the data should be loaded. The catalog lays out how the data should be loaded, defines some metadata, and specifies any patterns in the file path that should be included in the data. Here is an example of an entry in a catalog YAML file:"
   ]
  },
  {
   "cell_type": "markdown",
   "metadata": {},
   "source": [
    "``` yaml\n",
    "sources:\n",
    "  landsat_5_small:\n",
    "    description: Small version of Landsat 5 Surface Reflectance Level-2 Science Product.\n",
    "    driver: rasterio\n",
    "    cache:\n",
    "      - argkey: urlpath\n",
    "        regex: 'earth-data/landsat'\n",
    "        type: file\n",
    "    args:\n",
    "      urlpath: 's3://earth-data/landsat/small/LT05_L1TP_042033_19881022_20161001_01_T1_sr_band{band:d}.tif'\n",
    "      chunks:\n",
    "        band: 1\n",
    "        x: 50\n",
    "        y: 50\n",
    "      concat_dim: band\n",
    "      storage_options: {'anon': True}\n",
    "```"
   ]
  },
  {
   "cell_type": "markdown",
   "metadata": {},
   "source": [
    "The `urlpath` can be a path to a file, list of files, or a path with [glob](https://en.wikipedia.org/wiki/Glob_(programming)) notation. Alternatively, the path can be written as a python style [format_string](https://docs.python.org/3/library/string.html#format-string-syntax). In the case where the `urlpath` is a format string (for example, `{band:d}`), the fields specified in that string will be parsed from the filenames and returned in the data."
   ]
  },
  {
   "cell_type": "markdown",
   "metadata": {},
   "source": [
    "Let's look at what our catalog contains using `open_catalog`:"
   ]
  },
  {
   "cell_type": "code",
   "execution_count": null,
   "metadata": {},
   "outputs": [],
   "source": [
    "cat = intake.open_catalog('./data/catalog.yml')\n",
    "list(cat)"
   ]
  },
  {
   "cell_type": "markdown",
   "metadata": {},
   "source": [
    "Here, we see a list of datasets specified by the catalog.yml file. Lets's look at a `description` and the `urlpath` for one of them:"
   ]
  },
  {
   "cell_type": "code",
   "execution_count": null,
   "metadata": {},
   "outputs": [],
   "source": [
    "landsat_5 = cat.landsat_5_small"
   ]
  },
  {
   "cell_type": "code",
   "execution_count": null,
   "metadata": {},
   "outputs": [],
   "source": [
    "landsat_5.description"
   ]
  },
  {
   "cell_type": "code",
   "execution_count": null,
   "metadata": {},
   "outputs": [],
   "source": [
    "landsat_5.container"
   ]
  },
  {
   "cell_type": "markdown",
   "metadata": {},
   "source": [
    "From `.container` we can see that ultimately the data will be an xarray object"
   ]
  },
  {
   "cell_type": "code",
   "execution_count": null,
   "metadata": {},
   "outputs": [],
   "source": [
    "landsat_5.urlpath"
   ]
  },
  {
   "cell_type": "markdown",
   "metadata": {},
   "source": [
    "From the `urlpath` we can see that this dataset is hosted remotely on Amazon S3"
   ]
  },
  {
   "cell_type": "markdown",
   "metadata": {},
   "source": [
    "Let's preview this dataset using `.to_dask()`."
   ]
  },
  {
   "cell_type": "code",
   "execution_count": null,
   "metadata": {},
   "outputs": [],
   "source": [
    "landsat_5 = cat.landsat_5_small\n",
    "landsat_5.to_dask()"
   ]
  },
  {
   "cell_type": "markdown",
   "metadata": {},
   "source": [
    "From this information we can see that there are three dimensions with coordinates `x`, `y`, and `band`. This is satellite data where the `x` and `y` are spatial earth coordinates and the `band` refers to the wavelength range of light used to capture the satellite image."
   ]
  },
  {
   "cell_type": "markdown",
   "metadata": {
    "tags": []
   },
   "source": [
    "### Visualizing the data"
   ]
  },
  {
   "cell_type": "markdown",
   "metadata": {},
   "source": [
    "Often, data ingestion involves quickly visualizing your raw data to get a sense that things are proceeding accordingly. You have already seen how we can easily use [hvPlot](https://hvplot.pyviz.org/) for bare xarray data, but hvPlot also provides interactive plotting commands for Intake, Pandas, Dask, and GeoPandas objects. We'll look more closely at hvPlot and its options in later tutorials.\n",
    "\n",
    "For now, let's just plot out our different band images as columns (using `col='band'`). We can also set `rasterize=True` to use [Datashader](https://datashader.org/) (another HoloViz tool) to render large data into a 2D histogram, where every array cell counts the data points falling into that pixel, as set by the resolution of your screen."
   ]
  },
  {
   "cell_type": "code",
   "execution_count": null,
   "metadata": {},
   "outputs": [],
   "source": [
    "landsat_5.hvplot.image(col='band', cmap='viridis', xaxis=False, yaxis=False, colorbar=False, rasterize=True)"
   ]
  },
  {
   "cell_type": "markdown",
   "metadata": {},
   "source": [
    "Hint: Try zooming in on one plot to see that they are all linked!"
   ]
  },
  {
   "cell_type": "markdown",
   "metadata": {},
   "source": [
    "If we increase the complexity a bit and consider the likely situation where you are constantly loading and visualizing a similar type of data using an Intake catalog, you can instead just declare plotting parameters directly into the catalog!"
   ]
  },
  {
   "cell_type": "markdown",
   "metadata": {},
   "source": [
    "Here is the relevant part of our `catalog.yml`:\n",
    "\n",
    "``` yaml\n",
    "metadata:\n",
    "  plots:\n",
    "    band_image:\n",
    "      kind: 'image'\n",
    "      x: 'x'\n",
    "      y: 'y'\n",
    "      groupby: 'band'\n",
    "      rasterize: True\n",
    "      width: 400\n",
    "      dynamic: False\n",
    "```"
   ]
  },
  {
   "cell_type": "code",
   "execution_count": null,
   "metadata": {
    "tags": []
   },
   "outputs": [],
   "source": [
    "landsat_5 = cat.landsat_5_small\n",
    "landsat_5.to_dask()"
   ]
  },
  {
   "cell_type": "code",
   "execution_count": null,
   "metadata": {},
   "outputs": [],
   "source": [
    "landsat_5.hvplot.band_image()"
   ]
  },
  {
   "cell_type": "markdown",
   "metadata": {},
   "source": [
    "Excellent! Since we didn't specify that the images should to be plotted as columns, hvPlot conveniently gives us a widget to scrub through them."
   ]
  },
  {
   "cell_type": "markdown",
   "metadata": {},
   "source": [
    "---"
   ]
  },
  {
   "cell_type": "markdown",
   "metadata": {
    "tags": []
   },
   "source": [
    "## Side-note: Drilling down for data access"
   ]
  },
  {
   "cell_type": "markdown",
   "metadata": {},
   "source": [
    "As part of accessing data, it's important to understand how to drill down to different representations of our data that certain processing steps might require. As we saw earlier, Dask only loads the data into memory when it really needs it for a computation or when you explicitly ask, so let's go ahead and ask."
   ]
  },
  {
   "cell_type": "markdown",
   "metadata": {},
   "source": [
    "### Xarray DataArray"
   ]
  },
  {
   "cell_type": "markdown",
   "metadata": {},
   "source": [
    "If the data are small enough, we can use the `.read()` method to read all the data into a regular `xarray.DataArray`. This method returns all the data into one in-memory container. Once in an `xarray` object the data can be more easily manipulated and visualized."
   ]
  },
  {
   "cell_type": "code",
   "execution_count": null,
   "metadata": {},
   "outputs": [],
   "source": [
    "landsat_5_xda = landsat_5.read()\n",
    "type(landsat_5_xda)"
   ]
  },
  {
   "cell_type": "code",
   "execution_count": null,
   "metadata": {},
   "outputs": [],
   "source": [
    "landsat_5_xda.head(3)"
   ]
  },
  {
   "cell_type": "markdown",
   "metadata": {},
   "source": [
    "### Numpy Array"
   ]
  },
  {
   "cell_type": "markdown",
   "metadata": {},
   "source": [
    "Under the hood, this xarray object is essentially comprised of NumPy arrays with the addition of coordinate labels (and [other superpowers](https://docs.xarray.dev/en/latest/getting-started-guide/why-xarray.html)). Sometimes, machine learning tools (e.g. [scikit-learn](https://scikit-learn.org/stable/)) accept NumPy arrays as input. These arrays are accessible to us from the xarray DataArray objects by using the `.values` attribute."
   ]
  },
  {
   "cell_type": "code",
   "execution_count": null,
   "metadata": {},
   "outputs": [],
   "source": [
    "landsat_5_npa = landsat_5_xda.values\n",
    "type(landsat_5_npa)"
   ]
  },
  {
   "cell_type": "code",
   "execution_count": null,
   "metadata": {},
   "outputs": [],
   "source": [
    "landsat_5_npa.shape"
   ]
  },
  {
   "cell_type": "code",
   "execution_count": null,
   "metadata": {},
   "outputs": [],
   "source": [
    "landsat_5_npa[:3, :3, :3]"
   ]
  },
  {
   "cell_type": "markdown",
   "metadata": {},
   "source": [
    "## Summary\n",
    "Before accessing any data, it's a good idea to start by learning about the context and details of the dataset. This will give you the intuition to make informed decisions as you form a processing and analysis pipeline. Once you have identified a dataset to use, tailor the data access approach given the features of the data, such as size and location. If your data is local and small, a reliable approach is to access the data with either Pandas or xarray, depending on whether the data is tabular or gridded. As earth science data is often large, multidimensional, and on a remote server, a powerful and increasingly common approach is to use the combination of Intake, Dask, and xarray. Once you have accessed data, visualize it with hvPlot to ensure that it matches your expectations.\n",
    "\n",
    "### What's next?\n",
    "After loading the data, you will typically need to process it in some way before it can be fed into a machine learning pipeline. We will cover an example of such processing in the next section."
   ]
  },
  {
   "cell_type": "markdown",
   "metadata": {},
   "source": [
    "## Resources and references\n",
    "- Authored/adapted by Demetris Roumis circa Dec, 2022\n",
    "- This cookbook was inspired by the [EarthML](https://github.com/pyviz-topics/EarthML) tutorial. See a list of the EarthML contributors [here](https://github.com/pyviz-topics/EarthML/graphs/contributors).\n",
    "- The landsat timeline image is originally from [USGS](https://www.usgs.gov/landsat-missions/landsat-satellite-missions?qt-science_support_page_related_con=2) but discovered through [earthsciencedata.org](https://www.earthdatascience.org/courses/use-data-open-source-python/multispectral-remote-sensing/landsat-in-Python/)\n",
    "- The landsat 8 banner image is from [NASA](https://svs.gsfc.nasa.gov/10812)\n"
   ]
  }
 ],
 "metadata": {
  "kernelspec": {
   "display_name": "Python 3 (ipykernel)",
   "language": "python",
   "name": "python3"
  },
  "language_info": {
   "codemirror_mode": {
    "name": "ipython",
    "version": 3
   },
   "file_extension": ".py",
   "mimetype": "text/x-python",
   "name": "python",
   "nbconvert_exporter": "python",
   "pygments_lexer": "ipython3",
   "version": "3.10.8"
  },
  "nbdime-conflicts": {
   "local_diff": [
    {
     "diff": [
      {
       "diff": [
        {
         "key": 0,
         "op": "addrange",
         "valuelist": [
          "Python 3"
         ]
        },
        {
         "key": 0,
         "length": 1,
         "op": "removerange"
        }
       ],
       "key": "display_name",
       "op": "patch"
      }
     ],
     "key": "kernelspec",
     "op": "patch"
    }
   ],
   "remote_diff": [
    {
     "diff": [
      {
       "diff": [
        {
         "key": 0,
         "op": "addrange",
         "valuelist": [
          "Python3"
         ]
        },
        {
         "key": 0,
         "length": 1,
         "op": "removerange"
        }
       ],
       "key": "display_name",
       "op": "patch"
      }
     ],
     "key": "kernelspec",
     "op": "patch"
    }
   ]
  },
  "toc-autonumbering": false,
  "vscode": {
   "interpreter": {
    "hash": "d2ed0a8e3e051554a0b51e3917f81e884b169a97835ad70210b3681eb3cb39c7"
   }
  }
 },
 "nbformat": 4,
 "nbformat_minor": 4
}
