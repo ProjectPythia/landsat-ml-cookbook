{
 "cells": [
  {
   "cell_type": "code",
   "execution_count": null,
   "id": "28afd690-fe4b-46d9-952d-c2f2a619c4bf",
   "metadata": {},
   "outputs": [],
   "source": [
    "# TODO: why doesn't `.interp` work when using the bounds of the diff as the ROI bbox?"
   ]
  },
  {
   "cell_type": "markdown",
   "id": "e3d96599-5152-4aae-8fb2-cc7c35043192",
   "metadata": {},
   "source": [
    "One last approach to selecting a region of interest - rather than starting from a center point and using a region around it, it may make sense to just use the bounds of the entire overlapping region between our images. Let's try it:"
   ]
  },
  {
   "cell_type": "code",
   "execution_count": 42,
   "id": "64172cbd-1316-482f-9360-71c9421e7727",
   "metadata": {},
   "outputs": [],
   "source": [
    "xmin = NDVI_diff.x.values[0]\n",
    "xmax = NDVI_diff.x.values[-1]\n",
    "ymin = NDVI_diff.y.values[0]\n",
    "ymax = NDVI_diff.y.values[-1]\n",
    "bounding_box = [(xmin, ymin), (xmin, ymax), (xmax, ymax), (xmax, ymin)]"
   ]
  },
  {
   "cell_type": "code",
   "execution_count": 43,
   "id": "abe64df8-0e98-4cf1-bc98-ba9f7c883263",
   "metadata": {},
   "outputs": [],
   "source": [
    "roi = gv.Polygons(bounding_box, crs=crs)"
   ]
  },
  {
   "cell_type": "code",
   "execution_count": 44,
   "id": "3b65b002-27b5-4372-b404-2fcc12ed0c75",
   "metadata": {},
   "outputs": [
    {
     "data": {},
     "metadata": {},
     "output_type": "display_data"
    },
    {
     "data": {
      "application/vnd.holoviews_exec.v0+json": "",
      "text/html": [
       "<div id='2354'>\n",
       "  <div class=\"bk-root\" id=\"a761a7cb-3e87-469b-b4e6-2339de506d63\" data-root-id=\"2354\"></div>\n",
       "</div>\n",
       "<script type=\"application/javascript\">(function(root) {\n",
       "  function embed_document(root) {\n",
       "    var docs_json = {\"f53662ea-e67f-4728-9d3b-aa277b874017\":{\"defs\":[{\"extends\":null,\"module\":null,\"name\":\"ReactiveHTML1\",\"overrides\":[],\"properties\":[]},{\"extends\":null,\"module\":null,\"name\":\"FlexBox1\",\"overrides\":[],\"properties\":[{\"default\":\"flex-start\",\"kind\":null,\"name\":\"align_content\"},{\"default\":\"flex-start\",\"kind\":null,\"name\":\"align_items\"},{\"default\":\"row\",\"kind\":null,\"name\":\"flex_direction\"},{\"default\":\"wrap\",\"kind\":null,\"name\":\"flex_wrap\"},{\"default\":\"flex-start\",\"kind\":null,\"name\":\"justify_content\"}]},{\"extends\":null,\"module\":null,\"name\":\"GridStack1\",\"overrides\":[],\"properties\":[{\"default\":\"warn\",\"kind\":null,\"name\":\"mode\"},{\"default\":null,\"kind\":null,\"name\":\"ncols\"},{\"default\":null,\"kind\":null,\"name\":\"nrows\"},{\"default\":true,\"kind\":null,\"name\":\"allow_resize\"},{\"default\":true,\"kind\":null,\"name\":\"allow_drag\"},{\"default\":[],\"kind\":null,\"name\":\"state\"}]},{\"extends\":null,\"module\":null,\"name\":\"click1\",\"overrides\":[],\"properties\":[{\"default\":\"\",\"kind\":null,\"name\":\"terminal_output\"},{\"default\":\"\",\"kind\":null,\"name\":\"debug_name\"},{\"default\":0,\"kind\":null,\"name\":\"clears\"}]},{\"extends\":null,\"module\":null,\"name\":\"NotificationAreaBase1\",\"overrides\":[],\"properties\":[{\"default\":\"bottom-right\",\"kind\":null,\"name\":\"position\"},{\"default\":0,\"kind\":null,\"name\":\"_clear\"}]},{\"extends\":null,\"module\":null,\"name\":\"NotificationArea1\",\"overrides\":[],\"properties\":[{\"default\":[],\"kind\":null,\"name\":\"notifications\"},{\"default\":\"bottom-right\",\"kind\":null,\"name\":\"position\"},{\"default\":0,\"kind\":null,\"name\":\"_clear\"},{\"default\":[{\"background\":\"#ffc107\",\"icon\":{\"className\":\"fas fa-exclamation-triangle\",\"color\":\"white\",\"tagName\":\"i\"},\"type\":\"warning\"},{\"background\":\"#007bff\",\"icon\":{\"className\":\"fas fa-info-circle\",\"color\":\"white\",\"tagName\":\"i\"},\"type\":\"info\"}],\"kind\":null,\"name\":\"types\"}]},{\"extends\":null,\"module\":null,\"name\":\"Notification\",\"overrides\":[],\"properties\":[{\"default\":null,\"kind\":null,\"name\":\"background\"},{\"default\":3000,\"kind\":null,\"name\":\"duration\"},{\"default\":null,\"kind\":null,\"name\":\"icon\"},{\"default\":\"\",\"kind\":null,\"name\":\"message\"},{\"default\":null,\"kind\":null,\"name\":\"notification_type\"},{\"default\":false,\"kind\":null,\"name\":\"_destroyed\"}]},{\"extends\":null,\"module\":null,\"name\":\"TemplateActions1\",\"overrides\":[],\"properties\":[{\"default\":0,\"kind\":null,\"name\":\"open_modal\"},{\"default\":0,\"kind\":null,\"name\":\"close_modal\"}]},{\"extends\":null,\"module\":null,\"name\":\"MaterialTemplateActions1\",\"overrides\":[],\"properties\":[{\"default\":0,\"kind\":null,\"name\":\"open_modal\"},{\"default\":0,\"kind\":null,\"name\":\"close_modal\"}]}],\"roots\":{\"references\":[{\"attributes\":{\"fill_alpha\":{\"value\":0.2},\"fill_color\":{\"value\":\"#30a2da\"},\"hatch_alpha\":{\"value\":0.2},\"hatch_color\":{\"value\":\"#30a2da\"},\"line_alpha\":{\"value\":0.2},\"xs\":{\"field\":\"xs\"},\"ys\":{\"field\":\"ys\"}},\"id\":\"2429\",\"type\":\"MultiPolygons\"},{\"attributes\":{},\"id\":\"2375\",\"type\":\"LinearScale\"},{\"attributes\":{\"axis\":{\"id\":\"2379\"},\"coordinates\":null,\"grid_line_color\":null,\"group\":null,\"ticker\":null},\"id\":\"2382\",\"type\":\"Grid\"},{\"attributes\":{\"dimension\":\"lon\"},\"id\":\"2400\",\"type\":\"MercatorTickFormatter\"},{\"attributes\":{\"attribution\":\"&copy; <a href=\\\"http://downloads.esri.com/ArcGISOnline/docs/tou_summary.pdf\\\">Esri</a>, Earthstar Geographics\",\"url\":\"https://server.arcgisonline.com/ArcGIS/rest/services/World_Imagery/MapServer/tile/{Z}/{Y}/{X}.jpg\"},\"id\":\"2417\",\"type\":\"WMTSTileSource\"},{\"attributes\":{},\"id\":\"2412\",\"type\":\"AllLabels\"},{\"attributes\":{},\"id\":\"2377\",\"type\":\"LinearScale\"},{\"attributes\":{\"dimension\":\"lat\"},\"id\":\"2402\",\"type\":\"MercatorTickFormatter\"},{\"attributes\":{\"axis_label\":\"Longitude\",\"coordinates\":null,\"formatter\":{\"id\":\"2400\"},\"group\":null,\"major_label_policy\":{\"id\":\"2405\"},\"ticker\":{\"id\":\"2399\"}},\"id\":\"2379\",\"type\":\"LinearAxis\"},{\"attributes\":{\"coordinates\":null,\"group\":null,\"text_color\":\"black\",\"text_font_size\":\"12pt\"},\"id\":\"2371\",\"type\":\"Title\"},{\"attributes\":{},\"id\":\"2425\",\"type\":\"Selection\"},{\"attributes\":{},\"id\":\"2388\",\"type\":\"PanTool\"},{\"attributes\":{\"coordinates\":null,\"group\":null,\"level\":\"underlay\",\"tile_source\":{\"id\":\"2417\"}},\"id\":\"2420\",\"type\":\"TileRenderer\"},{\"attributes\":{\"axis_label\":\"Latitude\",\"coordinates\":null,\"formatter\":{\"id\":\"2402\"},\"group\":null,\"major_label_policy\":{\"id\":\"2412\"},\"ticker\":{\"id\":\"2401\"}},\"id\":\"2383\",\"type\":\"LinearAxis\"},{\"attributes\":{\"source\":{\"id\":\"2424\"}},\"id\":\"2431\",\"type\":\"CDSView\"},{\"attributes\":{\"axis\":{\"id\":\"2383\"},\"coordinates\":null,\"dimension\":1,\"grid_line_color\":null,\"group\":null,\"ticker\":null},\"id\":\"2386\",\"type\":\"Grid\"},{\"attributes\":{},\"id\":\"2436\",\"type\":\"UnionRenderers\"},{\"attributes\":{},\"id\":\"2389\",\"type\":\"ResetTool\"},{\"attributes\":{\"fill_alpha\":{\"value\":0.3},\"fill_color\":{\"value\":\"#30a2da\"},\"hatch_alpha\":{\"value\":0.1},\"hatch_color\":{\"value\":\"#30a2da\"},\"line_alpha\":{\"value\":0.3},\"xs\":{\"field\":\"xs\"},\"ys\":{\"field\":\"ys\"}},\"id\":\"2428\",\"type\":\"MultiPolygons\"},{\"attributes\":{\"coordinates\":null,\"data_source\":{\"id\":\"2424\"},\"glyph\":{\"id\":\"2427\"},\"group\":null,\"hover_glyph\":null,\"muted_glyph\":{\"id\":\"2429\"},\"nonselection_glyph\":{\"id\":\"2428\"},\"selection_glyph\":{\"id\":\"2432\"},\"view\":{\"id\":\"2431\"}},\"id\":\"2430\",\"type\":\"GlyphRenderer\"},{\"attributes\":{\"margin\":[5,5,5,5],\"name\":\"HSpacer02812\",\"sizing_mode\":\"stretch_width\"},\"id\":\"2439\",\"type\":\"Spacer\"},{\"attributes\":{\"bottom_units\":\"screen\",\"coordinates\":null,\"fill_alpha\":0.5,\"fill_color\":\"lightgrey\",\"group\":null,\"left_units\":\"screen\",\"level\":\"overlay\",\"line_alpha\":1.0,\"line_color\":\"black\",\"line_dash\":[4,4],\"line_width\":2,\"right_units\":\"screen\",\"syncable\":false,\"top_units\":\"screen\"},\"id\":\"2390\",\"type\":\"BoxAnnotation\"},{\"attributes\":{\"margin\":[5,5,5,5],\"name\":\"HSpacer02811\",\"sizing_mode\":\"stretch_width\"},\"id\":\"2355\",\"type\":\"Spacer\"},{\"attributes\":{\"children\":[{\"id\":\"2355\"},{\"id\":\"2370\"},{\"id\":\"2439\"}],\"margin\":[0,0,0,0],\"name\":\"Row02807\",\"tags\":[\"embedded\"]},\"id\":\"2354\",\"type\":\"Row\"},{\"attributes\":{},\"id\":\"2405\",\"type\":\"AllLabels\"},{\"attributes\":{\"data\":{\"xs\":[[[{\"__ndarray__\":\"mSFR6D9AacFow112rz9pwZrGfrcyJGnBzl83EZ0kacGZIVHoP0BpwQ==\",\"dtype\":\"float64\",\"order\":\"little\",\"shape\":[5]}]]],\"ys\":[[[{\"__ndarray__\":\"LqWynRv2UUH/hG45FsBRQUYgOLsVwVFB0infEyD3UUEupbKdG/ZRQQ==\",\"dtype\":\"float64\",\"order\":\"little\",\"shape\":[5]}]]]},\"selected\":{\"id\":\"2425\"},\"selection_policy\":{\"id\":\"2436\"}},\"id\":\"2424\",\"type\":\"ColumnDataSource\"},{\"attributes\":{\"dimension\":\"lon\"},\"id\":\"2399\",\"type\":\"MercatorTicker\"},{\"attributes\":{\"zoom_on_axis\":false},\"id\":\"2364\",\"type\":\"WheelZoomTool\"},{\"attributes\":{\"end\":4715140.251806764,\"min_interval\":5,\"reset_end\":4715140.251806764,\"reset_start\":4647508.956059623,\"start\":4647508.956059623,\"tags\":[[[\"Latitude\",\"Latitude\",null]]]},\"id\":\"2363\",\"type\":\"Range1d\"},{\"attributes\":{\"fill_alpha\":{\"value\":0.3},\"fill_color\":{\"value\":\"#30a2da\"},\"hatch_alpha\":{\"value\":0.3},\"hatch_color\":{\"value\":\"#30a2da\"},\"line_alpha\":{\"value\":0.3},\"xs\":{\"field\":\"xs\"},\"ys\":{\"field\":\"ys\"}},\"id\":\"2427\",\"type\":\"MultiPolygons\"},{\"attributes\":{\"dimension\":\"lat\"},\"id\":\"2401\",\"type\":\"MercatorTicker\"},{\"attributes\":{\"tools\":[{\"id\":\"2364\"},{\"id\":\"2365\"},{\"id\":\"2388\"},{\"id\":\"2389\"}]},\"id\":\"2391\",\"type\":\"Toolbar\"},{\"attributes\":{\"fill_alpha\":{\"value\":0.3},\"fill_color\":{\"value\":\"#30a2da\"},\"hatch_alpha\":{\"value\":0.3},\"hatch_color\":{\"value\":\"#30a2da\"},\"hatch_scale\":{\"value\":12.0},\"hatch_weight\":{\"value\":1.0},\"line_alpha\":{\"value\":0.3},\"line_cap\":{\"value\":\"butt\"},\"line_color\":{\"value\":\"black\"},\"line_dash\":{\"value\":[]},\"line_dash_offset\":{\"value\":0},\"line_join\":{\"value\":\"bevel\"},\"line_width\":{\"value\":1},\"xs\":{\"field\":\"xs\"},\"ys\":{\"field\":\"ys\"}},\"id\":\"2432\",\"type\":\"MultiPolygons\"},{\"attributes\":{\"match_aspect\":true,\"overlay\":{\"id\":\"2390\"}},\"id\":\"2365\",\"type\":\"BoxZoomTool\"},{\"attributes\":{\"end\":-13175588.7816593,\"min_interval\":5,\"reset_end\":-13175588.7816593,\"reset_start\":-13244528.21246996,\"start\":-13244528.21246996,\"tags\":[[[\"Longitude\",\"Longitude\",null]]]},\"id\":\"2362\",\"type\":\"Range1d\"},{\"attributes\":{\"below\":[{\"id\":\"2379\"}],\"center\":[{\"id\":\"2382\"},{\"id\":\"2386\"}],\"height\":300,\"left\":[{\"id\":\"2383\"}],\"margin\":[5,5,5,5],\"min_border_bottom\":10,\"min_border_left\":10,\"min_border_right\":10,\"min_border_top\":10,\"renderers\":[{\"id\":\"2420\"},{\"id\":\"2430\"}],\"sizing_mode\":\"fixed\",\"title\":{\"id\":\"2371\"},\"toolbar\":{\"id\":\"2391\"},\"width\":300,\"x_range\":{\"id\":\"2362\"},\"x_scale\":{\"id\":\"2375\"},\"y_range\":{\"id\":\"2363\"},\"y_scale\":{\"id\":\"2377\"}},\"id\":\"2370\",\"subtype\":\"Figure\",\"type\":\"Plot\"}],\"root_ids\":[\"2354\"]},\"title\":\"Bokeh Application\",\"version\":\"2.4.3\"}};\n",
       "    var render_items = [{\"docid\":\"f53662ea-e67f-4728-9d3b-aa277b874017\",\"root_ids\":[\"2354\"],\"roots\":{\"2354\":\"a761a7cb-3e87-469b-b4e6-2339de506d63\"}}];\n",
       "    root.Bokeh.embed.embed_items_notebook(docs_json, render_items);\n",
       "    for (const render_item of render_items) {\n",
       "      for (const root_id of render_item.root_ids) {\n",
       "\tconst id_el = document.getElementById(root_id)\n",
       "\tif (id_el.children.length && (id_el.children[0].className === 'bk-root')) {\n",
       "\t  const root_el = id_el.children[0]\n",
       "\t  root_el.id = root_el.id + '-rendered'\n",
       "\t}\n",
       "      }\n",
       "    }\n",
       "  }\n",
       "  if (root.Bokeh !== undefined && root.Bokeh.Panel !== undefined) {\n",
       "    embed_document(root);\n",
       "  } else {\n",
       "    var attempts = 0;\n",
       "    var timer = setInterval(function(root) {\n",
       "      if (root.Bokeh !== undefined && root.Bokeh.Panel !== undefined) {\n",
       "        clearInterval(timer);\n",
       "        embed_document(root);\n",
       "      } else if (document.readyState == \"complete\") {\n",
       "        attempts++;\n",
       "        if (attempts > 200) {\n",
       "          clearInterval(timer);\n",
       "          console.log(\"Bokeh: ERROR: Unable to run BokehJS code because BokehJS library is missing\");\n",
       "        }\n",
       "      }\n",
       "    }, 25, root)\n",
       "  }\n",
       "})(window);</script>"
      ],
      "text/plain": [
       ":Overlay\n",
       "   .WMTS.I     :WMTS   [Longitude,Latitude]\n",
       "   .Polygons.I :Polygons   [Longitude,Latitude]"
      ]
     },
     "execution_count": 44,
     "metadata": {
      "application/vnd.holoviews_exec.v0+json": {
       "id": "2354"
      }
     },
     "output_type": "execute_result"
    }
   ],
   "source": [
    "gv.tile_sources.EsriImagery * roi.options(alpha=0.3)"
   ]
  },
  {
   "cell_type": "markdown",
   "id": "5ea9382c-7c68-4018-9e7a-d48bca2d4a36",
   "metadata": {},
   "source": [
    "That looks good! As you can see, there are many ways to select a region of interest. The next step is to put our data on a common grid within this region."
   ]
  }
 ],
 "metadata": {
  "kernelspec": {
   "display_name": "Python 3 (ipykernel)",
   "language": "python",
   "name": "python3"
  },
  "language_info": {
   "codemirror_mode": {
    "name": "ipython",
    "version": 3
   },
   "file_extension": ".py",
   "mimetype": "text/x-python",
   "name": "python",
   "nbconvert_exporter": "python",
   "pygments_lexer": "ipython3",
   "version": "3.10.8"
  }
 },
 "nbformat": 4,
 "nbformat_minor": 5
}
