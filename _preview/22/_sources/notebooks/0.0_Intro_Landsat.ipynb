{
 "cells": [
  {
   "cell_type": "markdown",
   "id": "477b00c6-6565-4a16-b302-46dac2fff9de",
   "metadata": {},
   "source": [
    "![Landsat8](./images/nasa_landsat8.jpg \"Landsat8\")"
   ]
  },
  {
   "cell_type": "markdown",
   "id": "e9a66402-d146-40a2-a013-ef1078026efa",
   "metadata": {},
   "source": [
    "# Start Here - Intro to Landsat Data"
   ]
  },
  {
   "cell_type": "markdown",
   "id": "8a8416c4-c56b-4b53-bc3f-8eb6285dfcac",
   "metadata": {},
   "source": [
    "---"
   ]
  },
  {
   "cell_type": "markdown",
   "id": "a6587d1b-8e22-4404-abf0-0da0bfde096e",
   "metadata": {},
   "source": [
    "## Overview\n",
    "\n",
    "In this cookbook, you will access, process, analyze, and visualize satellite data in the context of machine learning workflows. This particular cookbook notebook will provide an introduction to Landsat data to build our intuition as we move toward data ingestion, processing, and analysis."
   ]
  },
  {
   "cell_type": "markdown",
   "id": "a8cb6848-e976-4390-9195-64ffb9049d81",
   "metadata": {},
   "source": [
    "- **Time to learn**: 5 minutes"
   ]
  },
  {
   "cell_type": "markdown",
   "id": "5ecd112d-3666-4412-acce-05a6dd770de9",
   "metadata": {},
   "source": [
    "## Landsat Data"
   ]
  },
  {
   "cell_type": "markdown",
   "id": "3b8e2b5e-9a96-4161-96b6-f0bbe6b17f47",
   "metadata": {},
   "source": [
    "The data in this cookbook originally come from the [Landsat](https://en.wikipedia.org/wiki/Landsat_program) program, which is the longest record of moderate resolution multispectral data of the Earth’s surface. This program has launched several different satellites spanning many years which are designated as Landsat 1-9.\n",
    "\n",
    "![USGS Landsat Timeline](images/landsat_timeline.png \"USGS Landsat Timeline\")\n",
    "\n",
    "\n",
    "When accessing the data, it's important to keep in mind a couple key points. First, the instruments on different Landsat missions (1-9) varied in certain aspects. Second, Landsat data is available from multiple providers (USGS, NASA, Google, Microsoft, AWS, etc) but may vary in completeness and the level of processing applied. For the dataset that you end up using, it is crucial to review to relevant information from the particular data provider and the specific Landsat mission to understand the details, especially if you are comparing data across providers or missions.\n",
    "\n",
    "In general, a common aspect of Landsat data is the use of different wavelength-bands to capture multiple images of the same area - together providing much more information about different features on the ground than a single image alone. This provides us with a stack of images for each spatial region that we might be interested.\n",
    "\n",
    "![Spectral Bands](images/nasa_bands.png \"Spectral Bands\")\n",
    "\n",
    "Additionally, whenever we are looking at changes in satellite images over time, we will have an additional time dimension. For example, we will consider two stacks of images from different years to look at the change in the water level around a lake.\n"
   ]
  },
  {
   "cell_type": "markdown",
   "id": "e7b29113-9cf8-40d8-b03b-0b7f0a6a6604",
   "metadata": {},
   "source": [
    "___"
   ]
  },
  {
   "cell_type": "markdown",
   "id": "eb228292-bbda-437e-a6e8-2133cbb8e18b",
   "metadata": {},
   "source": [
    "## Summary\n",
    "Before accessing any data, it's a good idea to start by learning about the context and details of the dataset. This will give you the intuition to make informed decisions as you form a processing and analysis pipeline.\n",
    "\n",
    "### What's next?\n",
    "Next, we'll learn about loading the data using the Microsoft Planetary Computer platform."
   ]
  },
  {
   "cell_type": "markdown",
   "id": "6e54a0ab-93e4-4299-a036-0fa7c3e23ec5",
   "metadata": {},
   "source": [
    "## Resources and references\n",
    "- The Landsat timeline image is originally from [USGS](https://www.usgs.gov/landsat-missions/landsat-satellite-missions?qt-science_support_page_related_con=2) but discovered through [earthsciencedata.org](https://www.earthdatascience.org/courses/use-data-open-source-python/multispectral-remote-sensing/landsat-in-Python/)\n",
    "- The Landsat 8 banner image is from NASA\n",
    "- The Landsat spectral bands is from [NASA](https://landsat.gsfc.nasa.gov/satellites/landsat-next/)\n",
    "- This page was authored by Demetris Roumis circa Jan, 2023"
   ]
  }
 ],
 "metadata": {
  "kernelspec": {
   "display_name": "Python 3 (ipykernel)",
   "language": "python",
   "name": "python3"
  },
  "language_info": {
   "codemirror_mode": {
    "name": "ipython",
    "version": 3
   },
   "file_extension": ".py",
   "mimetype": "text/x-python",
   "name": "python",
   "nbconvert_exporter": "python",
   "pygments_lexer": "ipython3",
   "version": "3.10.8"
  },
  "vscode": {
   "interpreter": {
    "hash": "b0fa6594d8f4cbf19f97940f81e996739fb7646882a419484c72d19e05852a7e"
   }
  }
 },
 "nbformat": 4,
 "nbformat_minor": 5
}
