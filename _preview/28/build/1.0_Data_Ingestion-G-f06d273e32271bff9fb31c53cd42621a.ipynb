{
 "cells": [
  {
   "cell_type": "markdown",
   "id": "65c844ec-98e2-40e0-9312-9d6bcd30e4a4",
   "metadata": {},
   "source": [
    "# Data Ingestion - Geospatial-Specific Tooling"
   ]
  },
  {
   "cell_type": "markdown",
   "id": "53b39a59-2225-4406-9136-65b0a4956a6c",
   "metadata": {},
   "source": [
    "![PySTAC](images/pystac.png \"PySTACK\")"
   ]
  },
  {
   "cell_type": "markdown",
   "id": "27bd740d-8c47-4843-9899-40a282eb5a18",
   "metadata": {},
   "source": [
    "---"
   ]
  },
  {
   "cell_type": "markdown",
   "id": "091f838a-f459-4c41-957d-5f04083f95da",
   "metadata": {},
   "source": [
    "## Overview"
   ]
  },
  {
   "cell_type": "markdown",
   "id": "488398aa-5d16-4a7a-b074-c2de5f6fac24",
   "metadata": {},
   "source": [
    "In this notebook, you will ingest Landsat data for use in machine learning. Machine learning tasks often involve a lot of data, and in Python, data is typically stored in memory as simple [NumPy](https://foundations.projectpythia.org/core/numpy.html) arrays. However, higher-level containers built on top of NumPy arrays provide more functionality for multidimensional gridded data ([xarray](http://xarray.pydata.org)) or out-of-core and distributed data ([Dask](http://dask.pydata.org)). Our goal for data ingestion will be to load specific Landsat data of interest into one of these higher-level containers.\n",
    "\n",
    "[Microsoft Plantery Computer](https://planetarycomputer.microsoft.com/docs/overview/about) is one of several providers of [Landsat Data](https://planetarycomputer.microsoft.com/dataset/group/landsat). We are using it together with [pystac-client](https://pystac-client.readthedocs.io/en/stable/index.html) and [odc-stac](https://odc-stac.readthedocs.io/en/latest/index.html) because together they provide a nice Python API for searching and loading with specific criteria such as spatial area, datetime, Landsat mission, and cloud coverage.\n",
    "\n",
    "Earth science datasets are often stored on remote servers that may be too large to download locally. Therefore, in this cookbook, we will focus primarily on ingestion approaches that load small portions of data from a remote source, as needed. However, the approach for your own work will depend not only on data size and location but also the intended analysis, so in a follow up notebook, you will see an alternative approache for generalized data access and management."
   ]
  },
  {
   "cell_type": "markdown",
   "id": "836bb190-f0a1-4cb4-b599-386ed72a63ff",
   "metadata": {},
   "source": [
    "## Prerequisites\n",
    "\n",
    "| Concepts | Importance | Notes |\n",
    "| --- | --- | --- |\n",
    "| [Intro to Landsat](./0.0_Intro_Landsat.ipynb) | Necessary | Background |\n",
    "| [About the Microsoft Planetary Computer](https://planetarycomputer.microsoft.com/docs/overview/about) | Helpful | Background |\n",
    "| [pystac-client Usage](https://pystac-client.readthedocs.io/en/stable/usage.html) | Helpful | Consult as needed |\n",
    "| [odc.stac.load Reference](https://odc-stac.readthedocs.io/en/latest/_api/odc.stac.load.html) | Helpful | Consult as needed |\n",
    "| [xarray](https://foundations.projectpythia.org/core/xarray.html) | Necessary |  |\n",
    "| [Intro to Dask Array](https://docs.dask.org/en/stable/array.html) | Helpful | |\n",
    "| [Panel Getting Started Guide](https://panel.holoviz.org/getting_started/build_app.html) | Helpful | |\n",
    "\n",
    "- **Time to learn**: 10 minutes"
   ]
  },
  {
   "cell_type": "markdown",
   "id": "70f621c3-8cdc-401b-a21c-79f31abd7bbf",
   "metadata": {},
   "source": [
    "## Imports"
   ]
  },
  {
   "cell_type": "code",
   "execution_count": null,
   "id": "28f179f7-1dbc-4127-b284-8ebabe3eff72",
   "metadata": {},
   "outputs": [],
   "source": [
    "import odc.stac\n",
    "import pandas as pd\n",
    "import planetary_computer\n",
    "import pystac_client\n",
    "import xarray as xr\n",
    "from pystac.extensions.eo import EOExtension as eo\n",
    "\n",
    "# Viz\n",
    "import hvplot.xarray\n",
    "import panel as pn\n",
    "\n",
    "pn.extension()"
   ]
  },
  {
   "cell_type": "markdown",
   "id": "ec00475e-01fa-48f4-9323-0deaff92086b",
   "metadata": {},
   "source": [
    "## Open and read the root of the STAC catalog"
   ]
  },
  {
   "cell_type": "code",
   "execution_count": null,
   "id": "a4007807-b3b1-40fe-8aae-a01a0d01b03b",
   "metadata": {},
   "outputs": [],
   "source": [
    "catalog = pystac_client.Client.open(\n",
    "    \"https://planetarycomputer.microsoft.com/api/stac/v1\",\n",
    "    modifier=planetary_computer.sign_inplace,\n",
    ")\n",
    "catalog.title"
   ]
  },
  {
   "cell_type": "markdown",
   "id": "3ec64999-76f4-41db-b89b-b8c55c1ba788",
   "metadata": {},
   "source": [
    "Microsoft Planetary Computer has a public STAC metadata but the actual data assets are in private Azure Blob Storage containers and require authentication. `pystac-client` provides a `modifier` keyword that we can use to manually sign the item. Otherwise, we'd get an error when trying to access the asset."
   ]
  },
  {
   "cell_type": "markdown",
   "id": "21cb2e57-3fd5-4fae-8fa3-beefc415478e",
   "metadata": {},
   "source": [
    "# Search for Landsat Data"
   ]
  },
  {
   "cell_type": "markdown",
   "id": "8444b837-8826-45f7-841e-4b053a4bea86",
   "metadata": {},
   "source": [
    "Let's say that an analysis we want to run requires landsat data over a specific region and from a specific time period. We can use our catalog to search for assets that fit our search criteria."
   ]
  },
  {
   "cell_type": "markdown",
   "id": "42052634-9c2f-4073-9080-a346703b2081",
   "metadata": {},
   "source": [
    "First, let's find the name of the landsat dataset. [This page](https://planetarycomputer.microsoft.com/catalog) is a nice resource for browsing the available collections, but we can also just search the catalog for 'landsat':"
   ]
  },
  {
   "cell_type": "code",
   "execution_count": null,
   "id": "ba583769-59d7-49bd-b506-79c744430a42",
   "metadata": {},
   "outputs": [],
   "source": [
    "all_collections = [i.id for i in catalog.get_collections()]\n",
    "landsat_collections = [\n",
    "    collection for collection in all_collections if \"landsat\" in collection\n",
    "]\n",
    "landsat_collections"
   ]
  },
  {
   "cell_type": "markdown",
   "id": "a15872e0-c837-48a0-833b-9815ef4262f6",
   "metadata": {},
   "source": [
    "We'll use the `landsat-c2-l2` dataset, which stands for Collection 2 Level-2. It contains data from several landsat missions and has better data quality than Level 1 (`landsat-c2-l1`). Microsoft Planetary Computer has descriptions of [Level 1](https://planetarycomputer.microsoft.com/dataset/landsat-c2-l1) and [Level 2](https://planetarycomputer.microsoft.com/dataset/landsat-c2-l2), but a direct and succinct comparison can be found in [this community post](https://gis.stackexchange.com/questions/439767/landsat-collections), and the information can be verified with [USGS](https://www.usgs.gov/landsat-missions/landsat-collection-2)."
   ]
  },
  {
   "cell_type": "markdown",
   "id": "a05e403e-92ae-46b4-b925-28c4f9628aa2",
   "metadata": {},
   "source": [
    "Now, let's set our search parameters. You may already know the bounding box (region/area of interest) coordinates, but if you don't, there are many useful tools like [bboxfinder.com](http://bboxfinder.com/) that can help."
   ]
  },
  {
   "cell_type": "code",
   "execution_count": null,
   "id": "77b40b78-c7f5-493d-b6a2-e5c765d2aaae",
   "metadata": {},
   "outputs": [],
   "source": [
    "bbox = [-118.89, 38.54, -118.57, 38.84]  # Region over a lake in Nevada, USA\n",
    "datetime = \"2017-06-01/2017-09-30\"  # Summer months of 2017\n",
    "collection = \"landsat-c2-l2\""
   ]
  },
  {
   "cell_type": "markdown",
   "id": "1f3f7c56-4cfb-4764-b7ee-c01f58667d13",
   "metadata": {},
   "source": [
    "We can also specify other parameters in the query, such as a specific landsat mission and the max percent of cloud cover:"
   ]
  },
  {
   "cell_type": "code",
   "execution_count": null,
   "id": "ce29099d-1a57-447b-83dc-957f3b9d0096",
   "metadata": {},
   "outputs": [],
   "source": [
    "platform = \"landsat-8\"\n",
    "cloudy_less_than = 1  # percent"
   ]
  },
  {
   "cell_type": "markdown",
   "id": "e44b0124-aaeb-461a-a48c-9e576da3bc54",
   "metadata": {},
   "source": [
    "Now we run the search and list the results:"
   ]
  },
  {
   "cell_type": "code",
   "execution_count": null,
   "id": "4d40e83c-d293-43d6-8f54-75ee67f66b99",
   "metadata": {},
   "outputs": [],
   "source": [
    "search = catalog.search(\n",
    "    collections=[\"landsat-c2-l2\"],\n",
    "    bbox=bbox,\n",
    "    datetime=datetime,\n",
    "    query={\"eo:cloud_cover\": {\"lt\": cloudy_less_than}, \"platform\": {\"in\": [platform]}},\n",
    ")\n",
    "items = search.item_collection()\n",
    "print(f\"Returned {len(items)} Items:\")\n",
    "item_id = {(i, item.id): i for i, item in enumerate(items)}\n",
    "item_id"
   ]
  },
  {
   "cell_type": "markdown",
   "id": "c246504f-f36c-4e9c-a740-8041a4d13612",
   "metadata": {},
   "source": [
    "It looks like there were three image stacks taken by Landsat 8 over this spatial region during the summer months of 2017 that has less than 1 percent cloud cover."
   ]
  },
  {
   "cell_type": "markdown",
   "id": "1ec703af-b574-42eb-b97c-756fd6f8f909",
   "metadata": {},
   "source": [
    "## Preview Results and Select a Dataset"
   ]
  },
  {
   "cell_type": "markdown",
   "id": "478b863e-e32c-499c-8a39-79c66ca1fb33",
   "metadata": {},
   "source": [
    "Before loading one of the available image stacks, it would be useful to get a visual check of the results. Many datasets have a rendered preview or thumbnail image that can be accessed without having to load the full resolution data.\n",
    "\n",
    "We can create a simple interactive application using the [Panel](https://panel.holoviz.org/index.html) library to access and display rendered PNG previews of the our search results. Note that these pre-rendered images are of large tiles that span beyond our bounding box of interest. In the next steps, we will only be loading in a small area around the lake."
   ]
  },
  {
   "cell_type": "code",
   "execution_count": null,
   "id": "1f8e05bf-1c36-446b-8bc2-58bbecf6b68a",
   "metadata": {},
   "outputs": [],
   "source": [
    "item_sel = pn.widgets.Select(value=1, options=item_id, name=\"item\")\n",
    "\n",
    "def get_preview(i):\n",
    "    return pn.panel(items[i].assets[\"rendered_preview\"].href, height=300)\n",
    "\n",
    "\n",
    "pn.Row(item_sel, pn.bind(get_preview, item_sel))"
   ]
  },
  {
   "cell_type": "code",
   "execution_count": null,
   "id": "18f2d557-f274-4076-b328-39a06dc066c9",
   "metadata": {},
   "outputs": [],
   "source": [
    "selected_item = items[1]\n",
    "selected_item"
   ]
  },
  {
   "cell_type": "markdown",
   "id": "311bb64c-230c-4a09-acd0-1c6d48dc927e",
   "metadata": {},
   "source": [
    "## Access the Data"
   ]
  },
  {
   "cell_type": "markdown",
   "id": "7e253896-b4cb-4111-8094-8572e2c6d2ff",
   "metadata": {},
   "source": [
    "Now that we have selected a dataset from our catalog, we can procede to access the data. We want to be very selective about the data that we read and when we read it because the amount of downloaded data can quickly get out of hand. Therefore, let's select only a subset of images.\n",
    "\n",
    "First, we'll preview the different image assets (or [Bands](https://github.com/stac-extensions/eo)) available in the Landsat item."
   ]
  },
  {
   "cell_type": "code",
   "execution_count": null,
   "id": "d49a164f-3d5d-4a7d-a5cb-029d6bede1db",
   "metadata": {},
   "outputs": [],
   "source": [
    "assets = []\n",
    "for _, asset in selected_item.assets.items():\n",
    "    try:\n",
    "        assets.append(asset.extra_fields[\"eo:bands\"][0])\n",
    "    except:\n",
    "        pass\n",
    "\n",
    "cols_ordered = [\n",
    "    \"common_name\",\n",
    "    \"description\",\n",
    "    \"name\",\n",
    "    \"center_wavelength\",\n",
    "    \"full_width_half_max\",\n",
    "]\n",
    "bands = pd.DataFrame.from_dict(assets)[cols_ordered]\n",
    "bands"
   ]
  },
  {
   "cell_type": "markdown",
   "id": "f8cbc4e1-7754-47b2-8477-e9ed3fef00f7",
   "metadata": {},
   "source": [
    "Then we will select a few bands (images) of interest:"
   ]
  },
  {
   "cell_type": "code",
   "execution_count": null,
   "id": "1831d5f4-f068-476e-80fe-de32a851d12a",
   "metadata": {},
   "outputs": [],
   "source": [
    "bands_of_interest = [\"red\", \"green\", \"blue\"]"
   ]
  },
  {
   "cell_type": "markdown",
   "id": "764ecd52-b893-4aed-b021-02d25b257c12",
   "metadata": {},
   "source": [
    "Finally, we lazily load the selected data. We will use the package called `odc` which allows us to load only a specific region of interest (bounding box or 'bbox') and specific bands (images) of interest. We will also use the `chunks` argument to load the data as dask arrays; this will load the metadata now and delay the loading until we actually use the data, or until we force the data to be loaded by using `.compute()`."
   ]
  },
  {
   "cell_type": "code",
   "execution_count": null,
   "id": "eca1a4a4-c0bc-4c81-960f-fb3550048a33",
   "metadata": {},
   "outputs": [],
   "source": [
    "ds = odc.stac.stac_load(\n",
    "    [selected_item],\n",
    "    bands=bands_of_interest,\n",
    "    bbox=bbox,\n",
    "    chunks={},  # <-- use Dask\n",
    ").isel(time=0)\n",
    "ds"
   ]
  },
  {
   "cell_type": "markdown",
   "id": "1e410e59-8f71-4b0c-b2db-177b7ce00278",
   "metadata": {},
   "source": [
    "Let's combine the bands of the dataset into a single DataArray that has the band names as coordinates of a new 'band' dimension, and also call `.compute()` to finally load the data."
   ]
  },
  {
   "cell_type": "code",
   "execution_count": null,
   "id": "e63d16a2-a36d-4967-808c-ffcb1479088b",
   "metadata": {
    "tags": []
   },
   "outputs": [],
   "source": [
    "da = ds.to_array(dim=\"band\").compute()\n",
    "da"
   ]
  },
  {
   "cell_type": "markdown",
   "id": "4ac0f3c1-3ff8-46c5-aa51-b06c73d96c66",
   "metadata": {},
   "source": [
    "## Visualize the data"
   ]
  },
  {
   "cell_type": "markdown",
   "id": "ce573b8c-815d-439b-a49f-fa258d0e07a7",
   "metadata": {},
   "source": [
    "Often, data ingestion involves quickly visualizing your raw data to get a sense that things are proceeding accordingly. As we have created an array with red, blue, and green bands, we can quickly display a natural color image of the lake using the `.plot.imshow()` function of `xarray`. We'll use the `robust=True` argument because the data values are outside the range of typical RGB images."
   ]
  },
  {
   "cell_type": "code",
   "execution_count": null,
   "id": "30c9eec0-6975-4b1e-9a7c-318b98c332b2",
   "metadata": {
    "tags": []
   },
   "outputs": [],
   "source": [
    "da.plot.imshow(robust=True, size=3)"
   ]
  },
  {
   "cell_type": "markdown",
   "id": "c188d2c2-9eb9-4030-8fd0-54f88bb252c3",
   "metadata": {},
   "source": [
    "Now, let's use `hvplot` to provide an interactive visualization of the inividual bands in our array."
   ]
  },
  {
   "cell_type": "code",
   "execution_count": null,
   "id": "31d88fa3-dbb9-4c14-b086-51ee20b52602",
   "metadata": {},
   "outputs": [],
   "source": [
    "ds"
   ]
  },
  {
   "cell_type": "code",
   "execution_count": null,
   "id": "c0cc8aa2-2878-4d2e-8bf3-6d9f1fcf9a58",
   "metadata": {},
   "outputs": [],
   "source": [
    "da.hvplot.image(x=\"x\", y=\"y\", cmap=\"viridis\", aspect=1)"
   ]
  },
  {
   "cell_type": "markdown",
   "id": "a9724bab-42c1-4275-a6dc-562c16b907f7",
   "metadata": {},
   "source": [
    "Let's plot the bands as seperate columns by specifying a dimension to expand with `col='band'`. We can also set `rasterize=True` to use [Datashader](https://datashader.org/) (another HoloViz tool) to render large data into a 2D histogram, where every array cell counts the data points falling into that pixel, as set by the resolution of your screen. This is especially important for large and high resolution images that would otherwise cause issues when attempting to render in a browser."
   ]
  },
  {
   "cell_type": "code",
   "execution_count": null,
   "id": "2ef8c6d8-3717-44ca-8096-216e00116d45",
   "metadata": {},
   "outputs": [],
   "source": [
    "da.hvplot.image(\n",
    "    x=\"x\", y=\"y\", col=\"band\", cmap=\"viridis\", xaxis=False, yaxis=False, colorbar=False, rasterize=True\n",
    ")"
   ]
  },
  {
   "cell_type": "markdown",
   "id": "651f855c-0b9b-49d8-a851-5717a08532e7",
   "metadata": {},
   "source": [
    "Select the zoom tool and zoom in on of the plots to see that all the images are all automatically linked!"
   ]
  },
  {
   "cell_type": "markdown",
   "id": "bbb72422-b9d6-4eee-a070-7f5ae5bca468",
   "metadata": {},
   "source": [
    "## Retain Attributes"
   ]
  },
  {
   "cell_type": "markdown",
   "id": "32708bb1-adf1-423c-b76b-d2c2e0ced5cd",
   "metadata": {},
   "source": [
    "When working with many image arrays, it's critical to retain the data properties as xarray attributes:"
   ]
  },
  {
   "cell_type": "code",
   "execution_count": null,
   "id": "1c746f5e-c68b-40ac-9672-8c184c6b2d30",
   "metadata": {},
   "outputs": [],
   "source": [
    "da.attrs = selected_item.properties\n",
    "da"
   ]
  },
  {
   "cell_type": "markdown",
   "id": "146c063b-563a-46fb-b964-676adb4a09c2",
   "metadata": {
    "jupyter": {
     "outputs_hidden": true
    },
    "tags": []
   },
   "source": [
    "Notice that you can now expand the `Attributes: ` dropdown to see the properties of this data."
   ]
  },
  {
   "cell_type": "markdown",
   "id": "63747da5-e126-4104-a27c-0501da98121b",
   "metadata": {},
   "source": [
    "## Set the `crs` attribute"
   ]
  },
  {
   "cell_type": "markdown",
   "id": "8f315ec7-c868-4946-afe8-0a9fb5632aea",
   "metadata": {},
   "source": [
    "As the data is in 'meter' units from a reference point, we can plot in commonly used longitude, latitude coordinates with `.hvplot(geo=True)` if our array has a valid coordinate reference system (CRS) attribute. This value is provided from Microsoft Planetary Computer as the `proj:epsg` property, so we just need to copy it to a new attribute `crs` so that hvPlot can automatically find it, without us having to further specify anything in our plotting code\n",
    "\n",
    "Note, this CRS is referenced by an EPSG code that can be accessed from the metadata of our selected catalog search result. We can see more about this dataset's specific code at [EPSG.io/32611](https://epsg.io/32611). You can also read more about EPSG codes in general in this [Coordinate Reference Systems: EPSG codes](https://pygis.io/docs/d_understand_crs_codes.html#epsg-codes) online book chapter. "
   ]
  },
  {
   "cell_type": "code",
   "execution_count": null,
   "id": "cfb957fb-94e7-458f-a4dd-cff04d6331ec",
   "metadata": {},
   "outputs": [],
   "source": [
    "da.attrs[\"crs\"] = f\"epsg:{selected_item.properties['proj:epsg']}\"\n",
    "da.attrs[\"crs\"]"
   ]
  },
  {
   "cell_type": "markdown",
   "id": "36637826-b5de-41bf-86fc-5d8d659a8217",
   "metadata": {},
   "source": [
    "Now we can use `.hvplot(geo=True)` to plot in longitude and latitude coordinates. Informing `hvPlot` that this is geographic data also allows us to overlay data on aligned geographic tiles using the `tiles` parameter."
   ]
  },
  {
   "cell_type": "code",
   "execution_count": null,
   "id": "87dbdd45-6a65-48c1-b0b0-559f31cb873f",
   "metadata": {},
   "outputs": [],
   "source": [
    "da.hvplot.image(\n",
    "    x=\"x\", y=\"y\", cmap=\"viridis\", geo=True, alpha=.9, tiles=\"ESRI\", xlabel=\"Longitude\", ylabel=\"Latitude\", colorbar=False, aspect=1,\n",
    ")"
   ]
  },
  {
   "cell_type": "markdown",
   "id": "54214e63-420e-436c-aa95-c806c74c4c02",
   "metadata": {},
   "source": [
    "___"
   ]
  },
  {
   "cell_type": "markdown",
   "id": "356f1670-ffea-4e9c-a7df-632864aecff0",
   "metadata": {},
   "source": [
    "## Summary\n",
    "The data access approach should adapt to features of the data and your intended analysis. As Landsat data is large and multidimensional, a good approach is to use [Microsoft Plantery Computer](https://planetarycomputer.microsoft.com/docs/overview/about), [pystac-client](https://pystac-client.readthedocs.io/en/stable/index.html), and [odc-stac](https://odc-stac.readthedocs.io/en/latest/index.html) together for searching the metadata catalog and lazily loading specific data chunks. Once you have accessed data, visualize it with hvPlot to ensure that it matches your expectations.\n",
    "\n",
    "### What's next?\n",
    "Before we proceed to workflow examples, we can explore an alternate way of accessing data using generalized tooling."
   ]
  },
  {
   "cell_type": "markdown",
   "id": "d200eed4-b3be-4a09-ae4a-671fa6f22e23",
   "metadata": {},
   "source": [
    "## Resources and References\n",
    "- Authored by Demetris Roumis circa Jan, 2023\n",
    "- Guidance for parts of this notebook was provided by Microsoft in ['Reading Data from the STAC API'](https://planetarycomputer.microsoft.com/docs/quickstarts/reading-stac/)\n",
    "- The image used in the banner is from an announcement about PySTAC from Azavea"
   ]
  },
  {
   "cell_type": "code",
   "execution_count": null,
   "id": "22affb0b-715d-4520-9d5b-2631bf1105c3",
   "metadata": {},
   "outputs": [],
   "source": []
  }
 ],
 "metadata": {
  "kernelspec": {
   "display_name": "Python 3 (ipykernel)",
   "language": "python",
   "name": "python3"
  },
  "language_info": {
   "codemirror_mode": {
    "name": "ipython",
    "version": 3
   },
   "file_extension": ".py",
   "mimetype": "text/x-python",
   "name": "python",
   "nbconvert_exporter": "python",
   "pygments_lexer": "ipython3",
   "version": "3.10.13"
  },
  "vscode": {
   "interpreter": {
    "hash": "b0fa6594d8f4cbf19f97940f81e996739fb7646882a419484c72d19e05852a7e"
   }
  }
 },
 "nbformat": 4,
 "nbformat_minor": 5
}
