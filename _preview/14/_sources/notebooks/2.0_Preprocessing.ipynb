{
 "cells": [
  {
   "cell_type": "markdown",
   "metadata": {},
   "source": [
    "![Landsat8](./images/nasa_landsat8.jpg \"Landsat8\")"
   ]
  },
  {
   "cell_type": "markdown",
   "metadata": {},
   "source": [
    "# Preprocessing - Regrid"
   ]
  },
  {
   "cell_type": "markdown",
   "metadata": {},
   "source": [
    "---"
   ]
  },
  {
   "cell_type": "markdown",
   "metadata": {},
   "source": [
    "## Overview\n",
    "The last notebook demonstrated how to access the data with some common alternative approaches to the Planetary Computer platform. The next step is to ensure that the data has been appropriately prepared for whatever analysis we intend to run. \n",
    "\n",
    "For example, as we may be directly comparing data across time points, it would be very useful if these images were on the same underlying coordinate grid. In this notebook, we will preprocess the data to reshape and align our images for efficient consumption by analysis steps. We will also see how to use interactive visualization to assist in our processing pipeline. Note, if you are adopting the data access approach in the [Planetary Computer notebook](./1.0_Data_Ingestion-Planetary_Computer.ipynb), you may not need to regrid the data and can proceed to an analysis workflow."
   ]
  },
  {
   "cell_type": "markdown",
   "metadata": {},
   "source": [
    "## Prerequisites\n",
    "\n",
    "| Concepts | Importance | Notes |\n",
    "| --- | --- | --- |\n",
    "| [Data Ingestion - Intake](1.1_Data_Ingestion-Intake.ipynb) | Necessary | |\n",
    "| [Coordinate Reference Systems and EPSG](https://pygis.io/docs/d_understand_crs_codes.html#epsg-codes)| Helpful | |\n",
    "| [GeoViews resampling grids](http://geoviews.org/user_guide/Resampling_Grids.html)| Helpful | |\n",
    "\n",
    "- **Time to learn**: 20 minutes."
   ]
  },
  {
   "cell_type": "markdown",
   "metadata": {},
   "source": [
    "---"
   ]
  },
  {
   "cell_type": "markdown",
   "metadata": {},
   "source": [
    "## Imports"
   ]
  },
  {
   "cell_type": "code",
   "execution_count": null,
   "metadata": {},
   "outputs": [],
   "source": [
    "import intake\n",
    "import numpy as np\n",
    "import xarray as xr\n",
    "import cartopy.crs as ccrs\n",
    "import geoviews as gv\n",
    "import hvplot.xarray\n",
    "import holoviews as hv\n",
    "\n",
    "import warnings\n",
    "warnings.simplefilter('ignore', FutureWarning) # Ignore a warning about the format of epsg codes"
   ]
  },
  {
   "cell_type": "markdown",
   "metadata": {},
   "source": [
    "## Loading data"
   ]
  },
  {
   "cell_type": "markdown",
   "metadata": {},
   "source": [
    "You have already read through the previous tutorial on loading data with Intake, so now we'll jump right to using Intake to read in chunks of small versions of the Landsat 5 and Landsat 8 data."
   ]
  },
  {
   "cell_type": "code",
   "execution_count": null,
   "metadata": {},
   "outputs": [],
   "source": [
    "cat = intake.open_catalog('./data/catalog.yml')"
   ]
  },
  {
   "cell_type": "code",
   "execution_count": null,
   "metadata": {},
   "outputs": [],
   "source": [
    "cat.landsat_8_small.container"
   ]
  },
  {
   "cell_type": "markdown",
   "metadata": {},
   "source": [
    "We know that our Landsat data will ultimately be an xarray object. Let's load the metadata with Dask:"
   ]
  },
  {
   "cell_type": "code",
   "execution_count": null,
   "metadata": {},
   "outputs": [],
   "source": [
    "landsat_5_da = cat.landsat_5_small.to_dask()\n",
    "landsat_8_da = cat.landsat_8_small.to_dask()"
   ]
  },
  {
   "cell_type": "code",
   "execution_count": null,
   "metadata": {},
   "outputs": [],
   "source": [
    "landsat_8_da"
   ]
  },
  {
   "cell_type": "markdown",
   "metadata": {},
   "source": [
    "## Calculate the Vegetation Index"
   ]
  },
  {
   "cell_type": "markdown",
   "metadata": {},
   "source": [
    "To motivate our preprocessing, let's conduct a simple analysis on the Normalized Difference Vegetation Index [NDVI](https://en.wikipedia.org/wiki/Normalized_difference_vegetation_index) for each of these image sets as follows:\n",
    "\n",
    "\\begin{align}\n",
    "{NDVI} & = \\frac{NIR-Red}{NIR+Red}\n",
    "\\end{align}\n",
    "\n",
    "where Red and NIR stand for the spectral reflectance measurements acquired in the Red (visible) and near-infrared regions, respectively. Note that in Landsat 5 the Red and NIR bands are stored in bands 3 and 4 respectively whereas in Landsat 8 the Red and NIR are bands 4 and 5."
   ]
  },
  {
   "cell_type": "code",
   "execution_count": null,
   "metadata": {},
   "outputs": [],
   "source": [
    "with xr.set_options(keep_attrs=True):\n",
    "    NDVI_1988 = (landsat_5_da.sel(band=4) - landsat_5_da.sel(band=3)) / (landsat_5_da.sel(band=4) + landsat_5_da.sel(band=3))"
   ]
  },
  {
   "cell_type": "markdown",
   "metadata": {},
   "source": [
    "<div class=\"admonition alert alert-info\">\n",
    "    <p class=\"admonition-title\" style=\"font-weight:bold\">Info</p>\n",
    "    Above, we are using a context manager \"with xr.set_options(keep_attrs=True):\" to retain the array's attributes through the operations. That is, we want all the metadata like 'crs' to stay with our result so we can use 'geo=True' in our plotting.\n",
    "</div>"
   ]
  },
  {
   "cell_type": "code",
   "execution_count": null,
   "metadata": {},
   "outputs": [],
   "source": [
    "NDVI_1988"
   ]
  },
  {
   "cell_type": "code",
   "execution_count": null,
   "metadata": {},
   "outputs": [],
   "source": [
    "NDVI_1988_plot = NDVI_1988.hvplot.image(x='x', y='y', geo=True, clim=(-1,1), title='NDVI 1988', rot=45, cmap='viridis')\n",
    "NDVI_1988_plot"
   ]
  },
  {
   "cell_type": "code",
   "execution_count": null,
   "metadata": {},
   "outputs": [],
   "source": [
    "with xr.set_options(keep_attrs=True):\n",
    "    NDVI_2017 = (landsat_8_da.sel(band=5) - landsat_8_da.sel(band=4)) / (landsat_8_da.sel(band=5) + landsat_8_da.sel(band=4))"
   ]
  },
  {
   "cell_type": "code",
   "execution_count": null,
   "metadata": {},
   "outputs": [],
   "source": [
    "NDVI_2017_plot = NDVI_2017.hvplot.image(x='x', y='y', geo=True, clim=(-1,1), title='NDVI 2017', rot=45, cmap='viridis')\n",
    "NDVI_2017_plot"
   ]
  },
  {
   "cell_type": "markdown",
   "metadata": {},
   "source": [
    "We can calculate the difference between these two years by subtracting one from the other."
   ]
  },
  {
   "cell_type": "code",
   "execution_count": null,
   "metadata": {},
   "outputs": [],
   "source": [
    "with xr.set_options(keep_attrs=True):\n",
    "    NDVI_diff = NDVI_2017 - NDVI_1988"
   ]
  },
  {
   "cell_type": "code",
   "execution_count": null,
   "metadata": {},
   "outputs": [],
   "source": [
    "NDVI_diff_plot = NDVI_diff.hvplot.image(x='x', y='y', geo=True, cmap='coolwarm', clim=(-1,1), title='NDVI 2017 - 1988', rot=45)\n",
    "NDVI_diff_plot"
   ]
  },
  {
   "cell_type": "markdown",
   "metadata": {},
   "source": [
    "Notice how pixelated that image looks. What is going on here? To figure it out, let's take a look at the shape of `diff`."
   ]
  },
  {
   "cell_type": "code",
   "execution_count": null,
   "metadata": {},
   "outputs": [],
   "source": [
    "NDVI_diff.shape"
   ]
  },
  {
   "cell_type": "markdown",
   "metadata": {},
   "source": [
    "That's a lot smaller than our NDVI for each year. What is happening is that when we compute the difference on the data we only get values where there are values for each year in the same grid cell. Since the cells are on a different resolution this only happens once every so often. What we'd rather do is interpolate to the same grid and then do our computations on that.\n"
   ]
  },
  {
   "cell_type": "markdown",
   "metadata": {},
   "source": [
    "## Combine data from overlapping grids"
   ]
  },
  {
   "cell_type": "markdown",
   "metadata": {},
   "source": [
    "These two sets of Landsat bands cover roughly the same area but were taken in 1988 and 2017. They have different resolutions, different numbers of grid cells per image, and different x and y offsets. We can see the offset by printing the first `x` value for each year and seeing that they are not equivalent."
   ]
  },
  {
   "cell_type": "code",
   "execution_count": null,
   "metadata": {},
   "outputs": [],
   "source": [
    "print(NDVI_1988.x[0].values)\n",
    "print(NDVI_2017.x[0].values)"
   ]
  },
  {
   "cell_type": "markdown",
   "metadata": {},
   "source": [
    "We can also do a quick check of resolution by subtracting the second x value from the first x value for each year."
   ]
  },
  {
   "cell_type": "code",
   "execution_count": null,
   "metadata": {},
   "outputs": [],
   "source": [
    "print((NDVI_1988.x[1] - NDVI_1988.x[0]).values)\n",
    "print((NDVI_2017.x[1] - NDVI_2017.x[0]).values)"
   ]
  },
  {
   "cell_type": "markdown",
   "metadata": {},
   "source": [
    "To align the grid, resolution, and offset of these images, we will select a region of interest, create a new grid within this region, and then interpolate our images onto this common grid."
   ]
  },
  {
   "cell_type": "markdown",
   "metadata": {},
   "source": [
    "### Select region of interest"
   ]
  },
  {
   "cell_type": "markdown",
   "metadata": {},
   "source": [
    "The first step to selecting a Region of Interest (ROI) is to define its center point.\n",
    "\n",
    "There are multiple ways to define this central point, and we will start with a case in which we know the coordinates in latitude, longitude and need to convert it into the CRS of our data. Alternatively, we will see how easy it is to use interactive visualization to estimate the center point without knowing any prior coordinates.\n",
    "\n",
    "For the first approach, the first step is getting the CRS of our data. This information is stored in the attributes of our original landsat data. Let's take a look at it:"
   ]
  },
  {
   "cell_type": "code",
   "execution_count": null,
   "metadata": {},
   "outputs": [],
   "source": [
    "landsat_8_da.crs"
   ]
  },
  {
   "cell_type": "markdown",
   "metadata": {},
   "source": [
    "This CRS is referenced by an EPSG code. We can see more about this specific code at [EPSG.io](https://epsg.io/32611). Read more about EPSG codes in general in this [Coordinate Reference Systems: EPSG codes](https://pygis.io/docs/d_understand_crs_codes.html#epsg-codes) online book chapter. Note, the `+init=<authority>:<code>` syntax [is being deprecated](https://pyproj4.github.io/pyproj/stable/gotchas.html#init-auth-auth-code-should-be-replaced-with-auth-auth-code), and `<authority>:<code>` is the preferred initialization method."
   ]
  },
  {
   "cell_type": "markdown",
   "metadata": {},
   "source": [
    "We can convert this EPSG number into a `cartopy.crs` object using the `cartopy.crs.epsg` method. This will allow us to transform any point from latitude, longitude into our data's CRS so that we can define a center for our ROI."
   ]
  },
  {
   "cell_type": "code",
   "execution_count": null,
   "metadata": {},
   "outputs": [],
   "source": [
    "crs = ccrs.epsg(32611)"
   ]
  },
  {
   "cell_type": "code",
   "execution_count": null,
   "metadata": {},
   "outputs": [],
   "source": [
    "crs.__repr__()"
   ]
  },
  {
   "cell_type": "code",
   "execution_count": null,
   "metadata": {},
   "outputs": [],
   "source": [
    "crs.area_of_use"
   ]
  },
  {
   "cell_type": "code",
   "execution_count": null,
   "metadata": {},
   "outputs": [],
   "source": [
    "crs_box = [(crs.x_limits[0], crs.y_limits[0]), (crs.x_limits[0], crs.y_limits[1]),\n",
    "           (crs.x_limits[1], crs.y_limits[1]), (crs.x_limits[1], crs.y_limits[0])]\n",
    "\n",
    "crs_extent = gv.Polygons(crs_box, crs=crs).options(alpha=0.4, color='blue', line_alpha=0)\n",
    "\n",
    "(gv.feature.coastline * crs_extent).options(title='EPSG:32611', global_extent=True)"
   ]
  },
  {
   "cell_type": "markdown",
   "metadata": {},
   "source": [
    "Just for comparison, let's preview the coverage of a totally different EPSG; perhaps one in the southern hemisphere."
   ]
  },
  {
   "cell_type": "code",
   "execution_count": null,
   "metadata": {},
   "outputs": [],
   "source": [
    "crs2 = ccrs.epsg(32735)\n",
    "crs2.area_of_use"
   ]
  },
  {
   "cell_type": "code",
   "execution_count": null,
   "metadata": {},
   "outputs": [],
   "source": [
    "crs_box2 = [(crs2.x_limits[0], crs2.y_limits[0]), (crs2.x_limits[0], crs2.y_limits[1]),\n",
    "           (crs2.x_limits[1], crs2.y_limits[1]), (crs2.x_limits[1], crs2.y_limits[0])]\n",
    "\n",
    "crs_extent2 = gv.Polygons(crs_box, crs=crs2).options(alpha=0.4, color='red', line_alpha=0)\n",
    "\n",
    "(gv.feature.coastline * crs_extent2).options(title='EPSG:32735', global_extent=True)"
   ]
  },
  {
   "cell_type": "markdown",
   "metadata": {},
   "source": [
    "Hopefully, this gives you some intuition for the data that we are looking at and that it comes from a small North American region within the blue highlighted area on the 'EPSG:32611' plot."
   ]
  },
  {
   "cell_type": "markdown",
   "metadata": {},
   "source": [
    "Now, if we know already know our center point in terms of a latitude, longitude point (from a `cartopy.crs.PlateCarree()` projection), we can transform this into the CRS of our data using the `transform_point` method:"
   ]
  },
  {
   "cell_type": "code",
   "execution_count": null,
   "metadata": {},
   "outputs": [],
   "source": [
    "center={'x':np.nan, 'y':np.nan}\n",
    "center['x'], center['y'] = crs.transform_point(-118.7081, 38.6942, ccrs.PlateCarree())"
   ]
  },
  {
   "cell_type": "code",
   "execution_count": null,
   "metadata": {},
   "outputs": [],
   "source": [
    "center['x']"
   ]
  },
  {
   "cell_type": "markdown",
   "metadata": {},
   "source": [
    "But what if we didn't happen to know the center point in terms of latitude and longitude? Since we are using interactive plots with `hvplot`, we can look at one of our previous plots of the lake and hover over the region that we want to use as a center point to reveal the coordinates in latitude, longitude (created by plotting with `geo=True`). \n",
    "\n",
    "Alternatively, we could just hover over a plot of our data that is still in our data `crs` projection (by using the default `geo=False`) to directly get our `x_center` and `y_center`. Try it below - hover over the center of the lake to reveal the x and y points:"
   ]
  },
  {
   "cell_type": "code",
   "execution_count": null,
   "metadata": {},
   "outputs": [],
   "source": [
    "NDVI_2017.hvplot.image(x='x', y='y', width=400, clim=(-1,1), rot=45, cmap='viridis')"
   ]
  },
  {
   "cell_type": "markdown",
   "metadata": {},
   "source": [
    "A more advanced approach would be to update automatically assign the coordinates to a variable when we click on the image. For this, we will reach to HoloViews, the library that powers hvPlot. For more information about this functionality of HoloViews, check out the [HoloViews Tap stream](https://holoviews.org/reference/streams/bokeh/Tap.html) page."
   ]
  },
  {
   "cell_type": "markdown",
   "metadata": {},
   "source": [
    "First, we'll create function to update our `center` dictionary based on clicks."
   ]
  },
  {
   "cell_type": "code",
   "execution_count": null,
   "metadata": {},
   "outputs": [],
   "source": [
    "def onclick(x,y):\n",
    "    center['x'] = x\n",
    "    center['y'] = y"
   ]
  },
  {
   "cell_type": "markdown",
   "metadata": {},
   "source": [
    "Then we'll connect a HoloViews Tap stream to our plot"
   ]
  },
  {
   "cell_type": "code",
   "execution_count": null,
   "metadata": {},
   "outputs": [],
   "source": [
    "crs_plot = NDVI_2017.hvplot.image(x='x', y='y', width=400, clim=(-1,1), rot=45, cmap='viridis')\n",
    "\n",
    "tap_stream = hv.streams.Tap(source=crs_plot)\n",
    "\n",
    "tap_stream.add_subscriber(onclick)\n",
    "\n",
    "crs_plot"
   ]
  },
  {
   "cell_type": "markdown",
   "metadata": {},
   "source": [
    "Now our `center` variable will change each time we click on the plot above. Go ahead and click near the center of the lake on the plot above and then run the cell below to see the update. Every time you click a new spot on the plot, you can rerun the cell to confirm that the value has changed."
   ]
  },
  {
   "cell_type": "code",
   "execution_count": null,
   "metadata": {},
   "outputs": [],
   "source": [
    "center"
   ]
  },
  {
   "cell_type": "markdown",
   "metadata": {},
   "source": [
    "Don't worry too much about capturing the exact center of the lake, a rough estimate is sufficient."
   ]
  },
  {
   "cell_type": "markdown",
   "metadata": {},
   "source": [
    "Now we just need to define the area that we are interested in around this point. In this case we'll use a 30 km box around the center point."
   ]
  },
  {
   "cell_type": "code",
   "execution_count": null,
   "metadata": {},
   "outputs": [],
   "source": [
    "buffer = 1.5e4\n",
    "\n",
    "xmin = center['x'] - buffer\n",
    "xmax = center['x'] + buffer\n",
    "ymin = center['y'] - buffer\n",
    "ymax = center['y'] + buffer"
   ]
  },
  {
   "cell_type": "code",
   "execution_count": null,
   "metadata": {},
   "outputs": [],
   "source": [
    "bounding_box = [(xmin, ymin), (xmin, ymax), (xmax, ymax), (xmax, ymin)]"
   ]
  },
  {
   "cell_type": "markdown",
   "metadata": {},
   "source": [
    "Let's just check that the bounding box captures the lake:"
   ]
  },
  {
   "cell_type": "code",
   "execution_count": null,
   "metadata": {},
   "outputs": [],
   "source": [
    "roi = gv.Polygons(bounding_box, crs=crs)"
   ]
  },
  {
   "cell_type": "code",
   "execution_count": null,
   "metadata": {},
   "outputs": [],
   "source": [
    "gv.tile_sources.EsriImagery * roi.options(alpha=0.3)"
   ]
  },
  {
   "cell_type": "markdown",
   "metadata": {},
   "source": [
    "### Regrid"
   ]
  },
  {
   "cell_type": "markdown",
   "metadata": {},
   "source": [
    "We can use this region to define a new grid onto which we will interpolate our data. "
   ]
  },
  {
   "cell_type": "markdown",
   "metadata": {},
   "source": [
    "Note, we will be regridding with simple linear interpolation which treats the space as flat. This is fine for our demonstration purposes at a relatively small spatial scale. However, despite what you may have heard, the earth is not flat, and treating it as such can give less accurate results when working with a larger spherical space. For more information about spherical resampling methods, check out the [GeoViews resampling grids](http://geoviews.org/user_guide/Resampling_Grids.html) page, as it describes using different grid types including rectilinear, curvilinear grids and trimeshes. In particular, the conservative regridding approach using the [xESMF](https://xesmf.readthedocs.io/en/latest/) library has become a common choice."
   ]
  },
  {
   "cell_type": "markdown",
   "metadata": {},
   "source": [
    "Let's set the resolution of our new grid within the bounding box to roughly match the resolution of our original images."
   ]
  },
  {
   "cell_type": "code",
   "execution_count": null,
   "metadata": {},
   "outputs": [],
   "source": [
    "res = 200\n",
    "x = np.arange(xmin, xmax, res)\n",
    "y = np.arange(ymin, ymax, res)\n",
    "x.shape"
   ]
  },
  {
   "cell_type": "markdown",
   "metadata": {},
   "source": [
    "We will use xarray's linear interpolation to calculate the values for each grid cell."
   ]
  },
  {
   "cell_type": "code",
   "execution_count": null,
   "metadata": {
    "tags": []
   },
   "outputs": [],
   "source": [
    "NDVI_2017_regridded = NDVI_2017.interp(x=x, y=y)\n",
    "NDVI_1988_regridded = NDVI_1988.interp(x=x, y=y)"
   ]
  },
  {
   "cell_type": "markdown",
   "metadata": {},
   "source": [
    "Let's compare our original data to this regridded form."
   ]
  },
  {
   "cell_type": "code",
   "execution_count": null,
   "metadata": {},
   "outputs": [],
   "source": [
    "NDVI_2017_regridded_plot = NDVI_2017_regridded.hvplot.image(x='x', y='y', clim=(-1,1), title='NDVI 2017 regridded', geo=True, rot=45, cmap='viridis')\n",
    "NDVI_1988_regridded_plot = NDVI_1988_regridded.hvplot.image(x='x', y='y', clim=(-1,1), title='NDVI 1988 regridded', geo=True, rot=45, cmap='viridis')"
   ]
  },
  {
   "cell_type": "markdown",
   "metadata": {},
   "source": [
    "<div class=\"admonition alert alert-info\">\n",
    "    <p class=\"admonition-title\" style=\"font-weight:bold\">Note</p>\n",
    "    With hvPlot, you can render multiple plots using the `+` operator, and stack them into rows by defining the number of columns with `.cols`. When possible, hvPlot will automatically link the plots so you can zoom and pan on one image and keep them in sync.\n",
    "</div>\n"
   ]
  },
  {
   "cell_type": "markdown",
   "metadata": {},
   "source": [
    "Zoom into one of the images below to see the result of interpolating on this new common grid. The regridded plots (bottom row) will have a consistent pixelation compared to the original NDVI data (top row)."
   ]
  },
  {
   "cell_type": "code",
   "execution_count": null,
   "metadata": {},
   "outputs": [],
   "source": [
    "(NDVI_1988_plot + NDVI_2017_plot + NDVI_1988_regridded_plot + NDVI_2017_regridded_plot).cols(2)"
   ]
  },
  {
   "cell_type": "markdown",
   "metadata": {},
   "source": [
    "### Combining the data \n"
   ]
  },
  {
   "cell_type": "markdown",
   "metadata": {},
   "source": [
    "Now that we have our data on the same grid we can combine our two years into one `xarray` object. We will treat the years as names and create an `xarray.Dataset` - a group of named `xarray.DataArray`s that share some of the same coordinates."
   ]
  },
  {
   "cell_type": "code",
   "execution_count": null,
   "metadata": {},
   "outputs": [],
   "source": [
    "ds_regridded = xr.Dataset({'NDVI_1988': NDVI_1988_regridded, 'NDVI_2017': NDVI_2017_regridded})\n",
    "ds_regridded"
   ]
  },
  {
   "cell_type": "markdown",
   "metadata": {},
   "source": [
    "### Visualizing output\n"
   ]
  },
  {
   "cell_type": "markdown",
   "metadata": {},
   "source": [
    "We can now reference each year from the same object, and plot the arrays side by side:"
   ]
  },
  {
   "cell_type": "code",
   "execution_count": null,
   "metadata": {},
   "outputs": [],
   "source": [
    "ds_regridded.NDVI_1988.hvplot.image(x='x', y='y', geo=True, clim=(-1, 1), title='NDVI 1988', cmap='viridis')  +\\\n",
    "ds_regridded.NDVI_2017.hvplot.image(x='x', y='y', geo=True, clim=(-1, 1), title='NDVI 2017', cmap='viridis')"
   ]
  },
  {
   "cell_type": "markdown",
   "metadata": {},
   "source": [
    "Or we can calculate and plot the difference between the two years:"
   ]
  },
  {
   "cell_type": "code",
   "execution_count": null,
   "metadata": {},
   "outputs": [],
   "source": [
    "with xr.set_options(keep_attrs=True):\n",
    "    diff_regridded = ds_regridded['NDVI_2017'] - ds_regridded['NDVI_1988']\n",
    "diff_regridded"
   ]
  },
  {
   "cell_type": "code",
   "execution_count": null,
   "metadata": {},
   "outputs": [],
   "source": [
    "NDVI_diff_regridded_plot = diff_regridded.hvplot.image(x='x', y='y', geo=True, rot=45, cmap='coolwarm', clim=(-1,1), title='NDVI 2017 - 1988')\n",
    "NDVI_diff_regridded_plot"
   ]
  },
  {
   "cell_type": "markdown",
   "metadata": {},
   "source": [
    "As the Vegetation Index will generally give a lower value where water is present, you can clearly see a large positive change along the edge of the lake indicating a reduction in the size of the lake over this time period."
   ]
  },
  {
   "cell_type": "markdown",
   "metadata": {},
   "source": [
    "## Side-note: Resampling\n"
   ]
  },
  {
   "cell_type": "markdown",
   "metadata": {},
   "source": [
    "Depending on your analysis, it may be beneficial to downsample your data. Especially early on during analysis development, running computations on full resolution data may eat into valuable time that you could otherwise use iterating, debugging, and improving your workflow. Luckily, downsampling xarray data is made pretty easy by grouping the values into bins based on the desired resolution and taking some aggregation (like the mean) on each of those bins."
   ]
  },
  {
   "cell_type": "code",
   "execution_count": null,
   "metadata": {},
   "outputs": [],
   "source": [
    "res_1000 = 1e3\n",
    "x_1000 = np.arange(xmin, xmax, res_1000)\n",
    "y_1000 = np.arange(ymin, ymax, res_1000)"
   ]
  },
  {
   "cell_type": "markdown",
   "metadata": {},
   "source": [
    "We'll use the left edge as the label for now."
   ]
  },
  {
   "cell_type": "code",
   "execution_count": null,
   "metadata": {},
   "outputs": [],
   "source": [
    "diff_res_1000 = (diff_regridded\n",
    "    .groupby_bins('x', x_1000, labels=x_1000[:-1]).mean(dim='x')\n",
    "    .groupby_bins('y', y_1000, labels=y_1000[:-1]).mean(dim='y')\n",
    "    .rename(x_bins='x', y_bins='y')\n",
    ")\n",
    "diff_res_1000"
   ]
  },
  {
   "cell_type": "code",
   "execution_count": null,
   "metadata": {},
   "outputs": [],
   "source": [
    "diff_res_1000.hvplot.image(x='x', y='y', geo=True, rot=45, cmap='coolwarm', clim=(-1,1), title='Downsampled')"
   ]
  },
  {
   "cell_type": "markdown",
   "metadata": {},
   "source": [
    "And there you go, nicely downsampled data ready for some fast computations."
   ]
  },
  {
   "cell_type": "markdown",
   "metadata": {},
   "source": [
    "---"
   ]
  },
  {
   "cell_type": "markdown",
   "metadata": {},
   "source": [
    "## Summary\n",
    "With the target of preparing our data for further analysis, we've learned how to ensure that our data are on a consistent coordinate grid. Again, this is especially important if we are performing operations across the datasets, like taking the difference between their images. Although preprocessing can sometimes be tedious, it's a very critical part of the workflow, and often only needs to be done once (or a small number of times) before being able to apply the processed data to a large number of different analyses.\n",
    "\n",
    "### What's next?\n",
    "Now that we know how to prepare data, it's time to proceed to analysis, where we will explore a some simple machine learning approaches.\n"
   ]
  },
  {
   "cell_type": "markdown",
   "metadata": {},
   "source": [
    "## Resources and references\n",
    "- Authored/adapted by Demetris Roumis circa Dec, 2022\n",
    "- The Landsat 8 banner image is from [NASA](https://www.nasa.gov/mission_pages/landsat/main/LDCM_Spacecraft_intro.html)"
   ]
  },
  {
   "cell_type": "code",
   "execution_count": null,
   "metadata": {},
   "outputs": [],
   "source": []
  }
 ],
 "metadata": {
  "kernelspec": {
   "display_name": "Python 3 (ipykernel)",
   "language": "python",
   "name": "python3"
  },
  "language_info": {
   "codemirror_mode": {
    "name": "ipython",
    "version": 3
   },
   "file_extension": ".py",
   "mimetype": "text/x-python",
   "name": "python",
   "nbconvert_exporter": "python",
   "pygments_lexer": "ipython3",
   "version": "3.10.8"
  },
  "nbdime-conflicts": {
   "local_diff": [
    {
     "diff": [
      {
       "diff": [
        {
         "key": 0,
         "op": "addrange",
         "valuelist": [
          "Python 3"
         ]
        },
        {
         "key": 0,
         "length": 1,
         "op": "removerange"
        }
       ],
       "key": "display_name",
       "op": "patch"
      }
     ],
     "key": "kernelspec",
     "op": "patch"
    }
   ],
   "remote_diff": [
    {
     "diff": [
      {
       "diff": [
        {
         "key": 0,
         "op": "addrange",
         "valuelist": [
          "Python3"
         ]
        },
        {
         "key": 0,
         "length": 1,
         "op": "removerange"
        }
       ],
       "key": "display_name",
       "op": "patch"
      }
     ],
     "key": "kernelspec",
     "op": "patch"
    }
   ]
  },
  "toc-autonumbering": false,
  "vscode": {
   "interpreter": {
    "hash": "d2ed0a8e3e051554a0b51e3917f81e884b169a97835ad70210b3681eb3cb39c7"
   }
  }
 },
 "nbformat": 4,
 "nbformat_minor": 4
}
