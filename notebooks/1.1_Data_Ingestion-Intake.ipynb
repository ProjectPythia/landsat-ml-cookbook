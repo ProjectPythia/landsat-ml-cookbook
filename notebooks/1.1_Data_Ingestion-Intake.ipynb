{
 "cells": [
  {
   "cell_type": "markdown",
   "metadata": {},
   "source": [
    "![Landsat8](./images/nasa_landsat8.jpg \"Landsat8\")"
   ]
  },
  {
   "cell_type": "markdown",
   "metadata": {},
   "source": [
    "# Data Ingestion - Intake"
   ]
  },
  {
   "cell_type": "markdown",
   "metadata": {},
   "source": [
    "---"
   ]
  },
  {
   "cell_type": "markdown",
   "metadata": {},
   "source": [
    "## Overview\n",
    "\n",
    "In the last notebook, you learned how to efficiently load data from the Microsoft Planetary Computer platform. If that approach works for you, please proceed to a workflow example. In this notebook we will demonstrate common alternative approaches and techniques for general data access, centered around [Intake](https://intake.readthedocs.io)."
   ]
  },
  {
   "cell_type": "markdown",
   "metadata": {},
   "source": [
    "<div class=\"admonition alert alert-info\">\n",
    "    <p class=\"admonition-title\" style=\"font-weight:bold\">Info</p>\n",
    "        A great way to contribute to this cookbook is to create a notebook that focuses on data access from a specific provider.\n",
    "</div>"
   ]
  },
  {
   "cell_type": "markdown",
   "metadata": {},
   "source": [
    "## Prerequisites\n",
    "\n",
    "| Concepts | Importance | Notes |\n",
    "| --- | --- | --- |\n",
    "| [Intro to Landsat](./0.0_Intro_Landsat.ipynb) | Necessary | Background |\n",
    "| [Data Ingestion - Planetary Computer](1.0_Data_Ingestion-Planetary_Computer.ipynb) | Helpful | |\n",
    "| [Pandas Cookbook](https://foundations.projectpythia.org/core/pandas.html) | Helpful |  |\n",
    "| [xarray Cookbook](https://foundations.projectpythia.org/core/xarray.html) | Necessary |  |\n",
    "| [Intake Quickstart](https://intake.readthedocs.io/en/latest/index.html) | Helpful |  |\n",
    "|[Intake Cookbook](https://projectpythia.org/intake-cookbook/README.html)| Necessary | |\n",
    "\n",
    "- **Time to learn**: 20 minutes"
   ]
  },
  {
   "cell_type": "markdown",
   "metadata": {},
   "source": [
    "---"
   ]
  },
  {
   "cell_type": "markdown",
   "metadata": {},
   "source": [
    "## Imports"
   ]
  },
  {
   "cell_type": "code",
   "execution_count": null,
   "metadata": {},
   "outputs": [],
   "source": [
    "import json\n",
    "\n",
    "import xarray as xr\n",
    "import intake\n",
    "import panel as pn\n",
    "import hvplot.xarray\n",
    "import planetary_computer\n",
    "import rioxarray as rxr\n",
    "\n",
    "\n",
    "import warnings\n",
    "warnings.simplefilter('ignore', FutureWarning) # Ignore warning about the format of epsg codes"
   ]
  },
  {
   "cell_type": "markdown",
   "metadata": {},
   "source": [
    "To get started, we need to provide a STAC URL (or any other data source URL) to intake, and we can ask intake to recommend some suitable datatypes."
   ]
  },
  {
   "cell_type": "code",
   "execution_count": 41,
   "metadata": {},
   "outputs": [
    {
     "name": "stdout",
     "output_type": "stream",
     "text": [
      "[<class 'intake.readers.datatypes.STACJSON'>, <class 'intake.readers.datatypes.Handle'>, <class 'intake.readers.datatypes.JSONFile'>, <class 'intake.readers.datatypes.TiledService'>, <class 'intake.readers.datatypes.CatalogAPI'>]\n"
     ]
    }
   ],
   "source": [
    "url = \"https://planetarycomputer.microsoft.com/api/stac/v1\"\n",
    "data_types = intake.readers.datatypes.recommend(url)\n",
    "print(data_types)"
   ]
  },
  {
   "cell_type": "markdown",
   "metadata": {},
   "source": [
    "We will use STACJSON to read the URL."
   ]
  },
  {
   "cell_type": "code",
   "execution_count": 42,
   "metadata": {},
   "outputs": [
    {
     "data": {
      "text/plain": [
       "STACJSON, {'url': 'https://planetarycomputer.microsoft.com/api/stac/v1', 'storage_options': None, 'metadata': {}}"
      ]
     },
     "execution_count": 42,
     "metadata": {},
     "output_type": "execute_result"
    }
   ],
   "source": [
    "data_type = intake.datatypes.STACJSON(url)\n",
    "data_type"
   ]
  },
  {
   "cell_type": "markdown",
   "metadata": {},
   "source": [
    "Similarly, we can check out the possible readers to use with the STACJSON datatype."
   ]
  },
  {
   "cell_type": "code",
   "execution_count": 43,
   "metadata": {},
   "outputs": [
    {
     "name": "stdout",
     "output_type": "stream",
     "text": [
      "{'importable': [<class 'intake.readers.catalogs.StacCatalogReader'>, <class 'intake.readers.catalogs.StackBands'>, <class 'intake.readers.catalogs.StacSearch'>, <class 'intake.readers.readers.DaskJSON'>, <class 'intake.readers.readers.FileByteReader'>, <class 'intake.readers.readers.FileExistsReader'>], 'not_importable': [<class 'intake.readers.readers.RayJSON'>, <class 'intake.readers.readers.DuckJSON'>, <class 'intake.readers.readers.PolarsJSON'>, <class 'intake.readers.readers.AwkwardJSON'>, <class 'intake.readers.readers.RayBinary'>]}\n"
     ]
    }
   ],
   "source": [
    "readers = data_type.possible_readers\n",
    "print(readers)"
   ]
  },
  {
   "cell_type": "markdown",
   "metadata": {},
   "source": [
    "The StacCatalogReader is probably the most suitable for our use case. We can use it to read the STAC catalog and explore the available contents."
   ]
  },
  {
   "cell_type": "code",
   "execution_count": 46,
   "metadata": {},
   "outputs": [
    {
     "data": {
      "text/plain": [
       "StacCatalogReader reader producing intake.readers.entry:Catalog"
      ]
     },
     "execution_count": 46,
     "metadata": {},
     "output_type": "execute_result"
    }
   ],
   "source": [
    "reader = intake.catalogs.StacCatalogReader(\n",
    "    data_type, signer=planetary_computer.sign_inplace\n",
    ")\n",
    "reader"
   ]
  },
  {
   "cell_type": "markdown",
   "metadata": {},
   "source": [
    "We can read the catalog and see what's available:"
   ]
  },
  {
   "cell_type": "code",
   "execution_count": 48,
   "metadata": {},
   "outputs": [
    {
     "data": {
      "text/plain": [
       "['daymet-annual-pr',\n",
       " 'daymet-daily-hi',\n",
       " '3dep-seamless',\n",
       " '3dep-lidar-dsm',\n",
       " 'fia',\n",
       " 'sentinel-1-rtc',\n",
       " 'gridmet',\n",
       " 'daymet-annual-na',\n",
       " 'daymet-monthly-na',\n",
       " 'daymet-annual-hi',\n",
       " 'daymet-monthly-hi',\n",
       " 'daymet-monthly-pr',\n",
       " 'gnatsgo-tables',\n",
       " 'hgb',\n",
       " 'cop-dem-glo-30',\n",
       " 'cop-dem-glo-90',\n",
       " 'goes-cmi',\n",
       " 'terraclimate',\n",
       " 'nasa-nex-gddp-cmip6',\n",
       " 'gpm-imerg-hhr',\n",
       " 'gnatsgo-rasters',\n",
       " '3dep-lidar-hag',\n",
       " 'io-lulc-annual-v02',\n",
       " '3dep-lidar-intensity',\n",
       " '3dep-lidar-pointsourceid',\n",
       " 'mtbs',\n",
       " 'noaa-c-cap',\n",
       " '3dep-lidar-copc',\n",
       " 'modis-64A1-061',\n",
       " 'alos-fnf-mosaic',\n",
       " '3dep-lidar-returns',\n",
       " 'mobi',\n",
       " 'landsat-c2-l2',\n",
       " 'era5-pds',\n",
       " 'chloris-biomass',\n",
       " 'kaza-hydroforecast',\n",
       " 'planet-nicfi-analytic',\n",
       " 'modis-17A2H-061',\n",
       " 'modis-11A2-061',\n",
       " 'daymet-daily-pr',\n",
       " '3dep-lidar-dtm-native',\n",
       " '3dep-lidar-classification',\n",
       " '3dep-lidar-dtm',\n",
       " 'gap',\n",
       " 'modis-17A2HGF-061',\n",
       " 'planet-nicfi-visual',\n",
       " 'gbif',\n",
       " 'modis-17A3HGF-061',\n",
       " 'modis-09A1-061',\n",
       " 'alos-dem',\n",
       " 'alos-palsar-mosaic',\n",
       " 'deltares-water-availability',\n",
       " 'modis-16A3GF-061',\n",
       " 'modis-21A2-061',\n",
       " 'us-census',\n",
       " 'jrc-gsw',\n",
       " 'deltares-floods',\n",
       " 'modis-43A4-061',\n",
       " 'modis-09Q1-061',\n",
       " 'modis-14A1-061',\n",
       " 'hrea',\n",
       " 'modis-13Q1-061',\n",
       " 'modis-14A2-061',\n",
       " 'sentinel-2-l2a',\n",
       " 'modis-15A2H-061',\n",
       " 'modis-11A1-061',\n",
       " 'modis-15A3H-061',\n",
       " 'modis-13A1-061',\n",
       " 'daymet-daily-na',\n",
       " 'nrcan-landcover',\n",
       " 'modis-10A2-061',\n",
       " 'ecmwf-forecast',\n",
       " 'noaa-mrms-qpe-24h-pass2',\n",
       " 'sentinel-1-grd',\n",
       " 'nasadem',\n",
       " 'io-lulc',\n",
       " 'landsat-c2-l1',\n",
       " 'drcog-lulc',\n",
       " 'chesapeake-lc-7',\n",
       " 'chesapeake-lc-13',\n",
       " 'chesapeake-lu',\n",
       " 'noaa-mrms-qpe-1h-pass1',\n",
       " 'noaa-mrms-qpe-1h-pass2',\n",
       " 'noaa-nclimgrid-monthly',\n",
       " 'goes-glm',\n",
       " 'usda-cdl',\n",
       " 'eclipse',\n",
       " 'esa-cci-lc',\n",
       " 'esa-cci-lc-netcdf',\n",
       " 'fws-nwi',\n",
       " 'usgs-lcmap-conus-v13',\n",
       " 'usgs-lcmap-hawaii-v10',\n",
       " 'noaa-climate-normals-tabular',\n",
       " 'noaa-climate-normals-netcdf',\n",
       " 'noaa-climate-normals-gridded',\n",
       " 'aster-l1t',\n",
       " 'cil-gdpcir-cc-by-sa',\n",
       " 'naip',\n",
       " 'io-lulc-9-class',\n",
       " 'io-biodiversity',\n",
       " 'noaa-cdr-sea-surface-temperature-whoi',\n",
       " 'noaa-cdr-ocean-heat-content',\n",
       " 'cil-gdpcir-cc0',\n",
       " 'cil-gdpcir-cc-by',\n",
       " 'noaa-cdr-sea-surface-temperature-whoi-netcdf',\n",
       " 'noaa-cdr-sea-surface-temperature-optimum-interpolation',\n",
       " 'modis-10A1-061',\n",
       " 'sentinel-5p-l2-netcdf',\n",
       " 'sentinel-3-olci-wfr-l2-netcdf',\n",
       " 'noaa-cdr-ocean-heat-content-netcdf',\n",
       " 'sentinel-3-synergy-aod-l2-netcdf',\n",
       " 'sentinel-3-synergy-v10-l2-netcdf',\n",
       " 'sentinel-3-olci-lfr-l2-netcdf',\n",
       " 'sentinel-3-sral-lan-l2-netcdf',\n",
       " 'sentinel-3-slstr-lst-l2-netcdf',\n",
       " 'sentinel-3-slstr-wst-l2-netcdf',\n",
       " 'sentinel-3-sral-wat-l2-netcdf',\n",
       " 'ms-buildings',\n",
       " 'sentinel-3-slstr-frp-l2-netcdf',\n",
       " 'sentinel-3-synergy-syn-l2-netcdf',\n",
       " 'sentinel-3-synergy-vgp-l2-netcdf',\n",
       " 'sentinel-3-synergy-vg1-l2-netcdf',\n",
       " 'esa-worldcover']"
      ]
     },
     "execution_count": 48,
     "metadata": {},
     "output_type": "execute_result"
    }
   ],
   "source": [
    "stac_cat = reader.read()\n",
    "metadata = {}\n",
    "for data_description in stac_cat.data.values():\n",
    "    data = data_description.kwargs[\"data\"]\n",
    "    metadata[data[\"id\"]] = data[\"description\"]\n",
    "list(metadata.keys())"
   ]
  },
  {
   "cell_type": "markdown",
   "metadata": {},
   "source": [
    "We can print the description of the desired IDs."
   ]
  },
  {
   "cell_type": "code",
   "execution_count": 49,
   "metadata": {},
   "outputs": [
    {
     "name": "stdout",
     "output_type": "stream",
     "text": [
      "1: Landsat Collection 2 Level-1 data, consisting of quantized and calibrated scaled Digital Numbers (DN) representing the multispectral image data. These [Level-1](https://www.usgs.gov/landsat-missions/landsat-collection-2-level-1-data) data can be [rescaled](https://www.usgs.gov/landsat-missions/using-usgs-landsat-level-1-data-product) to top of atmosphere (TOA) reflectance and/or radiance. Thermal band data can be rescaled to TOA brightness temperature.\n",
      "\n",
      "This dataset represents the global archive of Level-1 data from [Landsat Collection 2](https://www.usgs.gov/core-science-systems/nli/landsat/landsat-collection-2) acquired by the [Multispectral Scanner System](https://landsat.gsfc.nasa.gov/multispectral-scanner-system/) onboard Landsat 1 through Landsat 5 from July 7, 1972 to January 7, 2013. Images are stored in [cloud-optimized GeoTIFF](https://www.cogeo.org/) format.\n",
      "\n",
      "2: Landsat Collection 2 Level-2 [Science Products](https://www.usgs.gov/landsat-missions/landsat-collection-2-level-2-science-products), consisting of atmospherically corrected [surface reflectance](https://www.usgs.gov/landsat-missions/landsat-collection-2-surface-reflectance) and [surface temperature](https://www.usgs.gov/landsat-missions/landsat-collection-2-surface-temperature) image data. Collection 2 Level-2 Science Products are available from August 22, 1982 to present.\n",
      "\n",
      "This dataset represents the global archive of Level-2 data from [Landsat Collection 2](https://www.usgs.gov/core-science-systems/nli/landsat/landsat-collection-2) acquired by the [Thematic Mapper](https://landsat.gsfc.nasa.gov/thematic-mapper/) onboard Landsat 4 and 5, the [Enhanced Thematic Mapper](https://landsat.gsfc.nasa.gov/the-enhanced-thematic-mapper-plus-etm/) onboard Landsat 7, and the [Operatational Land Imager](https://landsat.gsfc.nasa.gov/satellites/landsat-8/spacecraft-instruments/operational-land-imager/) and [Thermal Infrared Sensor](https://landsat.gsfc.nasa.gov/satellites/landsat-8/spacecraft-instruments/thermal-infrared-sensor/) onboard Landsat 8 and 9. Images are stored in [cloud-optimized GeoTIFF](https://www.cogeo.org/) format.\n",
      "\n"
     ]
    }
   ],
   "source": [
    "print(\"1:\", metadata[\"landsat-c2-l1\"])\n",
    "print(\"2:\", metadata[\"landsat-c2-l2\"])"
   ]
  },
  {
   "cell_type": "markdown",
   "metadata": {},
   "source": [
    "Specifically, we want landsat-c2-l2."
   ]
  },
  {
   "cell_type": "code",
   "execution_count": null,
   "metadata": {},
   "outputs": [],
   "source": [
    "landsat_reader = stac_cat[\"landsat-c2-l2\"]\n",
    "landsat_reader.read()"
   ]
  },
  {
   "cell_type": "markdown",
   "metadata": {},
   "source": [
    "We can get a preview of the dataset by looking at the thumbnail."
   ]
  },
  {
   "cell_type": "code",
   "execution_count": null,
   "metadata": {},
   "outputs": [],
   "source": [
    "landsat_thumbnail = landsat_reader[\"thumbnail\"].read()\n",
    "pn.pane.Image(landsat_thumbnail)\n"
   ]
  },
  {
   "cell_type": "markdown",
   "metadata": {},
   "source": [
    "If that's desired, we can move on to get the items in the catalog.\n"
   ]
  },
  {
   "cell_type": "code",
   "execution_count": null,
   "metadata": {},
   "outputs": [],
   "source": [
    "landsat_items = landsat_reader[\"geoparquet-items\"]\n",
    "landsat_ddf = landsat_items.kwargs[\"data\"].to_reader(\"dask\").read()\n",
    "landsat_ddf.head()"
   ]
  },
  {
   "cell_type": "markdown",
   "metadata": {},
   "source": [
    "Let's select a single item to work with."
   ]
  },
  {
   "cell_type": "code",
   "execution_count": 51,
   "metadata": {},
   "outputs": [],
   "source": [
    "selected_item = landsat_ddf.tail(1).iloc[0]"
   ]
  },
  {
   "cell_type": "markdown",
   "metadata": {},
   "source": [
    "We can extract the links."
   ]
  },
  {
   "cell_type": "code",
   "execution_count": null,
   "metadata": {},
   "outputs": [],
   "source": [
    "for link in selected_item[\"links\"]:\n",
    "    if link[\"rel\"] == \"self\":\n",
    "        href = link[\"href\"]\n",
    "        break"
   ]
  },
  {
   "cell_type": "markdown",
   "metadata": {},
   "source": [
    "Repeat the process aforementioned."
   ]
  },
  {
   "cell_type": "code",
   "execution_count": null,
   "metadata": {},
   "outputs": [],
   "source": [
    "stac_json = intake.readers.datatypes.STACJSON(href)"
   ]
  },
  {
   "cell_type": "code",
   "execution_count": null,
   "metadata": {},
   "outputs": [],
   "source": [
    "stac_json.possible_readers"
   ]
  },
  {
   "cell_type": "code",
   "execution_count": null,
   "metadata": {},
   "outputs": [],
   "source": [
    "reader = intake.readers.DaskJSON(stac_json)"
   ]
  },
  {
   "cell_type": "code",
   "execution_count": null,
   "metadata": {},
   "outputs": [],
   "source": [
    "row = reader.read().compute().iloc[0]"
   ]
  },
  {
   "cell_type": "markdown",
   "metadata": {},
   "source": [
    "Then, we can load the actual assets."
   ]
  },
  {
   "cell_type": "code",
   "execution_count": null,
   "metadata": {},
   "outputs": [],
   "source": [
    "assets = json.loads(row[\"assets\"].replace(\"'\", '\"'))"
   ]
  },
  {
   "cell_type": "code",
   "execution_count": null,
   "metadata": {},
   "outputs": [],
   "source": [
    "list(assets)"
   ]
  },
  {
   "cell_type": "markdown",
   "metadata": {},
   "source": [
    "Now build a dataset from the assets; we use sign_inplace to properly modify the URL to use proper authentication."
   ]
  },
  {
   "cell_type": "code",
   "execution_count": null,
   "metadata": {},
   "outputs": [],
   "source": [
    "da_list = []\n",
    "for band in [\"red\", \"green\", \"blue\", \"nir08\"]:\n",
    "    url = planetary_computer.sign_inplace(assets[band][\"href\"])\n",
    "    da_list.append(rxr.open_rasterio(url).squeeze(drop=True).rename(band))\n",
    "ds = xr.merge(da_list).load()"
   ]
  },
  {
   "cell_type": "markdown",
   "metadata": {},
   "source": [
    "Now, we can plot the true color imagery with the extracted bands."
   ]
  },
  {
   "cell_type": "code",
   "execution_count": null,
   "metadata": {},
   "outputs": [],
   "source": [
    "ds[[\"red\", \"green\", \"blue\"]].to_array().plot.imshow(robust=True, figsize=(10, 10))"
   ]
  },
  {
   "cell_type": "markdown",
   "metadata": {},
   "source": [
    "Or calculate and display the NDVI."
   ]
  },
  {
   "cell_type": "code",
   "execution_count": null,
   "metadata": {},
   "outputs": [],
   "source": [
    "red = ds[\"red\"].astype(\"float\")\n",
    "nir = ds[\"nir08\"].astype(\"float\")\n",
    "ndvi = (nir - red) / (nir + red)\n",
    "ndvi.plot.imshow(cmap=\"viridis\", figsize=(10, 10))"
   ]
  },
  {
   "cell_type": "markdown",
   "metadata": {},
   "source": [
    "To create an interactive version of the plot, we can use hvplot instead! The details will be resized as you zoom in (when you actually run this notebook, i.e. not in the static docs notebook)"
   ]
  },
  {
   "cell_type": "code",
   "execution_count": null,
   "metadata": {},
   "outputs": [],
   "source": [
    "ndvi.hvplot.image(rasterize=True, cmap=\"Greens\")"
   ]
  }
 ],
 "metadata": {
  "kernelspec": {
   "display_name": "Python 3 (ipykernel)",
   "language": "python",
   "name": "python3"
  },
  "language_info": {
   "codemirror_mode": {
    "name": "ipython",
    "version": 3
   },
   "file_extension": ".py",
   "mimetype": "text/x-python",
   "name": "python",
   "nbconvert_exporter": "python",
   "pygments_lexer": "ipython3",
   "version": "3.10.13"
  },
  "nbdime-conflicts": {
   "local_diff": [
    {
     "diff": [
      {
       "diff": [
        {
         "key": 0,
         "op": "addrange",
         "valuelist": [
          "Python 3"
         ]
        },
        {
         "key": 0,
         "length": 1,
         "op": "removerange"
        }
       ],
       "key": "display_name",
       "op": "patch"
      }
     ],
     "key": "kernelspec",
     "op": "patch"
    }
   ],
   "remote_diff": [
    {
     "diff": [
      {
       "diff": [
        {
         "key": 0,
         "op": "addrange",
         "valuelist": [
          "Python3"
         ]
        },
        {
         "key": 0,
         "length": 1,
         "op": "removerange"
        }
       ],
       "key": "display_name",
       "op": "patch"
      }
     ],
     "key": "kernelspec",
     "op": "patch"
    }
   ]
  },
  "toc-autonumbering": false,
  "vscode": {
   "interpreter": {
    "hash": "d2ed0a8e3e051554a0b51e3917f81e884b169a97835ad70210b3681eb3cb39c7"
   }
  }
 },
 "nbformat": 4,
 "nbformat_minor": 4
}
