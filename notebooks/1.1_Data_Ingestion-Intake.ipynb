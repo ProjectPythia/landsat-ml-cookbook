{
 "cells": [
  {
   "cell_type": "markdown",
   "metadata": {},
   "source": [
    "![Landsat8](./images/nasa_landsat8.jpg \"Landsat8\")"
   ]
  },
  {
   "cell_type": "markdown",
   "metadata": {},
   "source": [
    "# Data Ingestion - Intake"
   ]
  },
  {
   "cell_type": "markdown",
   "metadata": {},
   "source": [
    "---"
   ]
  },
  {
   "cell_type": "markdown",
   "metadata": {},
   "source": [
    "## Overview\n",
    "\n",
    "In the last notebook, you learned how to efficiently load data from the Microsoft Planetary Computer platform. If that approach works for you, please proceed to a workflow example. However, there are many other established approaches and platforms (e.g. [NASA EarthData](https://search.earthdata.nasa.gov/search), [USGS EarthExplorer](https://earthexplorer.usgs.gov/), [Google](https://developers.google.com/earth-engine/datasets/catalog/landsat), and [AWS](https://registry.opendata.aws/usgs-landsat/)),  for loading Landsat data that may not preprocess the data in the exact same way or use a similar API. For this reason, in this notebook we will demonstrate common alternative approaches and techniques for general data access, centered around [Intake](https://intake.readthedocs.io).\n",
    "\n",
    "First, to demonstrate simple cases, we will begin by reading in a local files with [Pandas](https://pandas.pydata.org/docs/) and [xarray](https://docs.xarray.dev/en/stable/). Then we will demonstrate the combined use of [Intake](https://intake.readthedocs.io) and [Dask](https://docs.dask.org/en/stable/) libraries to efficiently fetch data from a remote server."
   ]
  },
  {
   "cell_type": "markdown",
   "metadata": {},
   "source": [
    "<div class=\"admonition alert alert-info\">\n",
    "    <p class=\"admonition-title\" style=\"font-weight:bold\">Info</p>\n",
    "        A great way to contribute to this cookbook is to create a notebook that focuses on data access from a specific provider.\n",
    "</div>"
   ]
  },
  {
   "cell_type": "markdown",
   "metadata": {},
   "source": [
    "## Prerequisites\n",
    "\n",
    "| Concepts | Importance | Notes |\n",
    "| --- | --- | --- |\n",
    "| [Intro to Landsat](./0.0_Intro_Landsat.ipynb) | Necessary | Background |\n",
    "| [Data Ingestion - Planetary Computer](1.0_Data_Ingestion-Planetary_Computer.ipynb) | Helpful | |\n",
    "| [Pandas Cookbook](https://foundations.projectpythia.org/core/pandas.html) | Helpful |  |\n",
    "| [xarray Cookbook](https://foundations.projectpythia.org/core/xarray.html) | Necessary |  |\n",
    "| [Intake Quickstart](https://intake.readthedocs.io/en/latest/index.html) | Helpful |  |\n",
    "|[Intake Cookbook](https://projectpythia.org/intake-cookbook/README.html)| Necessary | |\n",
    "\n",
    "- **Time to learn**: 20 minutes"
   ]
  },
  {
   "cell_type": "markdown",
   "metadata": {},
   "source": [
    "---"
   ]
  },
  {
   "cell_type": "markdown",
   "metadata": {},
   "source": [
    "## Imports"
   ]
  },
  {
   "cell_type": "code",
   "execution_count": 1,
   "metadata": {},
   "outputs": [
    {
     "data": {
      "application/javascript": "(function(root) {\n  function now() {\n    return new Date();\n  }\n\n  var force = true;\n  var py_version = '3.3.4'.replace('rc', '-rc.').replace('.dev', '-dev.');\n  var reloading = false;\n  var Bokeh = root.Bokeh;\n\n  if (typeof (root._bokeh_timeout) === \"undefined\" || force) {\n    root._bokeh_timeout = Date.now() + 5000;\n    root._bokeh_failed_load = false;\n  }\n\n  function run_callbacks() {\n    try {\n      root._bokeh_onload_callbacks.forEach(function(callback) {\n        if (callback != null)\n          callback();\n      });\n    } finally {\n      delete root._bokeh_onload_callbacks;\n    }\n    console.debug(\"Bokeh: all callbacks have finished\");\n  }\n\n  function load_libs(css_urls, js_urls, js_modules, js_exports, callback) {\n    if (css_urls == null) css_urls = [];\n    if (js_urls == null) js_urls = [];\n    if (js_modules == null) js_modules = [];\n    if (js_exports == null) js_exports = {};\n\n    root._bokeh_onload_callbacks.push(callback);\n\n    if (root._bokeh_is_loading > 0) {\n      console.debug(\"Bokeh: BokehJS is being loaded, scheduling callback at\", now());\n      return null;\n    }\n    if (js_urls.length === 0 && js_modules.length === 0 && Object.keys(js_exports).length === 0) {\n      run_callbacks();\n      return null;\n    }\n    if (!reloading) {\n      console.debug(\"Bokeh: BokehJS not loaded, scheduling load and callback at\", now());\n    }\n\n    function on_load() {\n      root._bokeh_is_loading--;\n      if (root._bokeh_is_loading === 0) {\n        console.debug(\"Bokeh: all BokehJS libraries/stylesheets loaded\");\n        run_callbacks()\n      }\n    }\n    window._bokeh_on_load = on_load\n\n    function on_error() {\n      console.error(\"failed to load \" + url);\n    }\n\n    var skip = [];\n    if (window.requirejs) {\n      window.requirejs.config({'packages': {}, 'paths': {'jspanel': 'https://cdn.jsdelivr.net/npm/jspanel4@4.12.0/dist/jspanel', 'jspanel-modal': 'https://cdn.jsdelivr.net/npm/jspanel4@4.12.0/dist/extensions/modal/jspanel.modal', 'jspanel-tooltip': 'https://cdn.jsdelivr.net/npm/jspanel4@4.12.0/dist/extensions/tooltip/jspanel.tooltip', 'jspanel-hint': 'https://cdn.jsdelivr.net/npm/jspanel4@4.12.0/dist/extensions/hint/jspanel.hint', 'jspanel-layout': 'https://cdn.jsdelivr.net/npm/jspanel4@4.12.0/dist/extensions/layout/jspanel.layout', 'jspanel-contextmenu': 'https://cdn.jsdelivr.net/npm/jspanel4@4.12.0/dist/extensions/contextmenu/jspanel.contextmenu', 'jspanel-dock': 'https://cdn.jsdelivr.net/npm/jspanel4@4.12.0/dist/extensions/dock/jspanel.dock', 'gridstack': 'https://cdn.jsdelivr.net/npm/gridstack@7.2.3/dist/gridstack-all', 'notyf': 'https://cdn.jsdelivr.net/npm/notyf@3/notyf.min'}, 'shim': {'jspanel': {'exports': 'jsPanel'}, 'gridstack': {'exports': 'GridStack'}}});\n      require([\"jspanel\"], function(jsPanel) {\n\twindow.jsPanel = jsPanel\n\ton_load()\n      })\n      require([\"jspanel-modal\"], function() {\n\ton_load()\n      })\n      require([\"jspanel-tooltip\"], function() {\n\ton_load()\n      })\n      require([\"jspanel-hint\"], function() {\n\ton_load()\n      })\n      require([\"jspanel-layout\"], function() {\n\ton_load()\n      })\n      require([\"jspanel-contextmenu\"], function() {\n\ton_load()\n      })\n      require([\"jspanel-dock\"], function() {\n\ton_load()\n      })\n      require([\"gridstack\"], function(GridStack) {\n\twindow.GridStack = GridStack\n\ton_load()\n      })\n      require([\"notyf\"], function() {\n\ton_load()\n      })\n      root._bokeh_is_loading = css_urls.length + 9;\n    } else {\n      root._bokeh_is_loading = css_urls.length + js_urls.length + js_modules.length + Object.keys(js_exports).length;\n    }\n\n    var existing_stylesheets = []\n    var links = document.getElementsByTagName('link')\n    for (var i = 0; i < links.length; i++) {\n      var link = links[i]\n      if (link.href != null) {\n\texisting_stylesheets.push(link.href)\n      }\n    }\n    for (var i = 0; i < css_urls.length; i++) {\n      var url = css_urls[i];\n      if (existing_stylesheets.indexOf(url) !== -1) {\n\ton_load()\n\tcontinue;\n      }\n      const element = document.createElement(\"link\");\n      element.onload = on_load;\n      element.onerror = on_error;\n      element.rel = \"stylesheet\";\n      element.type = \"text/css\";\n      element.href = url;\n      console.debug(\"Bokeh: injecting link tag for BokehJS stylesheet: \", url);\n      document.body.appendChild(element);\n    }    if (((window['jsPanel'] !== undefined) && (!(window['jsPanel'] instanceof HTMLElement))) || window.requirejs) {\n      var urls = ['https://cdn.holoviz.org/panel/1.3.8/dist/bundled/floatpanel/jspanel4@4.12.0/dist/jspanel.js', 'https://cdn.holoviz.org/panel/1.3.8/dist/bundled/floatpanel/jspanel4@4.12.0/dist/extensions/modal/jspanel.modal.js', 'https://cdn.holoviz.org/panel/1.3.8/dist/bundled/floatpanel/jspanel4@4.12.0/dist/extensions/tooltip/jspanel.tooltip.js', 'https://cdn.holoviz.org/panel/1.3.8/dist/bundled/floatpanel/jspanel4@4.12.0/dist/extensions/hint/jspanel.hint.js', 'https://cdn.holoviz.org/panel/1.3.8/dist/bundled/floatpanel/jspanel4@4.12.0/dist/extensions/layout/jspanel.layout.js', 'https://cdn.holoviz.org/panel/1.3.8/dist/bundled/floatpanel/jspanel4@4.12.0/dist/extensions/contextmenu/jspanel.contextmenu.js', 'https://cdn.holoviz.org/panel/1.3.8/dist/bundled/floatpanel/jspanel4@4.12.0/dist/extensions/dock/jspanel.dock.js'];\n      for (var i = 0; i < urls.length; i++) {\n        skip.push(urls[i])\n      }\n    }    if (((window['GridStack'] !== undefined) && (!(window['GridStack'] instanceof HTMLElement))) || window.requirejs) {\n      var urls = ['https://cdn.holoviz.org/panel/1.3.8/dist/bundled/gridstack/gridstack@7.2.3/dist/gridstack-all.js'];\n      for (var i = 0; i < urls.length; i++) {\n        skip.push(urls[i])\n      }\n    }    if (((window['Notyf'] !== undefined) && (!(window['Notyf'] instanceof HTMLElement))) || window.requirejs) {\n      var urls = ['https://cdn.holoviz.org/panel/1.3.8/dist/bundled/notificationarea/notyf@3/notyf.min.js'];\n      for (var i = 0; i < urls.length; i++) {\n        skip.push(urls[i])\n      }\n    }    var existing_scripts = []\n    var scripts = document.getElementsByTagName('script')\n    for (var i = 0; i < scripts.length; i++) {\n      var script = scripts[i]\n      if (script.src != null) {\n\texisting_scripts.push(script.src)\n      }\n    }\n    for (var i = 0; i < js_urls.length; i++) {\n      var url = js_urls[i];\n      if (skip.indexOf(url) !== -1 || existing_scripts.indexOf(url) !== -1) {\n\tif (!window.requirejs) {\n\t  on_load();\n\t}\n\tcontinue;\n      }\n      var element = document.createElement('script');\n      element.onload = on_load;\n      element.onerror = on_error;\n      element.async = false;\n      element.src = url;\n      console.debug(\"Bokeh: injecting script tag for BokehJS library: \", url);\n      document.head.appendChild(element);\n    }\n    for (var i = 0; i < js_modules.length; i++) {\n      var url = js_modules[i];\n      if (skip.indexOf(url) !== -1 || existing_scripts.indexOf(url) !== -1) {\n\tif (!window.requirejs) {\n\t  on_load();\n\t}\n\tcontinue;\n      }\n      var element = document.createElement('script');\n      element.onload = on_load;\n      element.onerror = on_error;\n      element.async = false;\n      element.src = url;\n      element.type = \"module\";\n      console.debug(\"Bokeh: injecting script tag for BokehJS library: \", url);\n      document.head.appendChild(element);\n    }\n    for (const name in js_exports) {\n      var url = js_exports[name];\n      if (skip.indexOf(url) >= 0 || root[name] != null) {\n\tif (!window.requirejs) {\n\t  on_load();\n\t}\n\tcontinue;\n      }\n      var element = document.createElement('script');\n      element.onerror = on_error;\n      element.async = false;\n      element.type = \"module\";\n      console.debug(\"Bokeh: injecting script tag for BokehJS library: \", url);\n      element.textContent = `\n      import ${name} from \"${url}\"\n      window.${name} = ${name}\n      window._bokeh_on_load()\n      `\n      document.head.appendChild(element);\n    }\n    if (!js_urls.length && !js_modules.length) {\n      on_load()\n    }\n  };\n\n  function inject_raw_css(css) {\n    const element = document.createElement(\"style\");\n    element.appendChild(document.createTextNode(css));\n    document.body.appendChild(element);\n  }\n\n  var js_urls = [\"https://cdn.bokeh.org/bokeh/release/bokeh-3.3.4.min.js\", \"https://cdn.bokeh.org/bokeh/release/bokeh-gl-3.3.4.min.js\", \"https://cdn.bokeh.org/bokeh/release/bokeh-widgets-3.3.4.min.js\", \"https://cdn.bokeh.org/bokeh/release/bokeh-tables-3.3.4.min.js\", \"https://cdn.holoviz.org/panel/1.3.8/dist/panel.min.js\"];\n  var js_modules = [];\n  var js_exports = {};\n  var css_urls = [];\n  var inline_js = [    function(Bokeh) {\n      Bokeh.set_log_level(\"info\");\n    },\nfunction(Bokeh) {} // ensure no trailing comma for IE\n  ];\n\n  function run_inline_js() {\n    if ((root.Bokeh !== undefined) || (force === true)) {\n      for (var i = 0; i < inline_js.length; i++) {\n\ttry {\n          inline_js[i].call(root, root.Bokeh);\n\t} catch(e) {\n\t  if (!reloading) {\n\t    throw e;\n\t  }\n\t}\n      }\n      // Cache old bokeh versions\n      if (Bokeh != undefined && !reloading) {\n\tvar NewBokeh = root.Bokeh;\n\tif (Bokeh.versions === undefined) {\n\t  Bokeh.versions = new Map();\n\t}\n\tif (NewBokeh.version !== Bokeh.version) {\n\t  Bokeh.versions.set(NewBokeh.version, NewBokeh)\n\t}\n\troot.Bokeh = Bokeh;\n      }} else if (Date.now() < root._bokeh_timeout) {\n      setTimeout(run_inline_js, 100);\n    } else if (!root._bokeh_failed_load) {\n      console.log(\"Bokeh: BokehJS failed to load within specified timeout.\");\n      root._bokeh_failed_load = true;\n    }\n    root._bokeh_is_initializing = false\n  }\n\n  function load_or_wait() {\n    // Implement a backoff loop that tries to ensure we do not load multiple\n    // versions of Bokeh and its dependencies at the same time.\n    // In recent versions we use the root._bokeh_is_initializing flag\n    // to determine whether there is an ongoing attempt to initialize\n    // bokeh, however for backward compatibility we also try to ensure\n    // that we do not start loading a newer (Panel>=1.0 and Bokeh>3) version\n    // before older versions are fully initialized.\n    if (root._bokeh_is_initializing && Date.now() > root._bokeh_timeout) {\n      root._bokeh_is_initializing = false;\n      root._bokeh_onload_callbacks = undefined;\n      console.log(\"Bokeh: BokehJS was loaded multiple times but one version failed to initialize.\");\n      load_or_wait();\n    } else if (root._bokeh_is_initializing || (typeof root._bokeh_is_initializing === \"undefined\" && root._bokeh_onload_callbacks !== undefined)) {\n      setTimeout(load_or_wait, 100);\n    } else {\n      root._bokeh_is_initializing = true\n      root._bokeh_onload_callbacks = []\n      var bokeh_loaded = Bokeh != null && (Bokeh.version === py_version || (Bokeh.versions !== undefined && Bokeh.versions.has(py_version)));\n      if (!reloading && !bokeh_loaded) {\n\troot.Bokeh = undefined;\n      }\n      load_libs(css_urls, js_urls, js_modules, js_exports, function() {\n\tconsole.debug(\"Bokeh: BokehJS plotting callback run at\", now());\n\trun_inline_js();\n      });\n    }\n  }\n  // Give older versions of the autoload script a head-start to ensure\n  // they initialize before we start loading newer version.\n  setTimeout(load_or_wait, 100)\n}(window));",
      "application/vnd.holoviews_load.v0+json": ""
     },
     "metadata": {},
     "output_type": "display_data"
    },
    {
     "data": {
      "application/javascript": "\nif ((window.PyViz === undefined) || (window.PyViz instanceof HTMLElement)) {\n  window.PyViz = {comms: {}, comm_status:{}, kernels:{}, receivers: {}, plot_index: []}\n}\n\n\n    function JupyterCommManager() {\n    }\n\n    JupyterCommManager.prototype.register_target = function(plot_id, comm_id, msg_handler) {\n      if (window.comm_manager || ((window.Jupyter !== undefined) && (Jupyter.notebook.kernel != null))) {\n        var comm_manager = window.comm_manager || Jupyter.notebook.kernel.comm_manager;\n        comm_manager.register_target(comm_id, function(comm) {\n          comm.on_msg(msg_handler);\n        });\n      } else if ((plot_id in window.PyViz.kernels) && (window.PyViz.kernels[plot_id])) {\n        window.PyViz.kernels[plot_id].registerCommTarget(comm_id, function(comm) {\n          comm.onMsg = msg_handler;\n        });\n      } else if (typeof google != 'undefined' && google.colab.kernel != null) {\n        google.colab.kernel.comms.registerTarget(comm_id, (comm) => {\n          var messages = comm.messages[Symbol.asyncIterator]();\n          function processIteratorResult(result) {\n            var message = result.value;\n            console.log(message)\n            var content = {data: message.data, comm_id};\n            var buffers = []\n            for (var buffer of message.buffers || []) {\n              buffers.push(new DataView(buffer))\n            }\n            var metadata = message.metadata || {};\n            var msg = {content, buffers, metadata}\n            msg_handler(msg);\n            return messages.next().then(processIteratorResult);\n          }\n          return messages.next().then(processIteratorResult);\n        })\n      }\n    }\n\n    JupyterCommManager.prototype.get_client_comm = function(plot_id, comm_id, msg_handler) {\n      if (comm_id in window.PyViz.comms) {\n        return window.PyViz.comms[comm_id];\n      } else if (window.comm_manager || ((window.Jupyter !== undefined) && (Jupyter.notebook.kernel != null))) {\n        var comm_manager = window.comm_manager || Jupyter.notebook.kernel.comm_manager;\n        var comm = comm_manager.new_comm(comm_id, {}, {}, {}, comm_id);\n        if (msg_handler) {\n          comm.on_msg(msg_handler);\n        }\n      } else if ((plot_id in window.PyViz.kernels) && (window.PyViz.kernels[plot_id])) {\n        var comm = window.PyViz.kernels[plot_id].connectToComm(comm_id);\n        comm.open();\n        if (msg_handler) {\n          comm.onMsg = msg_handler;\n        }\n      } else if (typeof google != 'undefined' && google.colab.kernel != null) {\n        var comm_promise = google.colab.kernel.comms.open(comm_id)\n        comm_promise.then((comm) => {\n          window.PyViz.comms[comm_id] = comm;\n          if (msg_handler) {\n            var messages = comm.messages[Symbol.asyncIterator]();\n            function processIteratorResult(result) {\n              var message = result.value;\n              var content = {data: message.data};\n              var metadata = message.metadata || {comm_id};\n              var msg = {content, metadata}\n              msg_handler(msg);\n              return messages.next().then(processIteratorResult);\n            }\n            return messages.next().then(processIteratorResult);\n          }\n        }) \n        var sendClosure = (data, metadata, buffers, disposeOnDone) => {\n          return comm_promise.then((comm) => {\n            comm.send(data, metadata, buffers, disposeOnDone);\n          });\n        };\n        var comm = {\n          send: sendClosure\n        };\n      }\n      window.PyViz.comms[comm_id] = comm;\n      return comm;\n    }\n    window.PyViz.comm_manager = new JupyterCommManager();\n    \n\n\nvar JS_MIME_TYPE = 'application/javascript';\nvar HTML_MIME_TYPE = 'text/html';\nvar EXEC_MIME_TYPE = 'application/vnd.holoviews_exec.v0+json';\nvar CLASS_NAME = 'output';\n\n/**\n * Render data to the DOM node\n */\nfunction render(props, node) {\n  var div = document.createElement(\"div\");\n  var script = document.createElement(\"script\");\n  node.appendChild(div);\n  node.appendChild(script);\n}\n\n/**\n * Handle when a new output is added\n */\nfunction handle_add_output(event, handle) {\n  var output_area = handle.output_area;\n  var output = handle.output;\n  if ((output.data == undefined) || (!output.data.hasOwnProperty(EXEC_MIME_TYPE))) {\n    return\n  }\n  var id = output.metadata[EXEC_MIME_TYPE][\"id\"];\n  var toinsert = output_area.element.find(\".\" + CLASS_NAME.split(' ')[0]);\n  if (id !== undefined) {\n    var nchildren = toinsert.length;\n    var html_node = toinsert[nchildren-1].children[0];\n    html_node.innerHTML = output.data[HTML_MIME_TYPE];\n    var scripts = [];\n    var nodelist = html_node.querySelectorAll(\"script\");\n    for (var i in nodelist) {\n      if (nodelist.hasOwnProperty(i)) {\n        scripts.push(nodelist[i])\n      }\n    }\n\n    scripts.forEach( function (oldScript) {\n      var newScript = document.createElement(\"script\");\n      var attrs = [];\n      var nodemap = oldScript.attributes;\n      for (var j in nodemap) {\n        if (nodemap.hasOwnProperty(j)) {\n          attrs.push(nodemap[j])\n        }\n      }\n      attrs.forEach(function(attr) { newScript.setAttribute(attr.name, attr.value) });\n      newScript.appendChild(document.createTextNode(oldScript.innerHTML));\n      oldScript.parentNode.replaceChild(newScript, oldScript);\n    });\n    if (JS_MIME_TYPE in output.data) {\n      toinsert[nchildren-1].children[1].textContent = output.data[JS_MIME_TYPE];\n    }\n    output_area._hv_plot_id = id;\n    if ((window.Bokeh !== undefined) && (id in Bokeh.index)) {\n      window.PyViz.plot_index[id] = Bokeh.index[id];\n    } else {\n      window.PyViz.plot_index[id] = null;\n    }\n  } else if (output.metadata[EXEC_MIME_TYPE][\"server_id\"] !== undefined) {\n    var bk_div = document.createElement(\"div\");\n    bk_div.innerHTML = output.data[HTML_MIME_TYPE];\n    var script_attrs = bk_div.children[0].attributes;\n    for (var i = 0; i < script_attrs.length; i++) {\n      toinsert[toinsert.length - 1].childNodes[1].setAttribute(script_attrs[i].name, script_attrs[i].value);\n    }\n    // store reference to server id on output_area\n    output_area._bokeh_server_id = output.metadata[EXEC_MIME_TYPE][\"server_id\"];\n  }\n}\n\n/**\n * Handle when an output is cleared or removed\n */\nfunction handle_clear_output(event, handle) {\n  var id = handle.cell.output_area._hv_plot_id;\n  var server_id = handle.cell.output_area._bokeh_server_id;\n  if (((id === undefined) || !(id in PyViz.plot_index)) && (server_id !== undefined)) { return; }\n  var comm = window.PyViz.comm_manager.get_client_comm(\"hv-extension-comm\", \"hv-extension-comm\", function () {});\n  if (server_id !== null) {\n    comm.send({event_type: 'server_delete', 'id': server_id});\n    return;\n  } else if (comm !== null) {\n    comm.send({event_type: 'delete', 'id': id});\n  }\n  delete PyViz.plot_index[id];\n  if ((window.Bokeh !== undefined) & (id in window.Bokeh.index)) {\n    var doc = window.Bokeh.index[id].model.document\n    doc.clear();\n    const i = window.Bokeh.documents.indexOf(doc);\n    if (i > -1) {\n      window.Bokeh.documents.splice(i, 1);\n    }\n  }\n}\n\n/**\n * Handle kernel restart event\n */\nfunction handle_kernel_cleanup(event, handle) {\n  delete PyViz.comms[\"hv-extension-comm\"];\n  window.PyViz.plot_index = {}\n}\n\n/**\n * Handle update_display_data messages\n */\nfunction handle_update_output(event, handle) {\n  handle_clear_output(event, {cell: {output_area: handle.output_area}})\n  handle_add_output(event, handle)\n}\n\nfunction register_renderer(events, OutputArea) {\n  function append_mime(data, metadata, element) {\n    // create a DOM node to render to\n    var toinsert = this.create_output_subarea(\n    metadata,\n    CLASS_NAME,\n    EXEC_MIME_TYPE\n    );\n    this.keyboard_manager.register_events(toinsert);\n    // Render to node\n    var props = {data: data, metadata: metadata[EXEC_MIME_TYPE]};\n    render(props, toinsert[0]);\n    element.append(toinsert);\n    return toinsert\n  }\n\n  events.on('output_added.OutputArea', handle_add_output);\n  events.on('output_updated.OutputArea', handle_update_output);\n  events.on('clear_output.CodeCell', handle_clear_output);\n  events.on('delete.Cell', handle_clear_output);\n  events.on('kernel_ready.Kernel', handle_kernel_cleanup);\n\n  OutputArea.prototype.register_mime_type(EXEC_MIME_TYPE, append_mime, {\n    safe: true,\n    index: 0\n  });\n}\n\nif (window.Jupyter !== undefined) {\n  try {\n    var events = require('base/js/events');\n    var OutputArea = require('notebook/js/outputarea').OutputArea;\n    if (OutputArea.prototype.mime_types().indexOf(EXEC_MIME_TYPE) == -1) {\n      register_renderer(events, OutputArea);\n    }\n  } catch(err) {\n  }\n}\n",
      "application/vnd.holoviews_load.v0+json": ""
     },
     "metadata": {},
     "output_type": "display_data"
    },
    {
     "data": {
      "text/html": [
       "<style>*[data-root-id],\n",
       "*[data-root-id] > * {\n",
       "  box-sizing: border-box;\n",
       "  font-family: var(--jp-ui-font-family);\n",
       "  font-size: var(--jp-ui-font-size1);\n",
       "  color: var(--vscode-editor-foreground, var(--jp-ui-font-color1));\n",
       "}\n",
       "\n",
       "/* Override VSCode background color */\n",
       ".cell-output-ipywidget-background:has(\n",
       "    > .cell-output-ipywidget-background > .lm-Widget > *[data-root-id]\n",
       "  ),\n",
       ".cell-output-ipywidget-background:has(> .lm-Widget > *[data-root-id]) {\n",
       "  background-color: transparent !important;\n",
       "}\n",
       "</style>"
      ]
     },
     "metadata": {},
     "output_type": "display_data"
    },
    {
     "data": {
      "application/vnd.holoviews_exec.v0+json": "",
      "text/html": [
       "<div id='p1002'>\n",
       "  <div id=\"e9ca1a89-dcba-469f-a68d-30705ca5e7a9\" data-root-id=\"p1002\" style=\"display: contents;\"></div>\n",
       "</div>\n",
       "<script type=\"application/javascript\">(function(root) {\n",
       "  var docs_json = {\"7877efc9-6cc1-46c8-b93b-4f9b72ea264e\":{\"version\":\"3.3.4\",\"title\":\"Bokeh Application\",\"roots\":[{\"type\":\"object\",\"name\":\"panel.models.browser.BrowserInfo\",\"id\":\"p1002\"},{\"type\":\"object\",\"name\":\"panel.models.comm_manager.CommManager\",\"id\":\"p1003\",\"attributes\":{\"plot_id\":\"p1002\",\"comm_id\":\"d69fdbbfc7624d06a374d0fac21e0d95\",\"client_comm_id\":\"f2a455684064421eb16a87b39de41278\"}}],\"defs\":[{\"type\":\"model\",\"name\":\"ReactiveHTML1\"},{\"type\":\"model\",\"name\":\"FlexBox1\",\"properties\":[{\"name\":\"align_content\",\"kind\":\"Any\",\"default\":\"flex-start\"},{\"name\":\"align_items\",\"kind\":\"Any\",\"default\":\"flex-start\"},{\"name\":\"flex_direction\",\"kind\":\"Any\",\"default\":\"row\"},{\"name\":\"flex_wrap\",\"kind\":\"Any\",\"default\":\"wrap\"},{\"name\":\"justify_content\",\"kind\":\"Any\",\"default\":\"flex-start\"}]},{\"type\":\"model\",\"name\":\"FloatPanel1\",\"properties\":[{\"name\":\"config\",\"kind\":\"Any\",\"default\":{\"type\":\"map\"}},{\"name\":\"contained\",\"kind\":\"Any\",\"default\":true},{\"name\":\"position\",\"kind\":\"Any\",\"default\":\"right-top\"},{\"name\":\"offsetx\",\"kind\":\"Any\",\"default\":null},{\"name\":\"offsety\",\"kind\":\"Any\",\"default\":null},{\"name\":\"theme\",\"kind\":\"Any\",\"default\":\"primary\"},{\"name\":\"status\",\"kind\":\"Any\",\"default\":\"normalized\"}]},{\"type\":\"model\",\"name\":\"GridStack1\",\"properties\":[{\"name\":\"mode\",\"kind\":\"Any\",\"default\":\"warn\"},{\"name\":\"ncols\",\"kind\":\"Any\",\"default\":null},{\"name\":\"nrows\",\"kind\":\"Any\",\"default\":null},{\"name\":\"allow_resize\",\"kind\":\"Any\",\"default\":true},{\"name\":\"allow_drag\",\"kind\":\"Any\",\"default\":true},{\"name\":\"state\",\"kind\":\"Any\",\"default\":[]}]},{\"type\":\"model\",\"name\":\"drag1\",\"properties\":[{\"name\":\"slider_width\",\"kind\":\"Any\",\"default\":5},{\"name\":\"slider_color\",\"kind\":\"Any\",\"default\":\"black\"},{\"name\":\"value\",\"kind\":\"Any\",\"default\":50}]},{\"type\":\"model\",\"name\":\"click1\",\"properties\":[{\"name\":\"terminal_output\",\"kind\":\"Any\",\"default\":\"\"},{\"name\":\"debug_name\",\"kind\":\"Any\",\"default\":\"\"},{\"name\":\"clears\",\"kind\":\"Any\",\"default\":0}]},{\"type\":\"model\",\"name\":\"copy_to_clipboard1\",\"properties\":[{\"name\":\"fill\",\"kind\":\"Any\",\"default\":\"none\"},{\"name\":\"value\",\"kind\":\"Any\",\"default\":null}]},{\"type\":\"model\",\"name\":\"FastWrapper1\",\"properties\":[{\"name\":\"object\",\"kind\":\"Any\",\"default\":null},{\"name\":\"style\",\"kind\":\"Any\",\"default\":null}]},{\"type\":\"model\",\"name\":\"NotificationAreaBase1\",\"properties\":[{\"name\":\"js_events\",\"kind\":\"Any\",\"default\":{\"type\":\"map\"}},{\"name\":\"position\",\"kind\":\"Any\",\"default\":\"bottom-right\"},{\"name\":\"_clear\",\"kind\":\"Any\",\"default\":0}]},{\"type\":\"model\",\"name\":\"NotificationArea1\",\"properties\":[{\"name\":\"js_events\",\"kind\":\"Any\",\"default\":{\"type\":\"map\"}},{\"name\":\"notifications\",\"kind\":\"Any\",\"default\":[]},{\"name\":\"position\",\"kind\":\"Any\",\"default\":\"bottom-right\"},{\"name\":\"_clear\",\"kind\":\"Any\",\"default\":0},{\"name\":\"types\",\"kind\":\"Any\",\"default\":[{\"type\":\"map\",\"entries\":[[\"type\",\"warning\"],[\"background\",\"#ffc107\"],[\"icon\",{\"type\":\"map\",\"entries\":[[\"className\",\"fas fa-exclamation-triangle\"],[\"tagName\",\"i\"],[\"color\",\"white\"]]}]]},{\"type\":\"map\",\"entries\":[[\"type\",\"info\"],[\"background\",\"#007bff\"],[\"icon\",{\"type\":\"map\",\"entries\":[[\"className\",\"fas fa-info-circle\"],[\"tagName\",\"i\"],[\"color\",\"white\"]]}]]}]}]},{\"type\":\"model\",\"name\":\"Notification\",\"properties\":[{\"name\":\"background\",\"kind\":\"Any\",\"default\":null},{\"name\":\"duration\",\"kind\":\"Any\",\"default\":3000},{\"name\":\"icon\",\"kind\":\"Any\",\"default\":null},{\"name\":\"message\",\"kind\":\"Any\",\"default\":\"\"},{\"name\":\"notification_type\",\"kind\":\"Any\",\"default\":null},{\"name\":\"_destroyed\",\"kind\":\"Any\",\"default\":false}]},{\"type\":\"model\",\"name\":\"TemplateActions1\",\"properties\":[{\"name\":\"open_modal\",\"kind\":\"Any\",\"default\":0},{\"name\":\"close_modal\",\"kind\":\"Any\",\"default\":0}]},{\"type\":\"model\",\"name\":\"BootstrapTemplateActions1\",\"properties\":[{\"name\":\"open_modal\",\"kind\":\"Any\",\"default\":0},{\"name\":\"close_modal\",\"kind\":\"Any\",\"default\":0}]},{\"type\":\"model\",\"name\":\"MaterialTemplateActions1\",\"properties\":[{\"name\":\"open_modal\",\"kind\":\"Any\",\"default\":0},{\"name\":\"close_modal\",\"kind\":\"Any\",\"default\":0}]}]}};\n",
       "  var render_items = [{\"docid\":\"7877efc9-6cc1-46c8-b93b-4f9b72ea264e\",\"roots\":{\"p1002\":\"e9ca1a89-dcba-469f-a68d-30705ca5e7a9\"},\"root_ids\":[\"p1002\"]}];\n",
       "  var docs = Object.values(docs_json)\n",
       "  if (!docs) {\n",
       "    return\n",
       "  }\n",
       "  const py_version = docs[0].version.replace('rc', '-rc.').replace('.dev', '-dev.')\n",
       "  function embed_document(root) {\n",
       "    var Bokeh = get_bokeh(root)\n",
       "    Bokeh.embed.embed_items_notebook(docs_json, render_items);\n",
       "    for (const render_item of render_items) {\n",
       "      for (const root_id of render_item.root_ids) {\n",
       "\tconst id_el = document.getElementById(root_id)\n",
       "\tif (id_el.children.length && (id_el.children[0].className === 'bk-root')) {\n",
       "\t  const root_el = id_el.children[0]\n",
       "\t  root_el.id = root_el.id + '-rendered'\n",
       "\t}\n",
       "      }\n",
       "    }\n",
       "  }\n",
       "  function get_bokeh(root) {\n",
       "    if (root.Bokeh === undefined) {\n",
       "      return null\n",
       "    } else if (root.Bokeh.version !== py_version) {\n",
       "      if (root.Bokeh.versions === undefined || !root.Bokeh.versions.has(py_version)) {\n",
       "\treturn null\n",
       "      }\n",
       "      return root.Bokeh.versions.get(py_version);\n",
       "    } else if (root.Bokeh.version === py_version) {\n",
       "      return root.Bokeh\n",
       "    }\n",
       "    return null\n",
       "  }\n",
       "  function is_loaded(root) {\n",
       "    var Bokeh = get_bokeh(root)\n",
       "    return (Bokeh != null && Bokeh.Panel !== undefined)\n",
       "  }\n",
       "  if (is_loaded(root)) {\n",
       "    embed_document(root);\n",
       "  } else {\n",
       "    var attempts = 0;\n",
       "    var timer = setInterval(function(root) {\n",
       "      if (is_loaded(root)) {\n",
       "        clearInterval(timer);\n",
       "        embed_document(root);\n",
       "      } else if (document.readyState == \"complete\") {\n",
       "        attempts++;\n",
       "        if (attempts > 200) {\n",
       "          clearInterval(timer);\n",
       "\t  var Bokeh = get_bokeh(root)\n",
       "\t  if (Bokeh == null || Bokeh.Panel == null) {\n",
       "            console.warn(\"Panel: ERROR: Unable to run Panel code because Bokeh or Panel library is missing\");\n",
       "\t  } else {\n",
       "\t    console.warn(\"Panel: WARNING: Attempting to render but not all required libraries could be resolved.\")\n",
       "\t    embed_document(root)\n",
       "\t  }\n",
       "        }\n",
       "      }\n",
       "    }, 25, root)\n",
       "  }\n",
       "})(window);</script>"
      ]
     },
     "metadata": {
      "application/vnd.holoviews_exec.v0+json": {
       "id": "p1002"
      }
     },
     "output_type": "display_data"
    }
   ],
   "source": [
    "import pandas as pd\n",
    "import xarray as xr\n",
    "import intake\n",
    "import panel as pn\n",
    "import hvplot.xarray\n",
    "import planetary_computer\n",
    "\n",
    "import warnings\n",
    "warnings.simplefilter('ignore', FutureWarning) # Ignore warning about the format of epsg codes"
   ]
  },
  {
   "cell_type": "code",
   "execution_count": 2,
   "metadata": {},
   "outputs": [
    {
     "name": "stdout",
     "output_type": "stream",
     "text": [
      "[<class 'intake.readers.datatypes.STACJSON'>, <class 'intake.readers.datatypes.Handle'>, <class 'intake.readers.datatypes.JSONFile'>, <class 'intake.readers.datatypes.CatalogAPI'>, <class 'intake.readers.datatypes.TiledService'>]\n"
     ]
    }
   ],
   "source": [
    "url = \"https://planetarycomputer.microsoft.com/api/stac/v1\"\n",
    "data_types = intake.readers.datatypes.recommend(url)\n",
    "print(data_types)"
   ]
  },
  {
   "cell_type": "code",
   "execution_count": 3,
   "metadata": {},
   "outputs": [
    {
     "data": {
      "text/plain": [
       "STACJSON, {'url': 'https://planetarycomputer.microsoft.com/api/stac/v1', 'storage_options': None, 'metadata': {}}"
      ]
     },
     "execution_count": 3,
     "metadata": {},
     "output_type": "execute_result"
    }
   ],
   "source": [
    "data_type = data_types[0](url)\n",
    "data_type"
   ]
  },
  {
   "cell_type": "code",
   "execution_count": 4,
   "metadata": {},
   "outputs": [
    {
     "name": "stdout",
     "output_type": "stream",
     "text": [
      "{'importable': [<class 'intake.readers.catalogs.StacCatalogReader'>, <class 'intake.readers.catalogs.StackBands'>, <class 'intake.readers.catalogs.StacSearch'>, <class 'intake.readers.readers.DaskJSON'>, <class 'intake.readers.readers.FileByteReader'>, <class 'intake.readers.readers.FileExistsReader'>], 'not_importable': [<class 'intake.readers.readers.AwkwardJSON'>, <class 'intake.readers.readers.RayJSON'>, <class 'intake.readers.readers.DuckJSON'>, <class 'intake.readers.readers.PolarsJSON'>, <class 'intake.readers.readers.RayBinary'>]}\n"
     ]
    }
   ],
   "source": [
    "readers = data_type.possible_readers\n",
    "print(readers)"
   ]
  },
  {
   "cell_type": "code",
   "execution_count": 5,
   "metadata": {},
   "outputs": [
    {
     "data": {
      "text/plain": [
       "StacCatalogReader reader producing intake.readers.entry:Catalog"
      ]
     },
     "execution_count": 5,
     "metadata": {},
     "output_type": "execute_result"
    }
   ],
   "source": [
    "reader = intake.readers.catalogs.StacCatalogReader(\n",
    "    data_type, signer=planetary_computer.sign_inplace\n",
    ")\n",
    "reader"
   ]
  },
  {
   "cell_type": "code",
   "execution_count": 6,
   "metadata": {},
   "outputs": [],
   "source": [
    "stac_cat = reader.read()"
   ]
  },
  {
   "cell_type": "code",
   "execution_count": 9,
   "metadata": {},
   "outputs": [
    {
     "data": {
      "text/plain": [
       "['daymet-annual-pr',\n",
       " 'daymet-daily-hi',\n",
       " '3dep-seamless',\n",
       " '3dep-lidar-dsm',\n",
       " 'fia',\n",
       " 'sentinel-1-rtc',\n",
       " 'gridmet',\n",
       " 'daymet-annual-na',\n",
       " 'daymet-monthly-na',\n",
       " 'daymet-annual-hi',\n",
       " 'daymet-monthly-hi',\n",
       " 'daymet-monthly-pr',\n",
       " 'gnatsgo-tables',\n",
       " 'hgb',\n",
       " 'cop-dem-glo-30',\n",
       " 'cop-dem-glo-90',\n",
       " 'goes-cmi',\n",
       " 'terraclimate',\n",
       " 'nasa-nex-gddp-cmip6',\n",
       " 'gpm-imerg-hhr',\n",
       " 'gnatsgo-rasters',\n",
       " '3dep-lidar-hag',\n",
       " 'io-lulc-annual-v02',\n",
       " '3dep-lidar-intensity',\n",
       " '3dep-lidar-pointsourceid',\n",
       " 'mtbs',\n",
       " 'noaa-c-cap',\n",
       " '3dep-lidar-copc',\n",
       " 'modis-64A1-061',\n",
       " 'alos-fnf-mosaic',\n",
       " '3dep-lidar-returns',\n",
       " 'mobi',\n",
       " 'landsat-c2-l2',\n",
       " 'era5-pds',\n",
       " 'chloris-biomass',\n",
       " 'kaza-hydroforecast',\n",
       " 'planet-nicfi-analytic',\n",
       " 'modis-17A2H-061',\n",
       " 'modis-11A2-061',\n",
       " 'daymet-daily-pr',\n",
       " '3dep-lidar-dtm-native',\n",
       " '3dep-lidar-classification',\n",
       " '3dep-lidar-dtm',\n",
       " 'gap',\n",
       " 'modis-17A2HGF-061',\n",
       " 'planet-nicfi-visual',\n",
       " 'gbif',\n",
       " 'modis-17A3HGF-061',\n",
       " 'modis-09A1-061',\n",
       " 'alos-dem',\n",
       " 'alos-palsar-mosaic',\n",
       " 'deltares-water-availability',\n",
       " 'modis-16A3GF-061',\n",
       " 'modis-21A2-061',\n",
       " 'us-census',\n",
       " 'jrc-gsw',\n",
       " 'deltares-floods',\n",
       " 'modis-43A4-061',\n",
       " 'modis-09Q1-061',\n",
       " 'modis-14A1-061',\n",
       " 'hrea',\n",
       " 'modis-13Q1-061',\n",
       " 'modis-14A2-061',\n",
       " 'sentinel-2-l2a',\n",
       " 'modis-15A2H-061',\n",
       " 'modis-11A1-061',\n",
       " 'modis-15A3H-061',\n",
       " 'modis-13A1-061',\n",
       " 'daymet-daily-na',\n",
       " 'nrcan-landcover',\n",
       " 'modis-10A2-061',\n",
       " 'ecmwf-forecast',\n",
       " 'noaa-mrms-qpe-24h-pass2',\n",
       " 'sentinel-1-grd',\n",
       " 'nasadem',\n",
       " 'io-lulc',\n",
       " 'landsat-c2-l1',\n",
       " 'drcog-lulc',\n",
       " 'chesapeake-lc-7',\n",
       " 'chesapeake-lc-13',\n",
       " 'chesapeake-lu',\n",
       " 'noaa-mrms-qpe-1h-pass1',\n",
       " 'noaa-mrms-qpe-1h-pass2',\n",
       " 'noaa-nclimgrid-monthly',\n",
       " 'goes-glm',\n",
       " 'usda-cdl',\n",
       " 'eclipse',\n",
       " 'esa-cci-lc',\n",
       " 'esa-cci-lc-netcdf',\n",
       " 'fws-nwi',\n",
       " 'usgs-lcmap-conus-v13',\n",
       " 'usgs-lcmap-hawaii-v10',\n",
       " 'noaa-climate-normals-tabular',\n",
       " 'noaa-climate-normals-netcdf',\n",
       " 'noaa-climate-normals-gridded',\n",
       " 'aster-l1t',\n",
       " 'cil-gdpcir-cc-by-sa',\n",
       " 'naip',\n",
       " 'io-lulc-9-class',\n",
       " 'io-biodiversity',\n",
       " 'noaa-cdr-sea-surface-temperature-whoi',\n",
       " 'noaa-cdr-ocean-heat-content',\n",
       " 'cil-gdpcir-cc0',\n",
       " 'cil-gdpcir-cc-by',\n",
       " 'noaa-cdr-sea-surface-temperature-whoi-netcdf',\n",
       " 'noaa-cdr-sea-surface-temperature-optimum-interpolation',\n",
       " 'modis-10A1-061',\n",
       " 'sentinel-5p-l2-netcdf',\n",
       " 'sentinel-3-olci-wfr-l2-netcdf',\n",
       " 'noaa-cdr-ocean-heat-content-netcdf',\n",
       " 'sentinel-3-synergy-aod-l2-netcdf',\n",
       " 'sentinel-3-synergy-v10-l2-netcdf',\n",
       " 'sentinel-3-olci-lfr-l2-netcdf',\n",
       " 'sentinel-3-sral-lan-l2-netcdf',\n",
       " 'sentinel-3-slstr-lst-l2-netcdf',\n",
       " 'sentinel-3-slstr-wst-l2-netcdf',\n",
       " 'sentinel-3-sral-wat-l2-netcdf',\n",
       " 'ms-buildings',\n",
       " 'sentinel-3-slstr-frp-l2-netcdf',\n",
       " 'sentinel-3-synergy-syn-l2-netcdf',\n",
       " 'sentinel-3-synergy-vgp-l2-netcdf',\n",
       " 'sentinel-3-synergy-vg1-l2-netcdf',\n",
       " 'esa-worldcover']"
      ]
     },
     "execution_count": 9,
     "metadata": {},
     "output_type": "execute_result"
    }
   ],
   "source": [
    "metadata = {}\n",
    "for data_description in stac_cat.data.values():\n",
    "    data = data_description.kwargs[\"data\"]\n",
    "    metadata[data[\"id\"]] = data[\"description\"]\n",
    "list(metadata.keys())"
   ]
  },
  {
   "cell_type": "code",
   "execution_count": 10,
   "metadata": {},
   "outputs": [
    {
     "name": "stdout",
     "output_type": "stream",
     "text": [
      "1: Landsat Collection 2 Level-1 data, consisting of quantized and calibrated scaled Digital Numbers (DN) representing the multispectral image data. These [Level-1](https://www.usgs.gov/landsat-missions/landsat-collection-2-level-1-data) data can be [rescaled](https://www.usgs.gov/landsat-missions/using-usgs-landsat-level-1-data-product) to top of atmosphere (TOA) reflectance and/or radiance. Thermal band data can be rescaled to TOA brightness temperature.\n",
      "\n",
      "This dataset represents the global archive of Level-1 data from [Landsat Collection 2](https://www.usgs.gov/core-science-systems/nli/landsat/landsat-collection-2) acquired by the [Multispectral Scanner System](https://landsat.gsfc.nasa.gov/multispectral-scanner-system/) onboard Landsat 1 through Landsat 5 from July 7, 1972 to January 7, 2013. Images are stored in [cloud-optimized GeoTIFF](https://www.cogeo.org/) format.\n",
      "\n",
      "2: Landsat Collection 2 Level-2 [Science Products](https://www.usgs.gov/landsat-missions/landsat-collection-2-level-2-science-products), consisting of atmospherically corrected [surface reflectance](https://www.usgs.gov/landsat-missions/landsat-collection-2-surface-reflectance) and [surface temperature](https://www.usgs.gov/landsat-missions/landsat-collection-2-surface-temperature) image data. Collection 2 Level-2 Science Products are available from August 22, 1982 to present.\n",
      "\n",
      "This dataset represents the global archive of Level-2 data from [Landsat Collection 2](https://www.usgs.gov/core-science-systems/nli/landsat/landsat-collection-2) acquired by the [Thematic Mapper](https://landsat.gsfc.nasa.gov/thematic-mapper/) onboard Landsat 4 and 5, the [Enhanced Thematic Mapper](https://landsat.gsfc.nasa.gov/the-enhanced-thematic-mapper-plus-etm/) onboard Landsat 7, and the [Operatational Land Imager](https://landsat.gsfc.nasa.gov/satellites/landsat-8/spacecraft-instruments/operational-land-imager/) and [Thermal Infrared Sensor](https://landsat.gsfc.nasa.gov/satellites/landsat-8/spacecraft-instruments/thermal-infrared-sensor/) onboard Landsat 8 and 9. Images are stored in [cloud-optimized GeoTIFF](https://www.cogeo.org/) format.\n",
      "\n"
     ]
    }
   ],
   "source": [
    "print(\"1:\", metadata[\"landsat-c2-l1\"])\n",
    "print(\"2:\", metadata[\"landsat-c2-l2\"])"
   ]
  },
  {
   "cell_type": "code",
   "execution_count": 11,
   "metadata": {},
   "outputs": [],
   "source": [
    "landsat_reader = stac_cat[\"landsat-c2-l2\"]"
   ]
  },
  {
   "cell_type": "code",
   "execution_count": 32,
   "metadata": {},
   "outputs": [
    {
     "data": {
      "text/plain": [
       "Catalog\n",
       " named datasets: ['geoparquet-items', 'thumbnail']"
      ]
     },
     "execution_count": 32,
     "metadata": {},
     "output_type": "execute_result"
    }
   ],
   "source": [
    "landsat_reader.read()"
   ]
  },
  {
   "cell_type": "code",
   "execution_count": 23,
   "metadata": {},
   "outputs": [
    {
     "data": {
      "application/vnd.jupyter.widget-view+json": {
       "model_id": "21ac4b92ebcb4053875669ea03ea9e89",
       "version_major": 2,
       "version_minor": 0
      },
      "text/plain": [
       "BokehModel(combine_events=True, render_bundle={'docs_json': {'476e8edb-874d-4490-abb4-e2eb54493117': {'version…"
      ]
     },
     "execution_count": 23,
     "metadata": {},
     "output_type": "execute_result"
    }
   ],
   "source": [
    "landsat_thumbnail = landsat_reader[\"thumbnail\"].read()\n",
    "pn.pane.Image(landsat_thumbnail)\n"
   ]
  },
  {
   "cell_type": "code",
   "execution_count": 26,
   "metadata": {},
   "outputs": [],
   "source": [
    "landsat_items = landsat_reader[\"geoparquet-items\"]\n",
    "landsat_ddf = landsat_items.kwargs[\"data\"].to_reader(\"dask\").read()"
   ]
  },
  {
   "cell_type": "code",
   "execution_count": 35,
   "metadata": {},
   "outputs": [
    {
     "data": {
      "text/html": [
       "<div>\n",
       "<style scoped>\n",
       "    .dataframe tbody tr th:only-of-type {\n",
       "        vertical-align: middle;\n",
       "    }\n",
       "\n",
       "    .dataframe tbody tr th {\n",
       "        vertical-align: top;\n",
       "    }\n",
       "\n",
       "    .dataframe thead th {\n",
       "        text-align: right;\n",
       "    }\n",
       "</style>\n",
       "<table border=\"1\" class=\"dataframe\">\n",
       "  <thead>\n",
       "    <tr style=\"text-align: right;\">\n",
       "      <th></th>\n",
       "      <th>type</th>\n",
       "      <th>stac_version</th>\n",
       "      <th>stac_extensions</th>\n",
       "      <th>id</th>\n",
       "      <th>geometry</th>\n",
       "      <th>bbox</th>\n",
       "      <th>links</th>\n",
       "      <th>assets</th>\n",
       "      <th>collection</th>\n",
       "      <th>gsd</th>\n",
       "      <th>...</th>\n",
       "      <th>landsat:wrs_row</th>\n",
       "      <th>landsat:scene_id</th>\n",
       "      <th>landsat:wrs_path</th>\n",
       "      <th>landsat:wrs_type</th>\n",
       "      <th>view:sun_azimuth</th>\n",
       "      <th>landsat:correction</th>\n",
       "      <th>view:sun_elevation</th>\n",
       "      <th>landsat:cloud_cover_land</th>\n",
       "      <th>landsat:collection_number</th>\n",
       "      <th>landsat:collection_category</th>\n",
       "    </tr>\n",
       "  </thead>\n",
       "  <tbody>\n",
       "    <tr>\n",
       "      <th>0</th>\n",
       "      <td>Feature</td>\n",
       "      <td>1.0.0</td>\n",
       "      <td>[https://stac-extensions.github.io/raster/v1.0...</td>\n",
       "      <td>LT04_L2SP_005021_19820824_02_T2</td>\n",
       "      <td>b'\\x01\\x03\\x00\\x00\\x00\\x01\\x00\\x00\\x00\\x05\\x00...</td>\n",
       "      <td>[-56.48370366, 54.85543528, -52.52843421, 56.9...</td>\n",
       "      <td>[{'href': 'https://planetarycomputer.microsoft...</td>\n",
       "      <td>{'ang': {'description': 'Collection 2 Level-1 ...</td>\n",
       "      <td>landsat-c2-l2</td>\n",
       "      <td>30</td>\n",
       "      <td>...</td>\n",
       "      <td>021</td>\n",
       "      <td>LT40050211982236PAC00</td>\n",
       "      <td>005</td>\n",
       "      <td>2</td>\n",
       "      <td>148.383289</td>\n",
       "      <td>L2SP</td>\n",
       "      <td>41.575283</td>\n",
       "      <td>0.0</td>\n",
       "      <td>02</td>\n",
       "      <td>T2</td>\n",
       "    </tr>\n",
       "    <tr>\n",
       "      <th>1</th>\n",
       "      <td>Feature</td>\n",
       "      <td>1.0.0</td>\n",
       "      <td>[https://stac-extensions.github.io/raster/v1.0...</td>\n",
       "      <td>LT04_L2SP_005022_19820824_02_T2</td>\n",
       "      <td>b'\\x01\\x03\\x00\\x00\\x00\\x01\\x00\\x00\\x00\\x05\\x00...</td>\n",
       "      <td>[-57.14583596, 53.46625525, -53.34619289, 55.4...</td>\n",
       "      <td>[{'href': 'https://planetarycomputer.microsoft...</td>\n",
       "      <td>{'ang': {'description': 'Collection 2 Level-1 ...</td>\n",
       "      <td>landsat-c2-l2</td>\n",
       "      <td>30</td>\n",
       "      <td>...</td>\n",
       "      <td>022</td>\n",
       "      <td>LT40050221982236PAC00</td>\n",
       "      <td>005</td>\n",
       "      <td>2</td>\n",
       "      <td>146.913681</td>\n",
       "      <td>L2SP</td>\n",
       "      <td>42.563780</td>\n",
       "      <td>53.0</td>\n",
       "      <td>02</td>\n",
       "      <td>T2</td>\n",
       "    </tr>\n",
       "    <tr>\n",
       "      <th>2</th>\n",
       "      <td>Feature</td>\n",
       "      <td>1.0.0</td>\n",
       "      <td>[https://stac-extensions.github.io/raster/v1.0...</td>\n",
       "      <td>LT04_L2SP_005023_19820824_02_T1</td>\n",
       "      <td>b'\\x01\\x03\\x00\\x00\\x00\\x01\\x00\\x00\\x00\\x05\\x00...</td>\n",
       "      <td>[-57.81007877, 52.05865522, -54.13956097, 54.0...</td>\n",
       "      <td>[{'href': 'https://planetarycomputer.microsoft...</td>\n",
       "      <td>{'ang': {'description': 'Collection 2 Level-1 ...</td>\n",
       "      <td>landsat-c2-l2</td>\n",
       "      <td>30</td>\n",
       "      <td>...</td>\n",
       "      <td>023</td>\n",
       "      <td>LT40050231982236PAC00</td>\n",
       "      <td>005</td>\n",
       "      <td>2</td>\n",
       "      <td>145.418622</td>\n",
       "      <td>L2SP</td>\n",
       "      <td>43.545410</td>\n",
       "      <td>24.0</td>\n",
       "      <td>02</td>\n",
       "      <td>T1</td>\n",
       "    </tr>\n",
       "    <tr>\n",
       "      <th>3</th>\n",
       "      <td>Feature</td>\n",
       "      <td>1.0.0</td>\n",
       "      <td>[https://stac-extensions.github.io/raster/v1.0...</td>\n",
       "      <td>LT04_L2SP_005024_19820824_02_T1</td>\n",
       "      <td>b'\\x01\\x03\\x00\\x00\\x00\\x01\\x00\\x00\\x00\\x05\\x00...</td>\n",
       "      <td>[-58.41818223, 50.67222521, -54.85626831, 52.6...</td>\n",
       "      <td>[{'href': 'https://planetarycomputer.microsoft...</td>\n",
       "      <td>{'ang': {'description': 'Collection 2 Level-1 ...</td>\n",
       "      <td>landsat-c2-l2</td>\n",
       "      <td>30</td>\n",
       "      <td>...</td>\n",
       "      <td>024</td>\n",
       "      <td>LT40050241982236PAC00</td>\n",
       "      <td>005</td>\n",
       "      <td>2</td>\n",
       "      <td>143.938970</td>\n",
       "      <td>L2SP</td>\n",
       "      <td>44.491386</td>\n",
       "      <td>57.0</td>\n",
       "      <td>02</td>\n",
       "      <td>T1</td>\n",
       "    </tr>\n",
       "    <tr>\n",
       "      <th>4</th>\n",
       "      <td>Feature</td>\n",
       "      <td>1.0.0</td>\n",
       "      <td>[https://stac-extensions.github.io/raster/v1.0...</td>\n",
       "      <td>LT04_L2SP_005025_19820824_02_T1</td>\n",
       "      <td>b'\\x01\\x03\\x00\\x00\\x00\\x01\\x00\\x00\\x00\\x05\\x00...</td>\n",
       "      <td>[-59.00151608, 49.2550752, -55.54549517, 51.24...</td>\n",
       "      <td>[{'href': 'https://planetarycomputer.microsoft...</td>\n",
       "      <td>{'ang': {'description': 'Collection 2 Level-1 ...</td>\n",
       "      <td>landsat-c2-l2</td>\n",
       "      <td>30</td>\n",
       "      <td>...</td>\n",
       "      <td>025</td>\n",
       "      <td>LT40050251982236PAC00</td>\n",
       "      <td>005</td>\n",
       "      <td>2</td>\n",
       "      <td>142.421677</td>\n",
       "      <td>L2SP</td>\n",
       "      <td>45.427839</td>\n",
       "      <td>54.0</td>\n",
       "      <td>02</td>\n",
       "      <td>T1</td>\n",
       "    </tr>\n",
       "  </tbody>\n",
       "</table>\n",
       "<p>5 rows × 31 columns</p>\n",
       "</div>"
      ],
      "text/plain": [
       "      type stac_version                                    stac_extensions  \\\n",
       "0  Feature        1.0.0  [https://stac-extensions.github.io/raster/v1.0...   \n",
       "1  Feature        1.0.0  [https://stac-extensions.github.io/raster/v1.0...   \n",
       "2  Feature        1.0.0  [https://stac-extensions.github.io/raster/v1.0...   \n",
       "3  Feature        1.0.0  [https://stac-extensions.github.io/raster/v1.0...   \n",
       "4  Feature        1.0.0  [https://stac-extensions.github.io/raster/v1.0...   \n",
       "\n",
       "                                id  \\\n",
       "0  LT04_L2SP_005021_19820824_02_T2   \n",
       "1  LT04_L2SP_005022_19820824_02_T2   \n",
       "2  LT04_L2SP_005023_19820824_02_T1   \n",
       "3  LT04_L2SP_005024_19820824_02_T1   \n",
       "4  LT04_L2SP_005025_19820824_02_T1   \n",
       "\n",
       "                                            geometry  \\\n",
       "0  b'\\x01\\x03\\x00\\x00\\x00\\x01\\x00\\x00\\x00\\x05\\x00...   \n",
       "1  b'\\x01\\x03\\x00\\x00\\x00\\x01\\x00\\x00\\x00\\x05\\x00...   \n",
       "2  b'\\x01\\x03\\x00\\x00\\x00\\x01\\x00\\x00\\x00\\x05\\x00...   \n",
       "3  b'\\x01\\x03\\x00\\x00\\x00\\x01\\x00\\x00\\x00\\x05\\x00...   \n",
       "4  b'\\x01\\x03\\x00\\x00\\x00\\x01\\x00\\x00\\x00\\x05\\x00...   \n",
       "\n",
       "                                                bbox  \\\n",
       "0  [-56.48370366, 54.85543528, -52.52843421, 56.9...   \n",
       "1  [-57.14583596, 53.46625525, -53.34619289, 55.4...   \n",
       "2  [-57.81007877, 52.05865522, -54.13956097, 54.0...   \n",
       "3  [-58.41818223, 50.67222521, -54.85626831, 52.6...   \n",
       "4  [-59.00151608, 49.2550752, -55.54549517, 51.24...   \n",
       "\n",
       "                                               links  \\\n",
       "0  [{'href': 'https://planetarycomputer.microsoft...   \n",
       "1  [{'href': 'https://planetarycomputer.microsoft...   \n",
       "2  [{'href': 'https://planetarycomputer.microsoft...   \n",
       "3  [{'href': 'https://planetarycomputer.microsoft...   \n",
       "4  [{'href': 'https://planetarycomputer.microsoft...   \n",
       "\n",
       "                                              assets     collection  gsd  ...  \\\n",
       "0  {'ang': {'description': 'Collection 2 Level-1 ...  landsat-c2-l2   30  ...   \n",
       "1  {'ang': {'description': 'Collection 2 Level-1 ...  landsat-c2-l2   30  ...   \n",
       "2  {'ang': {'description': 'Collection 2 Level-1 ...  landsat-c2-l2   30  ...   \n",
       "3  {'ang': {'description': 'Collection 2 Level-1 ...  landsat-c2-l2   30  ...   \n",
       "4  {'ang': {'description': 'Collection 2 Level-1 ...  landsat-c2-l2   30  ...   \n",
       "\n",
       "  landsat:wrs_row       landsat:scene_id landsat:wrs_path landsat:wrs_type  \\\n",
       "0             021  LT40050211982236PAC00              005                2   \n",
       "1             022  LT40050221982236PAC00              005                2   \n",
       "2             023  LT40050231982236PAC00              005                2   \n",
       "3             024  LT40050241982236PAC00              005                2   \n",
       "4             025  LT40050251982236PAC00              005                2   \n",
       "\n",
       "   view:sun_azimuth landsat:correction view:sun_elevation  \\\n",
       "0        148.383289               L2SP          41.575283   \n",
       "1        146.913681               L2SP          42.563780   \n",
       "2        145.418622               L2SP          43.545410   \n",
       "3        143.938970               L2SP          44.491386   \n",
       "4        142.421677               L2SP          45.427839   \n",
       "\n",
       "  landsat:cloud_cover_land  landsat:collection_number  \\\n",
       "0                      0.0                         02   \n",
       "1                     53.0                         02   \n",
       "2                     24.0                         02   \n",
       "3                     57.0                         02   \n",
       "4                     54.0                         02   \n",
       "\n",
       "  landsat:collection_category  \n",
       "0                          T2  \n",
       "1                          T2  \n",
       "2                          T1  \n",
       "3                          T1  \n",
       "4                          T1  \n",
       "\n",
       "[5 rows x 31 columns]"
      ]
     },
     "execution_count": 35,
     "metadata": {},
     "output_type": "execute_result"
    }
   ],
   "source": [
    "landsat_ddf.head()"
   ]
  },
  {
   "cell_type": "code",
   "execution_count": 36,
   "metadata": {},
   "outputs": [],
   "source": [
    "selected_item = landsat_ddf.head(1).iloc[0]\n",
    "bands_of_interest = [\"red\", \"green\", \"blue\"]\n",
    "bbox = selected_item[\"bbox\"]"
   ]
  },
  {
   "cell_type": "code",
   "execution_count": 38,
   "metadata": {},
   "outputs": [
    {
     "data": {
      "text/plain": [
       "type                                                                     Feature\n",
       "stac_version                                                               1.0.0\n",
       "stac_extensions                [https://stac-extensions.github.io/raster/v1.0...\n",
       "id                                               LT04_L2SP_005021_19820824_02_T2\n",
       "geometry                       b'\\x01\\x03\\x00\\x00\\x00\\x01\\x00\\x00\\x00\\x05\\x00...\n",
       "bbox                           [-56.48370366, 54.85543528, -52.52843421, 56.9...\n",
       "links                          [{'href': 'https://planetarycomputer.microsoft...\n",
       "assets                         {'ang': {'description': 'Collection 2 Level-1 ...\n",
       "collection                                                         landsat-c2-l2\n",
       "gsd                                                                           30\n",
       "created                                              2022-05-06T17:20:50.200161Z\n",
       "sci:doi                                                         10.5066/P9IAXOVV\n",
       "datetime                                        1982-08-24 14:06:27.758013+00:00\n",
       "platform                                                               landsat-4\n",
       "proj:epsg                                                                  32621\n",
       "proj:shape                                                          [7321, 7991]\n",
       "description                                         Landsat Collection 2 Level-2\n",
       "instruments                                                                 [tm]\n",
       "eo:cloud_cover                                                              33.0\n",
       "proj:transform                      [30.0, 0.0, 533085.0, 0.0, -30.0, 6306615.0]\n",
       "view:off_nadir                                                                 0\n",
       "landsat:wrs_row                                                              021\n",
       "landsat:scene_id                                           LT40050211982236PAC00\n",
       "landsat:wrs_path                                                             005\n",
       "landsat:wrs_type                                                               2\n",
       "view:sun_azimuth                                                      148.383289\n",
       "landsat:correction                                                          L2SP\n",
       "view:sun_elevation                                                     41.575283\n",
       "landsat:cloud_cover_land                                                     0.0\n",
       "landsat:collection_number                                                     02\n",
       "landsat:collection_category                                                   T2\n",
       "Name: 0, dtype: object"
      ]
     },
     "execution_count": 38,
     "metadata": {},
     "output_type": "execute_result"
    }
   ],
   "source": [
    "selected_item"
   ]
  },
  {
   "cell_type": "code",
   "execution_count": 50,
   "metadata": {},
   "outputs": [],
   "source": [
    "for link in selected_item[\"links\"]:\n",
    "    if link[\"rel\"] == \"self\":\n",
    "        href = link[\"href\"]\n",
    "        break"
   ]
  },
  {
   "cell_type": "code",
   "execution_count": 51,
   "metadata": {},
   "outputs": [
    {
     "data": {
      "text/plain": [
       "[intake.readers.datatypes.STACJSON,\n",
       " intake.readers.datatypes.Handle,\n",
       " intake.readers.datatypes.JSONFile,\n",
       " intake.readers.datatypes.CatalogAPI,\n",
       " intake.readers.datatypes.TiledService]"
      ]
     },
     "execution_count": 51,
     "metadata": {},
     "output_type": "execute_result"
    }
   ],
   "source": [
    "intake.readers.datatypes.recommend(href)"
   ]
  },
  {
   "cell_type": "code",
   "execution_count": 65,
   "metadata": {},
   "outputs": [],
   "source": [
    "stac_json = intake.readers.datatypes.STACJSON(href)"
   ]
  },
  {
   "cell_type": "code",
   "execution_count": 73,
   "metadata": {},
   "outputs": [
    {
     "data": {
      "text/plain": [
       "{'importable': [intake.readers.catalogs.StacCatalogReader,\n",
       "  intake.readers.catalogs.StackBands,\n",
       "  intake.readers.catalogs.StacSearch,\n",
       "  intake.readers.readers.DaskJSON,\n",
       "  intake.readers.readers.FileByteReader,\n",
       "  intake.readers.readers.FileExistsReader],\n",
       " 'not_importable': [intake.readers.readers.AwkwardJSON,\n",
       "  intake.readers.readers.RayJSON,\n",
       "  intake.readers.readers.DuckJSON,\n",
       "  intake.readers.readers.PolarsJSON,\n",
       "  intake.readers.readers.RayBinary]}"
      ]
     },
     "execution_count": 73,
     "metadata": {},
     "output_type": "execute_result"
    }
   ],
   "source": [
    "stac_json.possible_readers"
   ]
  },
  {
   "cell_type": "code",
   "execution_count": 87,
   "metadata": {},
   "outputs": [],
   "source": [
    "reader = intake.readers.DaskJSON(stac_json)"
   ]
  },
  {
   "cell_type": "code",
   "execution_count": 96,
   "metadata": {},
   "outputs": [],
   "source": [
    "row = reader.read().compute().iloc[0]"
   ]
  },
  {
   "cell_type": "code",
   "execution_count": 119,
   "metadata": {},
   "outputs": [],
   "source": [
    "assets = json.loads(row[\"assets\"].replace(\"'\", '\"'))"
   ]
  },
  {
   "cell_type": "code",
   "execution_count": 140,
   "metadata": {},
   "outputs": [
    {
     "data": {
      "text/plain": [
       "{'qa': {'href': 'https://landsateuwest.blob.core.windows.net/landsat-c2/level-2/standard/tm/1982/005/021/LT04_L2SP_005021_19820824_20200918_02_T2/LT04_L2SP_005021_19820824_20200918_02_T2_ST_QA.TIF',\n",
       "  'type': 'image/tiff; application=geotiff; profile=cloud-optimized',\n",
       "  'roles': ['data'],\n",
       "  'title': 'Surface Temperature Quality Assessment Band',\n",
       "  'description': 'Collection 2 Level-2 Quality Assessment Band (ST_QA) Surface Temperature Product',\n",
       "  'raster:bands': [{'unit': 'kelvin',\n",
       "    'scale': 0.01,\n",
       "    'nodata': -9999,\n",
       "    'data_type': 'int16',\n",
       "    'spatial_resolution': 30}]},\n",
       " 'ang': {'href': 'https://landsateuwest.blob.core.windows.net/landsat-c2/level-2/standard/tm/1982/005/021/LT04_L2SP_005021_19820824_20200918_02_T2/LT04_L2SP_005021_19820824_20200918_02_T2_ANG.txt',\n",
       "  'type': 'text/plain',\n",
       "  'roles': ['metadata'],\n",
       "  'title': 'Angle Coefficients File',\n",
       "  'description': 'Collection 2 Level-1 Angle Coefficients File'},\n",
       " 'red': {'href': 'https://landsateuwest.blob.core.windows.net/landsat-c2/level-2/standard/tm/1982/005/021/LT04_L2SP_005021_19820824_20200918_02_T2/LT04_L2SP_005021_19820824_20200918_02_T2_SR_B3.TIF',\n",
       "  'eo:bands': [{'name': 'TM_B3',\n",
       "    'center_wavelength': 0.66,\n",
       "    'full_width_half_max': 0.06,\n",
       "    'common_name': 'red',\n",
       "    'description': 'Visible red'}],\n",
       "  'description': 'Collection 2 Level-2 Red Band (SR_B3) Surface Reflectance',\n",
       "  'type': 'image/tiff; application=geotiff; profile=cloud-optimized',\n",
       "  'roles': ['data', 'reflectance'],\n",
       "  'title': 'Red Band',\n",
       "  'raster:bands': [{'scale': 2.7499999999999998e-05,\n",
       "    'nodata': 0,\n",
       "    'offset': -0.2,\n",
       "    'data_type': 'uint16',\n",
       "    'spatial_resolution': 30}]},\n",
       " 'blue': {'href': 'https://landsateuwest.blob.core.windows.net/landsat-c2/level-2/standard/tm/1982/005/021/LT04_L2SP_005021_19820824_20200918_02_T2/LT04_L2SP_005021_19820824_20200918_02_T2_SR_B1.TIF',\n",
       "  'eo:bands': [{'name': 'TM_B1',\n",
       "    'center_wavelength': 0.49,\n",
       "    'full_width_half_max': 0.07,\n",
       "    'common_name': 'blue',\n",
       "    'description': 'Visible blue'}],\n",
       "  'description': 'Collection 2 Level-2 Blue Band (SR_B1) Surface Reflectance',\n",
       "  'type': 'image/tiff; application=geotiff; profile=cloud-optimized',\n",
       "  'roles': ['data', 'reflectance'],\n",
       "  'title': 'Blue Band',\n",
       "  'raster:bands': [{'scale': 2.7499999999999998e-05,\n",
       "    'nodata': 0,\n",
       "    'offset': -0.2,\n",
       "    'data_type': 'uint16',\n",
       "    'spatial_resolution': 30}]},\n",
       " 'drad': {'href': 'https://landsateuwest.blob.core.windows.net/landsat-c2/level-2/standard/tm/1982/005/021/LT04_L2SP_005021_19820824_20200918_02_T2/LT04_L2SP_005021_19820824_20200918_02_T2_ST_DRAD.TIF',\n",
       "  'type': 'image/tiff; application=geotiff; profile=cloud-optimized',\n",
       "  'roles': ['data'],\n",
       "  'title': 'Downwelled Radiance Band',\n",
       "  'description': 'Collection 2 Level-2 Downwelled Radiance Band (ST_DRAD) Surface Temperature Product',\n",
       "  'raster:bands': [{'unit': 'watt/steradian/square_meter/micrometer',\n",
       "    'scale': 0.001,\n",
       "    'nodata': -9999,\n",
       "    'data_type': 'int16',\n",
       "    'spatial_resolution': 30}]},\n",
       " 'emis': {'href': 'https://landsateuwest.blob.core.windows.net/landsat-c2/level-2/standard/tm/1982/005/021/LT04_L2SP_005021_19820824_20200918_02_T2/LT04_L2SP_005021_19820824_20200918_02_T2_ST_EMIS.TIF',\n",
       "  'type': 'image/tiff; application=geotiff; profile=cloud-optimized',\n",
       "  'roles': ['data'],\n",
       "  'title': 'Emissivity Band',\n",
       "  'description': 'Collection 2 Level-2 Emissivity Band (ST_EMIS) Surface Temperature Product',\n",
       "  'raster:bands': [{'unit': 'emissivity coefficient',\n",
       "    'scale': 0.0001,\n",
       "    'nodata': -9999,\n",
       "    'data_type': 'int16',\n",
       "    'spatial_resolution': 30}]},\n",
       " 'emsd': {'href': 'https://landsateuwest.blob.core.windows.net/landsat-c2/level-2/standard/tm/1982/005/021/LT04_L2SP_005021_19820824_20200918_02_T2/LT04_L2SP_005021_19820824_20200918_02_T2_ST_EMSD.TIF',\n",
       "  'type': 'image/tiff; application=geotiff; profile=cloud-optimized',\n",
       "  'roles': ['data'],\n",
       "  'title': 'Emissivity Standard Deviation Band',\n",
       "  'description': 'Collection 2 Level-2 Emissivity Standard Deviation Band (ST_EMSD) Surface Temperature Product',\n",
       "  'raster:bands': [{'unit': 'emissivity coefficient',\n",
       "    'scale': 0.0001,\n",
       "    'nodata': -9999,\n",
       "    'data_type': 'int16',\n",
       "    'spatial_resolution': 30}]},\n",
       " 'lwir': {'gsd': 120,\n",
       "  'href': 'https://landsateuwest.blob.core.windows.net/landsat-c2/level-2/standard/tm/1982/005/021/LT04_L2SP_005021_19820824_20200918_02_T2/LT04_L2SP_005021_19820824_20200918_02_T2_ST_B6.TIF',\n",
       "  'eo:bands': [{'name': 'TM_B6',\n",
       "    'center_wavelength': 11.45,\n",
       "    'full_width_half_max': 2.1,\n",
       "    'common_name': 'lwir',\n",
       "    'description': 'Long-wave infrared'}],\n",
       "  'type': 'image/tiff; application=geotiff; profile=cloud-optimized',\n",
       "  'roles': ['data', 'temperature'],\n",
       "  'title': 'Surface Temperature Band',\n",
       "  'description': 'Collection 2 Level-2 Thermal Infrared Band (ST_B6) Surface Temperature',\n",
       "  'raster:bands': [{'unit': 'kelvin',\n",
       "    'scale': 0.00341802,\n",
       "    'nodata': 0,\n",
       "    'offset': 149.0,\n",
       "    'data_type': 'uint16',\n",
       "    'spatial_resolution': 30}]},\n",
       " 'trad': {'href': 'https://landsateuwest.blob.core.windows.net/landsat-c2/level-2/standard/tm/1982/005/021/LT04_L2SP_005021_19820824_20200918_02_T2/LT04_L2SP_005021_19820824_20200918_02_T2_ST_TRAD.TIF',\n",
       "  'type': 'image/tiff; application=geotiff; profile=cloud-optimized',\n",
       "  'roles': ['data'],\n",
       "  'title': 'Thermal Radiance Band',\n",
       "  'description': 'Collection 2 Level-2 Thermal Radiance Band (ST_TRAD) Surface Temperature Product',\n",
       "  'raster:bands': [{'unit': 'watt/steradian/square_meter/micrometer',\n",
       "    'scale': 0.001,\n",
       "    'nodata': -9999,\n",
       "    'data_type': 'int16',\n",
       "    'spatial_resolution': 30}]},\n",
       " 'urad': {'href': 'https://landsateuwest.blob.core.windows.net/landsat-c2/level-2/standard/tm/1982/005/021/LT04_L2SP_005021_19820824_20200918_02_T2/LT04_L2SP_005021_19820824_20200918_02_T2_ST_URAD.TIF',\n",
       "  'type': 'image/tiff; application=geotiff; profile=cloud-optimized',\n",
       "  'roles': ['data'],\n",
       "  'title': 'Upwelled Radiance Band',\n",
       "  'description': 'Collection 2 Level-2 Upwelled Radiance Band (ST_URAD) Surface Temperature Product',\n",
       "  'raster:bands': [{'unit': 'watt/steradian/square_meter/micrometer',\n",
       "    'scale': 0.001,\n",
       "    'nodata': -9999,\n",
       "    'data_type': 'int16',\n",
       "    'spatial_resolution': 30}]},\n",
       " 'atran': {'href': 'https://landsateuwest.blob.core.windows.net/landsat-c2/level-2/standard/tm/1982/005/021/LT04_L2SP_005021_19820824_20200918_02_T2/LT04_L2SP_005021_19820824_20200918_02_T2_ST_ATRAN.TIF',\n",
       "  'type': 'image/tiff; application=geotiff; profile=cloud-optimized',\n",
       "  'roles': ['data'],\n",
       "  'title': 'Atmospheric Transmittance Band',\n",
       "  'description': 'Collection 2 Level-2 Atmospheric Transmittance Band (ST_ATRAN) Surface Temperature Product',\n",
       "  'raster:bands': [{'scale': 0.0001,\n",
       "    'nodata': -9999,\n",
       "    'data_type': 'int16',\n",
       "    'spatial_resolution': 30}]},\n",
       " 'cdist': {'href': 'https://landsateuwest.blob.core.windows.net/landsat-c2/level-2/standard/tm/1982/005/021/LT04_L2SP_005021_19820824_20200918_02_T2/LT04_L2SP_005021_19820824_20200918_02_T2_ST_CDIST.TIF',\n",
       "  'type': 'image/tiff; application=geotiff; profile=cloud-optimized',\n",
       "  'roles': ['data'],\n",
       "  'title': 'Cloud Distance Band',\n",
       "  'description': 'Collection 2 Level-2 Cloud Distance Band (ST_CDIST) Surface Temperature Product',\n",
       "  'raster:bands': [{'unit': 'kilometer',\n",
       "    'scale': 0.01,\n",
       "    'nodata': -9999,\n",
       "    'data_type': 'int16',\n",
       "    'spatial_resolution': 30}]},\n",
       " 'green': {'href': 'https://landsateuwest.blob.core.windows.net/landsat-c2/level-2/standard/tm/1982/005/021/LT04_L2SP_005021_19820824_20200918_02_T2/LT04_L2SP_005021_19820824_20200918_02_T2_SR_B2.TIF',\n",
       "  'eo:bands': [{'name': 'TM_B2',\n",
       "    'full_width_half_max': 0.08,\n",
       "    'common_name': 'green',\n",
       "    'description': 'Visible green',\n",
       "    'center_wavelength': 0.56}],\n",
       "  'description': 'Collection 2 Level-2 Green Band (SR_B2) Surface Reflectance',\n",
       "  'type': 'image/tiff; application=geotiff; profile=cloud-optimized',\n",
       "  'roles': ['data', 'reflectance'],\n",
       "  'title': 'Green Band',\n",
       "  'raster:bands': [{'scale': 2.7499999999999998e-05,\n",
       "    'nodata': 0,\n",
       "    'offset': -0.2,\n",
       "    'data_type': 'uint16',\n",
       "    'spatial_resolution': 30}]},\n",
       " 'nir08': {'href': 'https://landsateuwest.blob.core.windows.net/landsat-c2/level-2/standard/tm/1982/005/021/LT04_L2SP_005021_19820824_20200918_02_T2/LT04_L2SP_005021_19820824_20200918_02_T2_SR_B4.TIF',\n",
       "  'eo:bands': [{'name': 'TM_B4',\n",
       "    'center_wavelength': 0.8300000000000001,\n",
       "    'full_width_half_max': 0.14,\n",
       "    'common_name': 'nir08',\n",
       "    'description': 'Near infrared'}],\n",
       "  'description': 'Collection 2 Level-2 Near Infrared Band 0.8 (SR_B4) Surface Reflectance',\n",
       "  'type': 'image/tiff; application=geotiff; profile=cloud-optimized',\n",
       "  'roles': ['data', 'reflectance'],\n",
       "  'title': 'Near Infrared Band 0.8',\n",
       "  'raster:bands': [{'scale': 2.7499999999999998e-05,\n",
       "    'nodata': 0,\n",
       "    'offset': -0.2,\n",
       "    'data_type': 'uint16',\n",
       "    'spatial_resolution': 30}]},\n",
       " 'swir16': {'href': 'https://landsateuwest.blob.core.windows.net/landsat-c2/level-2/standard/tm/1982/005/021/LT04_L2SP_005021_19820824_20200918_02_T2/LT04_L2SP_005021_19820824_20200918_02_T2_SR_B5.TIF',\n",
       "  'eo:bands': [{'name': 'TM_B5',\n",
       "    'center_wavelength': 1.65,\n",
       "    'full_width_half_max': 0.2,\n",
       "    'common_name': 'swir16',\n",
       "    'description': 'Short-wave infrared'}],\n",
       "  'description': 'Collection 2 Level-2 Short-wave Infrared Band 1.6 (SR_B5) Surface Reflectance',\n",
       "  'type': 'image/tiff; application=geotiff; profile=cloud-optimized',\n",
       "  'roles': ['data', 'reflectance'],\n",
       "  'title': 'Short-wave Infrared Band 1.6',\n",
       "  'raster:bands': [{'scale': 2.7499999999999998e-05,\n",
       "    'nodata': 0,\n",
       "    'offset': -0.2,\n",
       "    'data_type': 'uint16',\n",
       "    'spatial_resolution': 30}]},\n",
       " 'swir22': {'href': 'https://landsateuwest.blob.core.windows.net/landsat-c2/level-2/standard/tm/1982/005/021/LT04_L2SP_005021_19820824_20200918_02_T2/LT04_L2SP_005021_19820824_20200918_02_T2_SR_B7.TIF',\n",
       "  'eo:bands': [{'name': 'TM_B7',\n",
       "    'center_wavelength': 2.22,\n",
       "    'full_width_half_max': 0.27,\n",
       "    'common_name': 'swir22',\n",
       "    'description': 'Short-wave infrared'}],\n",
       "  'type': 'image/tiff; application=geotiff; profile=cloud-optimized',\n",
       "  'roles': ['data', 'reflectance'],\n",
       "  'title': 'Short-wave Infrared Band 2.2',\n",
       "  'description': 'Collection 2 Level-2 Short-wave Infrared Band 2.2 (SR_B7) Surface Reflectance',\n",
       "  'raster:bands': [{'scale': 2.7499999999999998e-05,\n",
       "    'nodata': 0,\n",
       "    'offset': -0.2,\n",
       "    'data_type': 'uint16',\n",
       "    'spatial_resolution': 30}]},\n",
       " 'mtl.txt': {'href': 'https://landsateuwest.blob.core.windows.net/landsat-c2/level-2/standard/tm/1982/005/021/LT04_L2SP_005021_19820824_20200918_02_T2/LT04_L2SP_005021_19820824_20200918_02_T2_MTL.txt',\n",
       "  'type': 'text/plain',\n",
       "  'roles': ['metadata'],\n",
       "  'title': 'Product Metadata File (txt)',\n",
       "  'description': 'Collection 2 Level-2 Product Metadata File (txt)'},\n",
       " 'mtl.xml': {'href': 'https://landsateuwest.blob.core.windows.net/landsat-c2/level-2/standard/tm/1982/005/021/LT04_L2SP_005021_19820824_20200918_02_T2/LT04_L2SP_005021_19820824_20200918_02_T2_MTL.xml',\n",
       "  'type': 'application/xml',\n",
       "  'roles': ['metadata'],\n",
       "  'title': 'Product Metadata File (xml)',\n",
       "  'description': 'Collection 2 Level-2 Product Metadata File (xml)'},\n",
       " 'cloud_qa': {'href': 'https://landsateuwest.blob.core.windows.net/landsat-c2/level-2/standard/tm/1982/005/021/LT04_L2SP_005021_19820824_20200918_02_T2/LT04_L2SP_005021_19820824_20200918_02_T2_SR_CLOUD_QA.TIF',\n",
       "  'type': 'image/tiff; application=geotiff; profile=cloud-optimized',\n",
       "  'roles': ['cloud', 'cloud-shadow', 'snow-ice', 'water-mask'],\n",
       "  'title': 'Cloud Quality Assessment Band',\n",
       "  'description': 'Collection 2 Level-2 Cloud Quality Assessment Band (SR_CLOUD_QA) Surface Reflectance Product',\n",
       "  'raster:bands': [{'unit': 'bit index',\n",
       "    'data_type': 'uint8',\n",
       "    'spatial_resolution': 30}],\n",
       "  'classification:bitfields': [{'name': 'ddv',\n",
       "    'length': 1,\n",
       "    'offset': 0,\n",
       "    'classes': [{'name': 'not_ddv',\n",
       "      'value': 0,\n",
       "      'description': 'Pixel has no DDV'},\n",
       "     {'name': 'ddv', 'value': 1, 'description': 'Pixel has DDV'}],\n",
       "    'description': 'Dense Dark Vegetation (DDV)'},\n",
       "   {'name': 'cloud',\n",
       "    'length': 1,\n",
       "    'offset': 1,\n",
       "    'classes': [{'name': 'not_cloud',\n",
       "      'value': 0,\n",
       "      'description': 'Pixel has no cloud'},\n",
       "     {'name': 'cloud', 'value': 1, 'description': 'Pixel has cloud'}],\n",
       "    'description': 'Cloud mask'},\n",
       "   {'name': 'cloud_shadow',\n",
       "    'length': 1,\n",
       "    'offset': 2,\n",
       "    'classes': [{'name': 'not_shadow',\n",
       "      'value': 0,\n",
       "      'description': 'Pixel has no cloud shadow'},\n",
       "     {'name': 'shadow', 'value': 1, 'description': 'Pixel has cloud shadow'}],\n",
       "    'description': 'Cloud shadow mask'},\n",
       "   {'name': 'cloud_adjacent',\n",
       "    'length': 1,\n",
       "    'offset': 3,\n",
       "    'classes': [{'name': 'not_adjacent',\n",
       "      'value': 0,\n",
       "      'description': 'Pixel is not adjacent to cloud'},\n",
       "     {'name': 'adjacent',\n",
       "      'value': 1,\n",
       "      'description': 'Pixel is adjacent to cloud'}],\n",
       "    'description': 'Cloud adjacency'},\n",
       "   {'name': 'snow',\n",
       "    'length': 1,\n",
       "    'offset': 4,\n",
       "    'classes': [{'name': 'not_snow',\n",
       "      'value': 0,\n",
       "      'description': 'Pixel is not snow'},\n",
       "     {'name': 'shadow', 'value': 1, 'description': 'Pixel is snow'}],\n",
       "    'description': 'Snow mask'},\n",
       "   {'name': 'water',\n",
       "    'length': 1,\n",
       "    'offset': 5,\n",
       "    'classes': [{'name': 'not_water',\n",
       "      'value': 0,\n",
       "      'description': 'Pixel is not water'},\n",
       "     {'name': 'water', 'value': 1, 'description': 'Pixel is water'}],\n",
       "    'description': 'Water mask'}]},\n",
       " 'mtl.json': {'href': 'https://landsateuwest.blob.core.windows.net/landsat-c2/level-2/standard/tm/1982/005/021/LT04_L2SP_005021_19820824_20200918_02_T2/LT04_L2SP_005021_19820824_20200918_02_T2_MTL.json',\n",
       "  'type': 'application/json',\n",
       "  'roles': ['metadata'],\n",
       "  'title': 'Product Metadata File (json)',\n",
       "  'description': 'Collection 2 Level-2 Product Metadata File (json)'},\n",
       " 'qa_pixel': {'href': 'https://landsateuwest.blob.core.windows.net/landsat-c2/level-2/standard/tm/1982/005/021/LT04_L2SP_005021_19820824_20200918_02_T2/LT04_L2SP_005021_19820824_20200918_02_T2_QA_PIXEL.TIF',\n",
       "  'classification:bitfields': [{'name': 'fill',\n",
       "    'length': 1,\n",
       "    'offset': 0,\n",
       "    'classes': [{'name': 'not_fill', 'value': 0, 'description': 'Image data'},\n",
       "     {'name': 'fill', 'value': 1, 'description': 'Fill data'}],\n",
       "    'description': 'Image or fill data'},\n",
       "   {'name': 'dilated_cloud',\n",
       "    'length': 1,\n",
       "    'offset': 1,\n",
       "    'classes': [{'name': 'not_dilated',\n",
       "      'value': 0,\n",
       "      'description': 'Cloud is not dilated or no cloud'},\n",
       "     {'name': 'dilated', 'value': 1, 'description': 'Cloud dilation'}],\n",
       "    'description': 'Dilated cloud'},\n",
       "   {'name': 'cloud',\n",
       "    'length': 1,\n",
       "    'offset': 3,\n",
       "    'classes': [{'name': 'not_cloud',\n",
       "      'value': 0,\n",
       "      'description': 'Cloud confidence is not high'},\n",
       "     {'name': 'cloud', 'value': 1, 'description': 'High confidence cloud'}],\n",
       "    'description': 'Cloud mask'},\n",
       "   {'name': 'cloud_shadow',\n",
       "    'length': 1,\n",
       "    'offset': 4,\n",
       "    'classes': [{'name': 'not_shadow',\n",
       "      'value': 0,\n",
       "      'description': 'Cloud shadow confidence is not high'},\n",
       "     {'name': 'shadow',\n",
       "      'value': 1,\n",
       "      'description': 'High confidence cloud shadow'}],\n",
       "    'description': 'Cloud shadow mask'},\n",
       "   {'name': 'snow',\n",
       "    'length': 1,\n",
       "    'offset': 5,\n",
       "    'classes': [{'name': 'not_snow',\n",
       "      'value': 0,\n",
       "      'description': 'Snow/Ice confidence is not high'},\n",
       "     {'name': 'snow',\n",
       "      'value': 1,\n",
       "      'description': 'High confidence snow cover'}],\n",
       "    'description': 'Snow/Ice mask'},\n",
       "   {'name': 'clear',\n",
       "    'length': 1,\n",
       "    'offset': 6,\n",
       "    'classes': [{'name': 'not_clear',\n",
       "      'value': 0,\n",
       "      'description': 'Cloud or dilated cloud bits are set'},\n",
       "     {'name': 'clear',\n",
       "      'value': 1,\n",
       "      'description': 'Cloud and dilated cloud bits are not set'}],\n",
       "    'description': 'Clear mask'},\n",
       "   {'name': 'water',\n",
       "    'length': 1,\n",
       "    'offset': 7,\n",
       "    'classes': [{'name': 'not_water',\n",
       "      'value': 0,\n",
       "      'description': 'Land or cloud'},\n",
       "     {'name': 'water', 'value': 1, 'description': 'Water'}],\n",
       "    'description': 'Water mask'},\n",
       "   {'name': 'cloud_confidence',\n",
       "    'length': 2,\n",
       "    'offset': 8,\n",
       "    'classes': [{'name': 'not_set',\n",
       "      'value': 0,\n",
       "      'description': 'No confidence level set'},\n",
       "     {'name': 'low', 'value': 1, 'description': 'Low confidence cloud'},\n",
       "     {'name': 'medium', 'value': 2, 'description': 'Medium confidence cloud'},\n",
       "     {'name': 'high', 'value': 3, 'description': 'High confidence cloud'}],\n",
       "    'description': 'Cloud confidence levels'},\n",
       "   {'name': 'cloud_shadow_confidence',\n",
       "    'length': 2,\n",
       "    'offset': 10,\n",
       "    'classes': [{'name': 'not_set',\n",
       "      'value': 0,\n",
       "      'description': 'No confidence level set'},\n",
       "     {'name': 'low', 'value': 1, 'description': 'Low confidence cloud shadow'},\n",
       "     {'name': 'reserved',\n",
       "      'value': 2,\n",
       "      'description': 'Reserved - value not used'},\n",
       "     {'name': 'high',\n",
       "      'value': 3,\n",
       "      'description': 'High confidence cloud shadow'}],\n",
       "    'description': 'Cloud shadow confidence levels'},\n",
       "   {'name': 'snow_confidence',\n",
       "    'length': 2,\n",
       "    'offset': 12,\n",
       "    'classes': [{'name': 'not_set',\n",
       "      'value': 0,\n",
       "      'description': 'No confidence level set'},\n",
       "     {'name': 'low', 'value': 1, 'description': 'Low confidence snow/ice'},\n",
       "     {'name': 'reserved',\n",
       "      'value': 2,\n",
       "      'description': 'Reserved - value not used'},\n",
       "     {'name': 'high', 'value': 3, 'description': 'High confidence snow/ice'}],\n",
       "    'description': 'Snow/Ice confidence levels'}],\n",
       "  'type': 'image/tiff; application=geotiff; profile=cloud-optimized',\n",
       "  'roles': ['cloud', 'cloud-shadow', 'snow-ice', 'water-mask'],\n",
       "  'title': 'Pixel Quality Assessment Band',\n",
       "  'description': 'Collection 2 Level-1 Pixel Quality Assessment Band (QA_PIXEL)',\n",
       "  'raster:bands': [{'unit': 'bit index',\n",
       "    'nodata': 1,\n",
       "    'data_type': 'uint16',\n",
       "    'spatial_resolution': 30}]},\n",
       " 'qa_radsat': {'href': 'https://landsateuwest.blob.core.windows.net/landsat-c2/level-2/standard/tm/1982/005/021/LT04_L2SP_005021_19820824_20200918_02_T2/LT04_L2SP_005021_19820824_20200918_02_T2_QA_RADSAT.TIF',\n",
       "  'title': 'Radiometric Saturation and Dropped Pixel Quality Assessment Band',\n",
       "  'description': 'Collection 2 Level-1 Radiometric Saturation and Dropped Pixel Quality Assessment Band (QA_RADSAT)',\n",
       "  'classification:bitfields': [{'name': 'band1',\n",
       "    'length': 1,\n",
       "    'offset': 0,\n",
       "    'classes': [{'name': 'not_saturated',\n",
       "      'value': 0,\n",
       "      'description': 'Band 1 not saturated'},\n",
       "     {'name': 'saturated', 'value': 1, 'description': 'Band 1 saturated'}],\n",
       "    'description': 'Band 1 radiometric saturation'},\n",
       "   {'name': 'band2',\n",
       "    'length': 1,\n",
       "    'offset': 1,\n",
       "    'classes': [{'name': 'not_saturated',\n",
       "      'value': 0,\n",
       "      'description': 'Band 2 not saturated'},\n",
       "     {'name': 'saturated', 'value': 1, 'description': 'Band 2 saturated'}],\n",
       "    'description': 'Band 2 radiometric saturation'},\n",
       "   {'name': 'band3',\n",
       "    'length': 1,\n",
       "    'offset': 2,\n",
       "    'classes': [{'name': 'not_saturated',\n",
       "      'value': 0,\n",
       "      'description': 'Band 3 not saturated'},\n",
       "     {'name': 'saturated', 'value': 1, 'description': 'Band 3 saturated'}],\n",
       "    'description': 'Band 3 radiometric saturation'},\n",
       "   {'name': 'band4',\n",
       "    'length': 1,\n",
       "    'offset': 3,\n",
       "    'classes': [{'name': 'not_saturated',\n",
       "      'value': 0,\n",
       "      'description': 'Band 4 not saturated'},\n",
       "     {'name': 'saturated', 'value': 1, 'description': 'Band 4 saturated'}],\n",
       "    'description': 'Band 4 radiometric saturation'},\n",
       "   {'name': 'band5',\n",
       "    'length': 1,\n",
       "    'offset': 4,\n",
       "    'classes': [{'name': 'not_saturated',\n",
       "      'value': 0,\n",
       "      'description': 'Band 5 not saturated'},\n",
       "     {'name': 'saturated', 'value': 1, 'description': 'Band 5 saturated'}],\n",
       "    'description': 'Band 5 radiometric saturation'},\n",
       "   {'name': 'band6',\n",
       "    'length': 1,\n",
       "    'offset': 5,\n",
       "    'classes': [{'name': 'not_saturated',\n",
       "      'value': 0,\n",
       "      'description': 'Band 6 not saturated'},\n",
       "     {'name': 'saturated', 'value': 1, 'description': 'Band 6 saturated'}],\n",
       "    'description': 'Band 6 radiometric saturation'},\n",
       "   {'name': 'band7',\n",
       "    'length': 1,\n",
       "    'offset': 6,\n",
       "    'classes': [{'name': 'not_saturated',\n",
       "      'value': 0,\n",
       "      'description': 'Band 7 not saturated'},\n",
       "     {'name': 'saturated', 'value': 1, 'description': 'Band 7 saturated'}],\n",
       "    'description': 'Band 7 radiometric saturation'},\n",
       "   {'name': 'dropped',\n",
       "    'length': 1,\n",
       "    'offset': 9,\n",
       "    'classes': [{'name': 'not_dropped',\n",
       "      'value': 0,\n",
       "      'description': 'Detector has a value - pixel present'},\n",
       "     {'name': 'dropped',\n",
       "      'value': 1,\n",
       "      'description': 'Detector does not have a value - no data'}],\n",
       "    'description': 'Dropped pixel'}],\n",
       "  'type': 'image/tiff; application=geotiff; profile=cloud-optimized',\n",
       "  'roles': ['saturation'],\n",
       "  'raster:bands': [{'unit': 'bit index',\n",
       "    'data_type': 'uint16',\n",
       "    'spatial_resolution': 30}]},\n",
       " 'atmos_opacity': {'href': 'https://landsateuwest.blob.core.windows.net/landsat-c2/level-2/standard/tm/1982/005/021/LT04_L2SP_005021_19820824_20200918_02_T2/LT04_L2SP_005021_19820824_20200918_02_T2_SR_ATMOS_OPACITY.TIF',\n",
       "  'type': 'image/tiff; application=geotiff; profile=cloud-optimized',\n",
       "  'roles': ['data'],\n",
       "  'title': 'Atmospheric Opacity Band',\n",
       "  'description': 'Collection 2 Level-2 Atmospheric Opacity Band (SR_ATMOS_OPACITY) Surface Reflectance Product',\n",
       "  'raster:bands': [{'scale': 0.001,\n",
       "    'nodata': -9999,\n",
       "    'data_type': 'int16',\n",
       "    'spatial_resolution': 30}]},\n",
       " 'tilejson': {'title': 'TileJSON with default rendering',\n",
       "  'href': 'https://planetarycomputer.microsoft.com/api/data/v1/item/tilejson.json?collection=landsat-c2-l2&item=LT04_L2SP_005021_19820824_02_T2&assets=red&assets=green&assets=blue&color_formula=gamma+RGB+2.7%2C+saturation+1.5%2C+sigmoidal+RGB+15+0.55&format=png',\n",
       "  'type': 'application/json',\n",
       "  'roles': ['tiles']},\n",
       " 'rendered_preview': {'title': 'Rendered preview',\n",
       "  'rel': 'preview',\n",
       "  'href': 'https://planetarycomputer.microsoft.com/api/data/v1/item/preview.png?collection=landsat-c2-l2&item=LT04_L2SP_005021_19820824_02_T2&assets=red&assets=green&assets=blue&color_formula=gamma+RGB+2.7%2C+saturation+1.5%2C+sigmoidal+RGB+15+0.55&format=png',\n",
       "  'roles': ['overview'],\n",
       "  'type': 'image/png'}}"
      ]
     },
     "execution_count": 140,
     "metadata": {},
     "output_type": "execute_result"
    }
   ],
   "source": [
    "assets"
   ]
  },
  {
   "cell_type": "code",
   "execution_count": 125,
   "metadata": {},
   "outputs": [
    {
     "data": {
      "application/vnd.jupyter.widget-view+json": {
       "model_id": "54034142837841b580704ecd2245c9df",
       "version_major": 2,
       "version_minor": 0
      },
      "text/plain": [
       "BokehModel(combine_events=True, render_bundle={'docs_json': {'c1007665-5882-4d8b-b14c-f1eacefa3e67': {'version…"
      ]
     },
     "execution_count": 125,
     "metadata": {},
     "output_type": "execute_result"
    }
   ],
   "source": [
    "pn.pane.PNG(assets[\"rendered_preview\"][\"href\"])"
   ]
  },
  {
   "cell_type": "code",
   "execution_count": 130,
   "metadata": {},
   "outputs": [],
   "source": [
    "tif = intake.readers.datatypes.TIFF('https://landsateuwest.blob.core.windows.net/landsat-c2/level-2/standard/tm/1982/005/021/LT04_L2SP_005021_19820824_20200918_02_T2/LT04_L2SP_005021_19820824_20200918_02_T2_ST_QA.TIF')"
   ]
  },
  {
   "cell_type": "code",
   "execution_count": 139,
   "metadata": {},
   "outputs": [
    {
     "ename": "FileNotFoundError",
     "evalue": "https://landsateuwest.blob.core.windows.net/landsat-c2/level-2/standard/tm/1982/005/021/LT04_L2SP_005021_19820824_20200918_02_T2/LT04_L2SP_005021_19820824_20200918_02_T2_ST_QA.TIF",
     "output_type": "error",
     "traceback": [
      "\u001b[0;31m---------------------------------------------------------------------------\u001b[0m",
      "\u001b[0;31mClientResponseError\u001b[0m                       Traceback (most recent call last)",
      "File \u001b[0;32m~/miniconda3/envs/landsat-ml-cookbook/lib/python3.10/site-packages/fsspec/implementations/http.py:419\u001b[0m, in \u001b[0;36mHTTPFileSystem._info\u001b[0;34m(self, url, **kwargs)\u001b[0m\n\u001b[1;32m    417\u001b[0m \u001b[38;5;28;01mtry\u001b[39;00m:\n\u001b[1;32m    418\u001b[0m     info\u001b[38;5;241m.\u001b[39mupdate(\n\u001b[0;32m--> 419\u001b[0m         \u001b[38;5;28;01mawait\u001b[39;00m _file_info(\n\u001b[1;32m    420\u001b[0m             \u001b[38;5;28mself\u001b[39m\u001b[38;5;241m.\u001b[39mencode_url(url),\n\u001b[1;32m    421\u001b[0m             size_policy\u001b[38;5;241m=\u001b[39mpolicy,\n\u001b[1;32m    422\u001b[0m             session\u001b[38;5;241m=\u001b[39msession,\n\u001b[1;32m    423\u001b[0m             \u001b[38;5;241m*\u001b[39m\u001b[38;5;241m*\u001b[39m\u001b[38;5;28mself\u001b[39m\u001b[38;5;241m.\u001b[39mkwargs,\n\u001b[1;32m    424\u001b[0m             \u001b[38;5;241m*\u001b[39m\u001b[38;5;241m*\u001b[39mkwargs,\n\u001b[1;32m    425\u001b[0m         )\n\u001b[1;32m    426\u001b[0m     )\n\u001b[1;32m    427\u001b[0m     \u001b[38;5;28;01mif\u001b[39;00m info\u001b[38;5;241m.\u001b[39mget(\u001b[38;5;124m\"\u001b[39m\u001b[38;5;124msize\u001b[39m\u001b[38;5;124m\"\u001b[39m) \u001b[38;5;129;01mis\u001b[39;00m \u001b[38;5;129;01mnot\u001b[39;00m \u001b[38;5;28;01mNone\u001b[39;00m:\n",
      "File \u001b[0;32m~/miniconda3/envs/landsat-ml-cookbook/lib/python3.10/site-packages/fsspec/implementations/http.py:832\u001b[0m, in \u001b[0;36m_file_info\u001b[0;34m(url, session, size_policy, **kwargs)\u001b[0m\n\u001b[1;32m    831\u001b[0m \u001b[38;5;28;01masync\u001b[39;00m \u001b[38;5;28;01mwith\u001b[39;00m r:\n\u001b[0;32m--> 832\u001b[0m     \u001b[43mr\u001b[49m\u001b[38;5;241;43m.\u001b[39;49m\u001b[43mraise_for_status\u001b[49m\u001b[43m(\u001b[49m\u001b[43m)\u001b[49m\n\u001b[1;32m    834\u001b[0m     \u001b[38;5;66;03m# TODO:\u001b[39;00m\n\u001b[1;32m    835\u001b[0m     \u001b[38;5;66;03m#  recognise lack of 'Accept-Ranges',\u001b[39;00m\n\u001b[1;32m    836\u001b[0m     \u001b[38;5;66;03m#                 or 'Accept-Ranges': 'none' (not 'bytes')\u001b[39;00m\n\u001b[1;32m    837\u001b[0m     \u001b[38;5;66;03m#  to mean streaming only, no random access => return None\u001b[39;00m\n",
      "File \u001b[0;32m~/miniconda3/envs/landsat-ml-cookbook/lib/python3.10/site-packages/aiohttp/client_reqrep.py:1060\u001b[0m, in \u001b[0;36mClientResponse.raise_for_status\u001b[0;34m(self)\u001b[0m\n\u001b[1;32m   1059\u001b[0m \u001b[38;5;28mself\u001b[39m\u001b[38;5;241m.\u001b[39mrelease()\n\u001b[0;32m-> 1060\u001b[0m \u001b[38;5;28;01mraise\u001b[39;00m ClientResponseError(\n\u001b[1;32m   1061\u001b[0m     \u001b[38;5;28mself\u001b[39m\u001b[38;5;241m.\u001b[39mrequest_info,\n\u001b[1;32m   1062\u001b[0m     \u001b[38;5;28mself\u001b[39m\u001b[38;5;241m.\u001b[39mhistory,\n\u001b[1;32m   1063\u001b[0m     status\u001b[38;5;241m=\u001b[39m\u001b[38;5;28mself\u001b[39m\u001b[38;5;241m.\u001b[39mstatus,\n\u001b[1;32m   1064\u001b[0m     message\u001b[38;5;241m=\u001b[39m\u001b[38;5;28mself\u001b[39m\u001b[38;5;241m.\u001b[39mreason,\n\u001b[1;32m   1065\u001b[0m     headers\u001b[38;5;241m=\u001b[39m\u001b[38;5;28mself\u001b[39m\u001b[38;5;241m.\u001b[39mheaders,\n\u001b[1;32m   1066\u001b[0m )\n",
      "\u001b[0;31mClientResponseError\u001b[0m: 404, message='The specified resource does not exist.', url=URL('https://landsateuwest.blob.core.windows.net/landsat-c2/level-2/standard/tm/1982/005/021/LT04_L2SP_005021_19820824_20200918_02_T2/LT04_L2SP_005021_19820824_20200918_02_T2_ST_QA.TIF')",
      "\nThe above exception was the direct cause of the following exception:\n",
      "\u001b[0;31mFileNotFoundError\u001b[0m                         Traceback (most recent call last)",
      "Cell \u001b[0;32mIn[139], line 1\u001b[0m\n\u001b[0;32m----> 1\u001b[0m ds \u001b[38;5;241m=\u001b[39m \u001b[43mintake\u001b[49m\u001b[38;5;241;43m.\u001b[39;49m\u001b[43mreaders\u001b[49m\u001b[38;5;241;43m.\u001b[39;49m\u001b[43mRasterIOXarrayReader\u001b[49m\u001b[43m(\u001b[49m\u001b[43mtif\u001b[49m\u001b[43m)\u001b[49m\u001b[38;5;241;43m.\u001b[39;49m\u001b[43mread\u001b[49m\u001b[43m(\u001b[49m\u001b[43msigner\u001b[49m\u001b[38;5;241;43m=\u001b[39;49m\u001b[43mplanetary_computer\u001b[49m\u001b[38;5;241;43m.\u001b[39;49m\u001b[43msign\u001b[49m\u001b[43m)\u001b[49m\n",
      "File \u001b[0;32m~/miniconda3/envs/landsat-ml-cookbook/lib/python3.10/site-packages/intake/readers/readers.py:96\u001b[0m, in \u001b[0;36mBaseReader.read\u001b[0;34m(self, *args, **kwargs)\u001b[0m\n\u001b[1;32m     94\u001b[0m kw\u001b[38;5;241m.\u001b[39mupdate(kwargs)\n\u001b[1;32m     95\u001b[0m args \u001b[38;5;241m=\u001b[39m kw\u001b[38;5;241m.\u001b[39mpop(\u001b[38;5;124m\"\u001b[39m\u001b[38;5;124margs\u001b[39m\u001b[38;5;124m\"\u001b[39m, ()) \u001b[38;5;129;01mor\u001b[39;00m args\n\u001b[0;32m---> 96\u001b[0m \u001b[38;5;28;01mreturn\u001b[39;00m \u001b[38;5;28;43mself\u001b[39;49m\u001b[38;5;241;43m.\u001b[39;49m\u001b[43m_read\u001b[49m\u001b[43m(\u001b[49m\u001b[38;5;241;43m*\u001b[39;49m\u001b[43margs\u001b[49m\u001b[43m,\u001b[49m\u001b[43m \u001b[49m\u001b[38;5;241;43m*\u001b[39;49m\u001b[38;5;241;43m*\u001b[39;49m\u001b[43mkw\u001b[49m\u001b[43m)\u001b[49m\n",
      "File \u001b[0;32m~/miniconda3/envs/landsat-ml-cookbook/lib/python3.10/site-packages/intake/readers/readers.py:947\u001b[0m, in \u001b[0;36mRasterIOXarrayReader._read\u001b[0;34m(self, data, concat_kwargs, **kwargs)\u001b[0m\n\u001b[1;32m    939\u001b[0m \u001b[38;5;28;01mfrom\u001b[39;00m \u001b[38;5;21;01mrioxarray\u001b[39;00m \u001b[38;5;28;01mimport\u001b[39;00m open_rasterio\n\u001b[1;32m    941\u001b[0m concat_kwargs \u001b[38;5;241m=\u001b[39m concat_kwargs \u001b[38;5;129;01mor\u001b[39;00m {\n\u001b[1;32m    942\u001b[0m     k: kwargs\u001b[38;5;241m.\u001b[39mpop(k)\n\u001b[1;32m    943\u001b[0m     \u001b[38;5;28;01mfor\u001b[39;00m k \u001b[38;5;129;01min\u001b[39;00m {\u001b[38;5;124m\"\u001b[39m\u001b[38;5;124mdim\u001b[39m\u001b[38;5;124m\"\u001b[39m, \u001b[38;5;124m\"\u001b[39m\u001b[38;5;124mdata_vars\u001b[39m\u001b[38;5;124m\"\u001b[39m, \u001b[38;5;124m\"\u001b[39m\u001b[38;5;124mcoords\u001b[39m\u001b[38;5;124m\"\u001b[39m, \u001b[38;5;124m\"\u001b[39m\u001b[38;5;124mcompat\u001b[39m\u001b[38;5;124m\"\u001b[39m, \u001b[38;5;124m\"\u001b[39m\u001b[38;5;124mposition\u001b[39m\u001b[38;5;124m\"\u001b[39m, \u001b[38;5;124m\"\u001b[39m\u001b[38;5;124mjoin\u001b[39m\u001b[38;5;124m\"\u001b[39m}\n\u001b[1;32m    944\u001b[0m     \u001b[38;5;28;01mif\u001b[39;00m k \u001b[38;5;129;01min\u001b[39;00m kwargs\n\u001b[1;32m    945\u001b[0m }\n\u001b[0;32m--> 947\u001b[0m \u001b[38;5;28;01mwith\u001b[39;00m fsspec\u001b[38;5;241m.\u001b[39mopen_files(data\u001b[38;5;241m.\u001b[39murl, \u001b[38;5;241m*\u001b[39m\u001b[38;5;241m*\u001b[39m(data\u001b[38;5;241m.\u001b[39mstorage_options \u001b[38;5;129;01mor\u001b[39;00m {})) \u001b[38;5;28;01mas\u001b[39;00m ofs:\n\u001b[1;32m    948\u001b[0m     bits \u001b[38;5;241m=\u001b[39m [open_rasterio(of, \u001b[38;5;241m*\u001b[39m\u001b[38;5;241m*\u001b[39mkwargs) \u001b[38;5;28;01mfor\u001b[39;00m of \u001b[38;5;129;01min\u001b[39;00m ofs]\n\u001b[1;32m    949\u001b[0m \u001b[38;5;28;01mif\u001b[39;00m \u001b[38;5;28mlen\u001b[39m(bits) \u001b[38;5;241m==\u001b[39m \u001b[38;5;241m1\u001b[39m:\n",
      "File \u001b[0;32m~/miniconda3/envs/landsat-ml-cookbook/lib/python3.10/site-packages/fsspec/core.py:178\u001b[0m, in \u001b[0;36mOpenFiles.__enter__\u001b[0;34m(self)\u001b[0m\n\u001b[1;32m    176\u001b[0m     \u001b[38;5;28;01melse\u001b[39;00m:\n\u001b[1;32m    177\u001b[0m         \u001b[38;5;28;01mbreak\u001b[39;00m\n\u001b[0;32m--> 178\u001b[0m \u001b[38;5;28;01mreturn\u001b[39;00m [s\u001b[38;5;241m.\u001b[39m\u001b[38;5;21m__enter__\u001b[39m() \u001b[38;5;28;01mfor\u001b[39;00m s \u001b[38;5;129;01min\u001b[39;00m \u001b[38;5;28mself\u001b[39m]\n",
      "File \u001b[0;32m~/miniconda3/envs/landsat-ml-cookbook/lib/python3.10/site-packages/fsspec/core.py:178\u001b[0m, in \u001b[0;36m<listcomp>\u001b[0;34m(.0)\u001b[0m\n\u001b[1;32m    176\u001b[0m     \u001b[38;5;28;01melse\u001b[39;00m:\n\u001b[1;32m    177\u001b[0m         \u001b[38;5;28;01mbreak\u001b[39;00m\n\u001b[0;32m--> 178\u001b[0m \u001b[38;5;28;01mreturn\u001b[39;00m [\u001b[43ms\u001b[49m\u001b[38;5;241;43m.\u001b[39;49m\u001b[38;5;21;43m__enter__\u001b[39;49m\u001b[43m(\u001b[49m\u001b[43m)\u001b[49m \u001b[38;5;28;01mfor\u001b[39;00m s \u001b[38;5;129;01min\u001b[39;00m \u001b[38;5;28mself\u001b[39m]\n",
      "File \u001b[0;32m~/miniconda3/envs/landsat-ml-cookbook/lib/python3.10/site-packages/fsspec/core.py:103\u001b[0m, in \u001b[0;36mOpenFile.__enter__\u001b[0;34m(self)\u001b[0m\n\u001b[1;32m    100\u001b[0m \u001b[38;5;28;01mdef\u001b[39;00m \u001b[38;5;21m__enter__\u001b[39m(\u001b[38;5;28mself\u001b[39m):\n\u001b[1;32m    101\u001b[0m     mode \u001b[38;5;241m=\u001b[39m \u001b[38;5;28mself\u001b[39m\u001b[38;5;241m.\u001b[39mmode\u001b[38;5;241m.\u001b[39mreplace(\u001b[38;5;124m\"\u001b[39m\u001b[38;5;124mt\u001b[39m\u001b[38;5;124m\"\u001b[39m, \u001b[38;5;124m\"\u001b[39m\u001b[38;5;124m\"\u001b[39m)\u001b[38;5;241m.\u001b[39mreplace(\u001b[38;5;124m\"\u001b[39m\u001b[38;5;124mb\u001b[39m\u001b[38;5;124m\"\u001b[39m, \u001b[38;5;124m\"\u001b[39m\u001b[38;5;124m\"\u001b[39m) \u001b[38;5;241m+\u001b[39m \u001b[38;5;124m\"\u001b[39m\u001b[38;5;124mb\u001b[39m\u001b[38;5;124m\"\u001b[39m\n\u001b[0;32m--> 103\u001b[0m     f \u001b[38;5;241m=\u001b[39m \u001b[38;5;28;43mself\u001b[39;49m\u001b[38;5;241;43m.\u001b[39;49m\u001b[43mfs\u001b[49m\u001b[38;5;241;43m.\u001b[39;49m\u001b[43mopen\u001b[49m\u001b[43m(\u001b[49m\u001b[38;5;28;43mself\u001b[39;49m\u001b[38;5;241;43m.\u001b[39;49m\u001b[43mpath\u001b[49m\u001b[43m,\u001b[49m\u001b[43m \u001b[49m\u001b[43mmode\u001b[49m\u001b[38;5;241;43m=\u001b[39;49m\u001b[43mmode\u001b[49m\u001b[43m)\u001b[49m\n\u001b[1;32m    105\u001b[0m     \u001b[38;5;28mself\u001b[39m\u001b[38;5;241m.\u001b[39mfobjects \u001b[38;5;241m=\u001b[39m [f]\n\u001b[1;32m    107\u001b[0m     \u001b[38;5;28;01mif\u001b[39;00m \u001b[38;5;28mself\u001b[39m\u001b[38;5;241m.\u001b[39mcompression \u001b[38;5;129;01mis\u001b[39;00m \u001b[38;5;129;01mnot\u001b[39;00m \u001b[38;5;28;01mNone\u001b[39;00m:\n",
      "File \u001b[0;32m~/miniconda3/envs/landsat-ml-cookbook/lib/python3.10/site-packages/fsspec/spec.py:1293\u001b[0m, in \u001b[0;36mAbstractFileSystem.open\u001b[0;34m(self, path, mode, block_size, cache_options, compression, **kwargs)\u001b[0m\n\u001b[1;32m   1291\u001b[0m \u001b[38;5;28;01melse\u001b[39;00m:\n\u001b[1;32m   1292\u001b[0m     ac \u001b[38;5;241m=\u001b[39m kwargs\u001b[38;5;241m.\u001b[39mpop(\u001b[38;5;124m\"\u001b[39m\u001b[38;5;124mautocommit\u001b[39m\u001b[38;5;124m\"\u001b[39m, \u001b[38;5;129;01mnot\u001b[39;00m \u001b[38;5;28mself\u001b[39m\u001b[38;5;241m.\u001b[39m_intrans)\n\u001b[0;32m-> 1293\u001b[0m     f \u001b[38;5;241m=\u001b[39m \u001b[38;5;28;43mself\u001b[39;49m\u001b[38;5;241;43m.\u001b[39;49m\u001b[43m_open\u001b[49m\u001b[43m(\u001b[49m\n\u001b[1;32m   1294\u001b[0m \u001b[43m        \u001b[49m\u001b[43mpath\u001b[49m\u001b[43m,\u001b[49m\n\u001b[1;32m   1295\u001b[0m \u001b[43m        \u001b[49m\u001b[43mmode\u001b[49m\u001b[38;5;241;43m=\u001b[39;49m\u001b[43mmode\u001b[49m\u001b[43m,\u001b[49m\n\u001b[1;32m   1296\u001b[0m \u001b[43m        \u001b[49m\u001b[43mblock_size\u001b[49m\u001b[38;5;241;43m=\u001b[39;49m\u001b[43mblock_size\u001b[49m\u001b[43m,\u001b[49m\n\u001b[1;32m   1297\u001b[0m \u001b[43m        \u001b[49m\u001b[43mautocommit\u001b[49m\u001b[38;5;241;43m=\u001b[39;49m\u001b[43mac\u001b[49m\u001b[43m,\u001b[49m\n\u001b[1;32m   1298\u001b[0m \u001b[43m        \u001b[49m\u001b[43mcache_options\u001b[49m\u001b[38;5;241;43m=\u001b[39;49m\u001b[43mcache_options\u001b[49m\u001b[43m,\u001b[49m\n\u001b[1;32m   1299\u001b[0m \u001b[43m        \u001b[49m\u001b[38;5;241;43m*\u001b[39;49m\u001b[38;5;241;43m*\u001b[39;49m\u001b[43mkwargs\u001b[49m\u001b[43m,\u001b[49m\n\u001b[1;32m   1300\u001b[0m \u001b[43m    \u001b[49m\u001b[43m)\u001b[49m\n\u001b[1;32m   1301\u001b[0m     \u001b[38;5;28;01mif\u001b[39;00m compression \u001b[38;5;129;01mis\u001b[39;00m \u001b[38;5;129;01mnot\u001b[39;00m \u001b[38;5;28;01mNone\u001b[39;00m:\n\u001b[1;32m   1302\u001b[0m         \u001b[38;5;28;01mfrom\u001b[39;00m \u001b[38;5;21;01mfsspec\u001b[39;00m\u001b[38;5;21;01m.\u001b[39;00m\u001b[38;5;21;01mcompression\u001b[39;00m \u001b[38;5;28;01mimport\u001b[39;00m compr\n",
      "File \u001b[0;32m~/miniconda3/envs/landsat-ml-cookbook/lib/python3.10/site-packages/fsspec/implementations/http.py:358\u001b[0m, in \u001b[0;36mHTTPFileSystem._open\u001b[0;34m(self, path, mode, block_size, autocommit, cache_type, cache_options, size, **kwargs)\u001b[0m\n\u001b[1;32m    356\u001b[0m kw[\u001b[38;5;124m\"\u001b[39m\u001b[38;5;124masynchronous\u001b[39m\u001b[38;5;124m\"\u001b[39m] \u001b[38;5;241m=\u001b[39m \u001b[38;5;28mself\u001b[39m\u001b[38;5;241m.\u001b[39masynchronous\n\u001b[1;32m    357\u001b[0m kw\u001b[38;5;241m.\u001b[39mupdate(kwargs)\n\u001b[0;32m--> 358\u001b[0m size \u001b[38;5;241m=\u001b[39m size \u001b[38;5;129;01mor\u001b[39;00m \u001b[38;5;28;43mself\u001b[39;49m\u001b[38;5;241;43m.\u001b[39;49m\u001b[43minfo\u001b[49m\u001b[43m(\u001b[49m\u001b[43mpath\u001b[49m\u001b[43m,\u001b[49m\u001b[43m \u001b[49m\u001b[38;5;241;43m*\u001b[39;49m\u001b[38;5;241;43m*\u001b[39;49m\u001b[43mkwargs\u001b[49m\u001b[43m)\u001b[49m[\u001b[38;5;124m\"\u001b[39m\u001b[38;5;124msize\u001b[39m\u001b[38;5;124m\"\u001b[39m]\n\u001b[1;32m    359\u001b[0m session \u001b[38;5;241m=\u001b[39m sync(\u001b[38;5;28mself\u001b[39m\u001b[38;5;241m.\u001b[39mloop, \u001b[38;5;28mself\u001b[39m\u001b[38;5;241m.\u001b[39mset_session)\n\u001b[1;32m    360\u001b[0m \u001b[38;5;28;01mif\u001b[39;00m block_size \u001b[38;5;129;01mand\u001b[39;00m size:\n",
      "File \u001b[0;32m~/miniconda3/envs/landsat-ml-cookbook/lib/python3.10/site-packages/fsspec/asyn.py:118\u001b[0m, in \u001b[0;36msync_wrapper.<locals>.wrapper\u001b[0;34m(*args, **kwargs)\u001b[0m\n\u001b[1;32m    115\u001b[0m \u001b[38;5;129m@functools\u001b[39m\u001b[38;5;241m.\u001b[39mwraps(func)\n\u001b[1;32m    116\u001b[0m \u001b[38;5;28;01mdef\u001b[39;00m \u001b[38;5;21mwrapper\u001b[39m(\u001b[38;5;241m*\u001b[39margs, \u001b[38;5;241m*\u001b[39m\u001b[38;5;241m*\u001b[39mkwargs):\n\u001b[1;32m    117\u001b[0m     \u001b[38;5;28mself\u001b[39m \u001b[38;5;241m=\u001b[39m obj \u001b[38;5;129;01mor\u001b[39;00m args[\u001b[38;5;241m0\u001b[39m]\n\u001b[0;32m--> 118\u001b[0m     \u001b[38;5;28;01mreturn\u001b[39;00m \u001b[43msync\u001b[49m\u001b[43m(\u001b[49m\u001b[38;5;28;43mself\u001b[39;49m\u001b[38;5;241;43m.\u001b[39;49m\u001b[43mloop\u001b[49m\u001b[43m,\u001b[49m\u001b[43m \u001b[49m\u001b[43mfunc\u001b[49m\u001b[43m,\u001b[49m\u001b[43m \u001b[49m\u001b[38;5;241;43m*\u001b[39;49m\u001b[43margs\u001b[49m\u001b[43m,\u001b[49m\u001b[43m \u001b[49m\u001b[38;5;241;43m*\u001b[39;49m\u001b[38;5;241;43m*\u001b[39;49m\u001b[43mkwargs\u001b[49m\u001b[43m)\u001b[49m\n",
      "File \u001b[0;32m~/miniconda3/envs/landsat-ml-cookbook/lib/python3.10/site-packages/fsspec/asyn.py:103\u001b[0m, in \u001b[0;36msync\u001b[0;34m(loop, func, timeout, *args, **kwargs)\u001b[0m\n\u001b[1;32m    101\u001b[0m     \u001b[38;5;28;01mraise\u001b[39;00m FSTimeoutError \u001b[38;5;28;01mfrom\u001b[39;00m \u001b[38;5;21;01mreturn_result\u001b[39;00m\n\u001b[1;32m    102\u001b[0m \u001b[38;5;28;01melif\u001b[39;00m \u001b[38;5;28misinstance\u001b[39m(return_result, \u001b[38;5;167;01mBaseException\u001b[39;00m):\n\u001b[0;32m--> 103\u001b[0m     \u001b[38;5;28;01mraise\u001b[39;00m return_result\n\u001b[1;32m    104\u001b[0m \u001b[38;5;28;01melse\u001b[39;00m:\n\u001b[1;32m    105\u001b[0m     \u001b[38;5;28;01mreturn\u001b[39;00m return_result\n",
      "File \u001b[0;32m~/miniconda3/envs/landsat-ml-cookbook/lib/python3.10/site-packages/fsspec/asyn.py:56\u001b[0m, in \u001b[0;36m_runner\u001b[0;34m(event, coro, result, timeout)\u001b[0m\n\u001b[1;32m     54\u001b[0m     coro \u001b[38;5;241m=\u001b[39m asyncio\u001b[38;5;241m.\u001b[39mwait_for(coro, timeout\u001b[38;5;241m=\u001b[39mtimeout)\n\u001b[1;32m     55\u001b[0m \u001b[38;5;28;01mtry\u001b[39;00m:\n\u001b[0;32m---> 56\u001b[0m     result[\u001b[38;5;241m0\u001b[39m] \u001b[38;5;241m=\u001b[39m \u001b[38;5;28;01mawait\u001b[39;00m coro\n\u001b[1;32m     57\u001b[0m \u001b[38;5;28;01mexcept\u001b[39;00m \u001b[38;5;167;01mException\u001b[39;00m \u001b[38;5;28;01mas\u001b[39;00m ex:\n\u001b[1;32m     58\u001b[0m     result[\u001b[38;5;241m0\u001b[39m] \u001b[38;5;241m=\u001b[39m ex\n",
      "File \u001b[0;32m~/miniconda3/envs/landsat-ml-cookbook/lib/python3.10/site-packages/fsspec/implementations/http.py:432\u001b[0m, in \u001b[0;36mHTTPFileSystem._info\u001b[0;34m(self, url, **kwargs)\u001b[0m\n\u001b[1;32m    429\u001b[0m     \u001b[38;5;28;01mexcept\u001b[39;00m \u001b[38;5;167;01mException\u001b[39;00m \u001b[38;5;28;01mas\u001b[39;00m exc:\n\u001b[1;32m    430\u001b[0m         \u001b[38;5;28;01mif\u001b[39;00m policy \u001b[38;5;241m==\u001b[39m \u001b[38;5;124m\"\u001b[39m\u001b[38;5;124mget\u001b[39m\u001b[38;5;124m\"\u001b[39m:\n\u001b[1;32m    431\u001b[0m             \u001b[38;5;66;03m# If get failed, then raise a FileNotFoundError\u001b[39;00m\n\u001b[0;32m--> 432\u001b[0m             \u001b[38;5;28;01mraise\u001b[39;00m \u001b[38;5;167;01mFileNotFoundError\u001b[39;00m(url) \u001b[38;5;28;01mfrom\u001b[39;00m \u001b[38;5;21;01mexc\u001b[39;00m\n\u001b[1;32m    433\u001b[0m         logger\u001b[38;5;241m.\u001b[39mdebug(\u001b[38;5;28mstr\u001b[39m(exc))\n\u001b[1;32m    435\u001b[0m \u001b[38;5;28;01mreturn\u001b[39;00m {\u001b[38;5;124m\"\u001b[39m\u001b[38;5;124mname\u001b[39m\u001b[38;5;124m\"\u001b[39m: url, \u001b[38;5;124m\"\u001b[39m\u001b[38;5;124msize\u001b[39m\u001b[38;5;124m\"\u001b[39m: \u001b[38;5;28;01mNone\u001b[39;00m, \u001b[38;5;241m*\u001b[39m\u001b[38;5;241m*\u001b[39minfo, \u001b[38;5;124m\"\u001b[39m\u001b[38;5;124mtype\u001b[39m\u001b[38;5;124m\"\u001b[39m: \u001b[38;5;124m\"\u001b[39m\u001b[38;5;124mfile\u001b[39m\u001b[38;5;124m\"\u001b[39m}\n",
      "\u001b[0;31mFileNotFoundError\u001b[0m: https://landsateuwest.blob.core.windows.net/landsat-c2/level-2/standard/tm/1982/005/021/LT04_L2SP_005021_19820824_20200918_02_T2/LT04_L2SP_005021_19820824_20200918_02_T2_ST_QA.TIF"
     ]
    }
   ],
   "source": [
    "ds = intake.readers.RasterIOXarrayReader(tif).read(signer=planetary_computer.sign)"
   ]
  },
  {
   "cell_type": "code",
   "execution_count": null,
   "metadata": {},
   "outputs": [],
   "source": []
  }
 ],
 "metadata": {
  "kernelspec": {
   "display_name": "Python 3 (ipykernel)",
   "language": "python",
   "name": "python3"
  },
  "language_info": {
   "codemirror_mode": {
    "name": "ipython",
    "version": 3
   },
   "file_extension": ".py",
   "mimetype": "text/x-python",
   "name": "python",
   "nbconvert_exporter": "python",
   "pygments_lexer": "ipython3",
   "version": "3.10.13"
  },
  "nbdime-conflicts": {
   "local_diff": [
    {
     "diff": [
      {
       "diff": [
        {
         "key": 0,
         "op": "addrange",
         "valuelist": [
          "Python 3"
         ]
        },
        {
         "key": 0,
         "length": 1,
         "op": "removerange"
        }
       ],
       "key": "display_name",
       "op": "patch"
      }
     ],
     "key": "kernelspec",
     "op": "patch"
    }
   ],
   "remote_diff": [
    {
     "diff": [
      {
       "diff": [
        {
         "key": 0,
         "op": "addrange",
         "valuelist": [
          "Python3"
         ]
        },
        {
         "key": 0,
         "length": 1,
         "op": "removerange"
        }
       ],
       "key": "display_name",
       "op": "patch"
      }
     ],
     "key": "kernelspec",
     "op": "patch"
    }
   ]
  },
  "toc-autonumbering": false,
  "vscode": {
   "interpreter": {
    "hash": "d2ed0a8e3e051554a0b51e3917f81e884b169a97835ad70210b3681eb3cb39c7"
   }
  }
 },
 "nbformat": 4,
 "nbformat_minor": 4
}
